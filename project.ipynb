{
 "cells": [
  {
   "cell_type": "markdown",
   "metadata": {},
   "source": [
    "# Знакомство со средой"
   ]
  },
  {
   "cell_type": "code",
   "execution_count": 1,
   "metadata": {},
   "outputs": [],
   "source": [
    "from typing import *\n",
    "import gymnasium as gym\n",
    "import torch\n",
    "import matplotlib.pyplot as plt\n",
    "import numpy as np\n",
    "from numpy.typing import NDArray"
   ]
  },
  {
   "cell_type": "code",
   "execution_count": 2,
   "metadata": {},
   "outputs": [
    {
     "name": "stderr",
     "output_type": "stream",
     "text": [
      "A.L.E: Arcade Learning Environment (version 0.8.1+53f58b7)\n",
      "[Powered by Stella]\n"
     ]
    }
   ],
   "source": [
    "env = gym.make(\"ALE/Assault-ram-v5\", render_mode=\"rgb_array\")"
   ]
  },
  {
   "cell_type": "code",
   "execution_count": 3,
   "metadata": {},
   "outputs": [
    {
     "data": {
      "text/plain": [
       "Discrete(7)"
      ]
     },
     "execution_count": 3,
     "metadata": {},
     "output_type": "execute_result"
    }
   ],
   "source": [
    "env.action_space"
   ]
  },
  {
   "cell_type": "code",
   "execution_count": 4,
   "metadata": {},
   "outputs": [
    {
     "data": {
      "text/plain": [
       "Box(0, 255, (128,), uint8)"
      ]
     },
     "execution_count": 4,
     "metadata": {},
     "output_type": "execute_result"
    }
   ],
   "source": [
    "env.observation_space"
   ]
  },
  {
   "cell_type": "code",
   "execution_count": 5,
   "metadata": {},
   "outputs": [
    {
     "data": {
      "text/plain": [
       "(array([  0,   0,   0,   0,   0,   0,   0,   0,   0,   0,   0,  96, 254,\n",
       "          0,   0,   0,   6, 100, 100, 100,   0,   0,   0,   0,  88, 254,\n",
       "          0,   0, 192,   0, 136, 252,   2,   2,   2,   2, 130, 130, 130,\n",
       "          6, 188, 255,   0,  25,   0, 253,   0, 253, 128,  64, 128, 128,\n",
       "         64, 128,   0,   0,   0,   0,   0,   0,   0,   0,  16,  16,   0,\n",
       "        253,   0, 127, 115, 100,  64,  19,  24,   0, 253,   0,   0,   0,\n",
       "          0,   0,   2, 130,   0, 254,   0, 254,   0, 254,   0, 254,   0,\n",
       "        254, 144,  60,   0,   0,   0,   0,   0,  80, 254,   4, 207,  68,\n",
       "          0,  10,   0,   4,   0,   0, 255, 248,   0,   0,  64,   0, 172,\n",
       "          0,   0,   0,  15, 252, 157, 251,  64, 251, 112, 243], dtype=uint8),\n",
       " {'lives': 4, 'episode_frame_number': 0, 'frame_number': 0})"
      ]
     },
     "execution_count": 5,
     "metadata": {},
     "output_type": "execute_result"
    }
   ],
   "source": [
    "env.reset()"
   ]
  },
  {
   "cell_type": "code",
   "execution_count": 6,
   "metadata": {},
   "outputs": [
    {
     "data": {
      "text/plain": [
       "(array([  0,   0,   0,   0,   0,   0,   0,   0,   0,   0,   0,  96, 254,\n",
       "          0,   0,   0,   6, 100, 100, 100,   0, 198,   0,   0,   0, 253,\n",
       "          0,   0, 192,   0, 136, 252,   2,  66, 194,  66, 194,  51, 194,\n",
       "          6, 188, 255,   0,  25,   0, 253,   0, 253, 128,  64, 128, 128,\n",
       "         64, 128,   0,   0,   0,   0,   0,   0,  28,  28,  17,  17,   0,\n",
       "        253,   0, 127,  51,  36,  64,  19,  24,   0, 253,   0,   0,   0,\n",
       "          0,   0,  66, 194,   0, 254,   0, 254,   0, 254,   0, 254,   0,\n",
       "        254, 144,  60,   0,   0,   0,   0,   0,  80, 254,   4,  50,  72,\n",
       "          0,  10,   0,   8,   0,   0, 255, 248,   0,   0,  64,   0, 154,\n",
       "          0,   0,   0, 248, 251,  15, 252,  64, 251,   0, 245], dtype=uint8),\n",
       " 0.0,\n",
       " False,\n",
       " False,\n",
       " {'lives': 4, 'episode_frame_number': 4, 'frame_number': 4})"
      ]
     },
     "execution_count": 6,
     "metadata": {},
     "output_type": "execute_result"
    }
   ],
   "source": [
    "env.step(env.action_space.sample())"
   ]
  },
  {
   "cell_type": "code",
   "execution_count": 7,
   "metadata": {},
   "outputs": [
    {
     "name": "stderr",
     "output_type": "stream",
     "text": [
      "/home/andrew/Projects/2024_1/machine_learning/lib/python3.11/site-packages/gymnasium/utils/passive_env_checker.py:335: UserWarning: \u001b[33mWARN: No render fps was declared in the environment (env.metadata['render_fps'] is None or not defined), rendering may occur at inconsistent fps.\u001b[0m\n",
      "  logger.warn(\n"
     ]
    },
    {
     "data": {
      "text/plain": [
       "<matplotlib.image.AxesImage at 0x7f88389d61d0>"
      ]
     },
     "execution_count": 7,
     "metadata": {},
     "output_type": "execute_result"
    },
    {
     "data": {
      "image/png": "[encoded data removed]",
      "text/plain": [
       "<Figure size 640x480 with 1 Axes>"
      ]
     },
     "metadata": {},
     "output_type": "display_data"
    }
   ],
   "source": [
    "plt.imshow(env.render())"
   ]
  },
  {
   "cell_type": "code",
   "execution_count": 8,
   "metadata": {},
   "outputs": [],
   "source": [
    "env.close()"
   ]
  },
  {
   "cell_type": "code",
   "execution_count": 8,
   "metadata": {},
   "outputs": [],
   "source": [
    "env = gym.make(\"ALE/Assault-ram-v5\")"
   ]
  },
  {
   "cell_type": "code",
   "execution_count": 10,
   "metadata": {},
   "outputs": [],
   "source": [
    "def eps_greedy_policy(n_action: int, eps: float, Q: Any) -> float:\n",
    "    probabilities = torch.ones(n_action) * eps / n_action\n",
    "    best_action = torch.argmax(Q).item()\n",
    "    probabilities[best_action] += 1 - eps\n",
    "    return torch.multinomial(torch.ones(len(probabilities)), 1).item()"
   ]
  },
  {
   "cell_type": "code",
   "execution_count": 11,
   "metadata": {},
   "outputs": [
    {
     "data": {
      "text/plain": [
       "(array([  0,   0,   0,   0,   0,   0,   0,   0,   0,   0,   0,  96, 254,\n",
       "          0,   0,   0,   6, 100, 100, 100,   0,   0,   0,   0,  88, 254,\n",
       "          0,   0, 192,   0, 136, 252,   2,   2,   2,   2, 130, 130, 130,\n",
       "          6, 188, 255,   0,  25,   0, 253,   0, 253, 128,  64, 128, 128,\n",
       "         64, 128,   0,   0,   0,   0,   0,   0,   0,   0,  16,  16,   0,\n",
       "        253,   0, 127, 115, 100,  64,  19,  24,   0, 253,   0,   0,   0,\n",
       "          0,   0,   2, 130,   0, 254,   0, 254,   0, 254,   0, 254,   0,\n",
       "        254, 144,  60,   0,   0,   0,   0,   0,  80, 254,   4, 207,  68,\n",
       "          0,  10,   0,   4,   0,   0, 255, 248,   0,   0,  64,   0, 172,\n",
       "          0,   0,   0,  15, 252, 157, 251,  64, 251, 112, 243], dtype=uint8),\n",
       " {'lives': 4, 'episode_frame_number': 0, 'frame_number': 0})"
      ]
     },
     "execution_count": 11,
     "metadata": {},
     "output_type": "execute_result"
    }
   ],
   "source": [
    "env.reset()"
   ]
  },
  {
   "cell_type": "code",
   "execution_count": 22,
   "metadata": {},
   "outputs": [],
   "source": [
    "def step_print(string: str, iteration: int, step: int) -> None:\n",
    "    if iteration % step == 0:\n",
    "        print(string)"
   ]
  },
  {
   "cell_type": "code",
   "execution_count": 13,
   "metadata": {},
   "outputs": [
    {
     "name": "stdout",
     "output_type": "stream",
     "text": [
      "0\n",
      "10\n",
      "20\n",
      "30\n",
      "40\n",
      "50\n",
      "60\n",
      "70\n",
      "80\n",
      "90\n"
     ]
    }
   ],
   "source": [
    "n_episodes = 100\n",
    "n_action = 7\n",
    "\n",
    "action_count = [0 for _ in range(n_action)]\n",
    "action_total_reward = [0 for _ in range(n_action)]\n",
    "action_avg_reward: list[list[float | None]] = [[] for _ in range(n_action)]\n",
    "\n",
    "path: list[list[tuple[NDArray[np.uint8], int]]] = list() # state, action\n",
    "rewards: list[float] = list()\n",
    "\n",
    "eps: Final[float] = 0.2\n",
    "Q = torch.zeros(n_action)\n",
    "\n",
    "for episode in range(n_episodes):\n",
    "    path.append([])\n",
    "    env.reset()\n",
    "    total_reward = 0.\n",
    "    while True:\n",
    "        action = eps_greedy_policy(n_action, eps, Q)\n",
    "        state, reward, is_terminated, is_truncated, _ = env.step(action)\n",
    "\n",
    "        action_count[action] += 1\n",
    "        action_total_reward[action] += reward\n",
    "        total_reward += reward\n",
    "\n",
    "        Q[action] = action_total_reward[action] / action_count[action]\n",
    "        for i in range(n_action):\n",
    "            if action_count[i] != 0:\n",
    "                action_avg_reward[i].append(action_total_reward[i] / action_count[i])\n",
    "            else:\n",
    "                action_avg_reward[i].append(None)\n",
    "        path[-1].append([state, action])\n",
    "        if is_terminated or is_truncated:\n",
    "            break\n",
    "    step_print(episode, episode, 10)\n",
    "    rewards.append(total_reward)"
   ]
  },
  {
   "cell_type": "code",
   "execution_count": 14,
   "metadata": {},
   "outputs": [
    {
     "data": {
      "text/plain": [
       "tensor([0.4707, 0.4310, 0.3700, 0.4219, 0.3938, 0.4076, 0.4343])"
      ]
     },
     "execution_count": 14,
     "metadata": {},
     "output_type": "execute_result"
    }
   ],
   "source": [
    "Q"
   ]
  },
  {
   "cell_type": "code",
   "execution_count": 15,
   "metadata": {},
   "outputs": [
    {
     "data": {
      "text/plain": [
       "([8165, 8234, 8117, 8064, 8212, 8295, 8027],\n",
       " [3843.0, 3549.0, 3003.0, 3402.0, 3234.0, 3381.0, 3486.0])"
      ]
     },
     "execution_count": 15,
     "metadata": {},
     "output_type": "execute_result"
    }
   ],
   "source": [
    "action_count, action_total_reward"
   ]
  },
  {
   "cell_type": "code",
   "execution_count": null,
   "metadata": {},
   "outputs": [],
   "source": [
    "path"
   ]
  },
  {
   "cell_type": "code",
   "execution_count": 17,
   "metadata": {},
   "outputs": [
    {
     "data": {
      "text/plain": [
       "[315.0,\n",
       " 210.0,\n",
       " 231.0,\n",
       " 378.0,\n",
       " 189.0,\n",
       " 294.0,\n",
       " 315.0,\n",
       " 189.0,\n",
       " 273.0,\n",
       " 126.0,\n",
       " 189.0,\n",
       " 189.0,\n",
       " 189.0,\n",
       " 231.0,\n",
       " 231.0,\n",
       " 189.0,\n",
       " 231.0,\n",
       " 168.0,\n",
       " 210.0,\n",
       " 126.0,\n",
       " 378.0,\n",
       " 231.0,\n",
       " 105.0,\n",
       " 189.0,\n",
       " 168.0,\n",
       " 273.0,\n",
       " 399.0,\n",
       " 189.0,\n",
       " 189.0,\n",
       " 294.0,\n",
       " 315.0,\n",
       " 315.0,\n",
       " 189.0,\n",
       " 315.0,\n",
       " 231.0,\n",
       " 294.0,\n",
       " 189.0,\n",
       " 189.0,\n",
       " 189.0,\n",
       " 336.0,\n",
       " 315.0,\n",
       " 336.0,\n",
       " 336.0,\n",
       " 147.0,\n",
       " 231.0,\n",
       " 336.0,\n",
       " 189.0,\n",
       " 189.0,\n",
       " 189.0,\n",
       " 210.0,\n",
       " 147.0,\n",
       " 189.0,\n",
       " 231.0,\n",
       " 294.0,\n",
       " 273.0,\n",
       " 294.0,\n",
       " 231.0,\n",
       " 336.0,\n",
       " 105.0,\n",
       " 357.0,\n",
       " 168.0,\n",
       " 189.0,\n",
       " 147.0,\n",
       " 189.0,\n",
       " 231.0,\n",
       " 231.0,\n",
       " 189.0,\n",
       " 273.0,\n",
       " 315.0,\n",
       " 168.0,\n",
       " 189.0,\n",
       " 189.0,\n",
       " 189.0,\n",
       " 273.0,\n",
       " 294.0,\n",
       " 189.0,\n",
       " 189.0,\n",
       " 378.0,\n",
       " 168.0,\n",
       " 294.0,\n",
       " 147.0,\n",
       " 252.0,\n",
       " 189.0,\n",
       " 252.0,\n",
       " 168.0,\n",
       " 399.0,\n",
       " 399.0,\n",
       " 231.0,\n",
       " 210.0,\n",
       " 315.0,\n",
       " 252.0,\n",
       " 189.0,\n",
       " 273.0,\n",
       " 273.0,\n",
       " 357.0,\n",
       " 168.0,\n",
       " 189.0,\n",
       " 189.0,\n",
       " 336.0,\n",
       " 273.0]"
      ]
     },
     "execution_count": 17,
     "metadata": {},
     "output_type": "execute_result"
    }
   ],
   "source": [
    "rewards"
   ]
  },
  {
   "cell_type": "code",
   "execution_count": 18,
   "metadata": {},
   "outputs": [
    {
     "data": {
      "text/plain": [
       "'Точечная оценка: 238.98'"
      ]
     },
     "execution_count": 18,
     "metadata": {},
     "output_type": "execute_result"
    }
   ],
   "source": [
    "rewards_mean = np.mean(rewards)\n",
    "f\"Точечная оценка: {rewards_mean}\""
   ]
  },
  {
   "cell_type": "code",
   "execution_count": 19,
   "metadata": {},
   "outputs": [
    {
     "data": {
      "text/plain": [
       "71.31010383592853"
      ]
     },
     "execution_count": 19,
     "metadata": {},
     "output_type": "execute_result"
    }
   ],
   "source": [
    "unbiased_variance = np.sqrt(sum(np.power(np.array(rewards) - np.mean(rewards), 2)) / (len(rewards) - 1))\n",
    "unbiased_variance"
   ]
  },
  {
   "cell_type": "code",
   "execution_count": 20,
   "metadata": {},
   "outputs": [],
   "source": [
    "t = 0.99\n",
    "t_y = 2.627\n",
    "delta = t_y * unbiased_variance / np.sqrt(len(rewards))"
   ]
  },
  {
   "cell_type": "code",
   "execution_count": 21,
   "metadata": {},
   "outputs": [
    {
     "data": {
      "text/plain": [
       "'Интервальная оценка: (220.24683572230157, 257.7131642776984)'"
      ]
     },
     "execution_count": 21,
     "metadata": {},
     "output_type": "execute_result"
    }
   ],
   "source": [
    "f\"Интервальная оценка: ({rewards_mean - delta}, {rewards_mean + delta})\""
   ]
  },
  {
   "cell_type": "markdown",
   "metadata": {},
   "source": [
    "# Модель 1"
   ]
  },
  {
   "cell_type": "code",
   "execution_count": 235,
   "metadata": {},
   "outputs": [],
   "source": [
    "import torch.nn as nn\n",
    "import torch.nn.functional as F"
   ]
  },
  {
   "cell_type": "code",
   "execution_count": 236,
   "metadata": {},
   "outputs": [],
   "source": [
    "class ActorCriticModel(nn.Module):\n",
    "    def __init__(self, n_input: int, n_output: int, n_hidden: List[int], device: str = \"cpu\") -> None:\n",
    "        super(ActorCriticModel, self).__init__()\n",
    "        self.fc1 = nn.Linear(n_input, n_hidden[0], device=device)\n",
    "        self.fc2 = nn.Linear(n_hidden[0], n_hidden[1], device=device)\n",
    "        self.action = nn.Linear(n_hidden[1], n_output, device=device)\n",
    "        self.value = nn.Linear(n_hidden[1], 1, device=device)\n",
    "        self.device = device\n",
    "    \n",
    "    def forward(self, x: int) -> tuple[torch.Tensor, torch.Tensor]:\n",
    "        x = torch.Tensor(x)\n",
    "        x = F.relu(self.fc1(x))\n",
    "        x = F.relu(self.fc2(x))\n",
    "        action_probs = F.softmax(self.action(x), dim=-1).to(self.device)\n",
    "        state_value = self.value(x)\n",
    "        return action_probs, state_value"
   ]
  },
  {
   "cell_type": "code",
   "execution_count": 247,
   "metadata": {},
   "outputs": [],
   "source": [
    "class PolicyNetwork:\n",
    "    def __init__(self, n_state: int, n_actions: int, n_hidden: int, lr: float = 0.001) -> None:\n",
    "        self.device = \"cuda:0\" if torch.cuda.is_available() else \"cpu\"\n",
    "        self.model = ActorCriticModel(n_state, n_actions, n_hidden, self.device)\n",
    "        self.optimizer = torch.optim.Adam(self.model.parameters(), lr)\n",
    "        self.scheduler = torch.optim.lr_scheduler.StepLR(self.optimizer, step_size=10, gamma=0.995)\n",
    "    \n",
    "    def predict(self, s: Any) -> Any:\n",
    "        return self.model(torch.tensor(s, dtype=torch.float, device=self.device))\n",
    "    \n",
    "    def update(self, returns: torch.Tensor, log_probs, state_values) -> None:\n",
    "        returns = returns.to(self.device)\n",
    "        loss = 0\n",
    "        for log_prob, value, Gt in zip(log_probs, state_values, returns):\n",
    "            advantage = (Gt - value.item()).to(self.device)\n",
    "            # print((-log_prob).get_device(), advantage.get_device())\n",
    "            \n",
    "            policy_loss = -log_prob * advantage\n",
    "            value_loss = F.smooth_l1_loss(value, Gt)\n",
    "            loss += policy_loss + value_loss\n",
    "        self.optimizer.zero_grad()\n",
    "        loss.backward()\n",
    "        self.optimizer.step()\n",
    "    \n",
    "    def get_action(self, s) -> tuple:\n",
    "        action_probs, state_value = self.predict(s)\n",
    "        state_value = state_value.to(self.device)\n",
    "        action = torch.multinomial(action_probs, 1).item()\n",
    "        log_prob = torch.log(action_probs[action]).to(self.device)\n",
    "        return action, log_prob, state_value\n",
    "\n",
    "    def save(self, filename: str) -> None:\n",
    "        torch.save(self, filename)\n",
    "    \n",
    "    @classmethod\n",
    "    def load(cls, filename: str) -> Self:\n",
    "        return torch.load(filename)"
   ]
  },
  {
   "cell_type": "code",
   "execution_count": 248,
   "metadata": {},
   "outputs": [],
   "source": [
    "def actor_critic(env: gym.Env, estimator: PolicyNetwork, n_episode: int, gamma: float = 1.0) -> list[float]:\n",
    "    total_reward_episode = list()\n",
    "    success_score = 200\n",
    "    for episode in range(n_episode):\n",
    "        total_reward_episode.append(0)\n",
    "        log_probs = []\n",
    "        rewards = []\n",
    "        state_values = []\n",
    "\n",
    "        state = env.reset(seed=0)[0]\n",
    "        while True:\n",
    "            #one_hot_state = [0] * 48\n",
    "            #one_hot_state[state] = 1\n",
    "            # print(state)\n",
    "            action, log_prob, state_value = estimator.get_action(state)\n",
    "            next_state, reward, is_done, is_truncated, _ = env.step(action)\n",
    "            total_reward_episode[episode] += reward\n",
    "            log_probs.append(log_prob)\n",
    "            state_values.append(state_value)\n",
    "            rewards.append(reward)\n",
    "\n",
    "            if is_truncated or is_done:\n",
    "                returns = []\n",
    "                Gt = 0\n",
    "                pw = 0\n",
    "                for reward in rewards[::-1]:\n",
    "                    Gt += gamma ** pw * reward\n",
    "                    returns.append(Gt)\n",
    "                    pw += 1\n",
    "                returns = returns[::-1]\n",
    "                returns_amount = len(returns)\n",
    "                returns = torch.tensor(returns)\n",
    "                returns = (returns - returns.mean()) / (returns.std() + 1e-9)\n",
    "                returns.resize_(returns_amount, 1)\n",
    "                estimator.update(returns, log_probs, state_values)\n",
    "                if total_reward_episode[episode] >= success_score:\n",
    "                    estimator.scheduler.step()\n",
    "                break\n",
    "\n",
    "            state = next_state\n",
    "        step_print(f\"{episode}: {total_reward_episode[episode]}, mean: {round(np.mean(total_reward_episode), 2)}, eliminated enemies: {int(total_reward_episode[episode] // 21)}, success score: {success_score}, lr: {estimator.optimizer.param_groups[0]['lr']}\", episode, 1)\n",
    "    return total_reward_episode"
   ]
  },
  {
   "cell_type": "code",
   "execution_count": 257,
   "metadata": {},
   "outputs": [],
   "source": [
    "estimator = PolicyNetwork(env.observation_space.shape[0], env.action_space.n, [256, 32], 0.000004)"
   ]
  },
  {
   "cell_type": "code",
   "execution_count": 268,
   "metadata": {},
   "outputs": [],
   "source": [
    "n_episodes = 1000\n",
    "gamma = .9"
   ]
  },
  {
   "cell_type": "code",
   "execution_count": 259,
   "metadata": {},
   "outputs": [],
   "source": [
    "rewards: list[float] = list()"
   ]
  },
  {
   "cell_type": "code",
   "execution_count": 269,
   "metadata": {},
   "outputs": [
    {
     "name": "stdout",
     "output_type": "stream",
     "text": [
      "0: 672.0, mean: 672.0, eliminated enemies: 32, success score: 200, lr: 6.387156305325594e-07\n",
      "1: 399.0, mean: 535.5, eliminated enemies: 19, success score: 200, lr: 6.387156305325594e-07\n",
      "2: 189.0, mean: 420.0, eliminated enemies: 9, success score: 200, lr: 6.387156305325594e-07\n",
      "3: 357.0, mean: 404.25, eliminated enemies: 17, success score: 200, lr: 6.387156305325594e-07\n",
      "4: 462.0, mean: 415.8, eliminated enemies: 22, success score: 200, lr: 6.387156305325594e-07\n",
      "5: 588.0, mean: 444.5, eliminated enemies: 28, success score: 200, lr: 6.387156305325594e-07\n",
      "6: 546.0, mean: 459.0, eliminated enemies: 26, success score: 200, lr: 6.387156305325594e-07\n",
      "7: 546.0, mean: 469.88, eliminated enemies: 26, success score: 200, lr: 6.387156305325594e-07\n",
      "8: 378.0, mean: 459.67, eliminated enemies: 18, success score: 200, lr: 6.387156305325594e-07\n",
      "9: 399.0, mean: 453.6, eliminated enemies: 19, success score: 200, lr: 6.387156305325594e-07\n",
      "10: 588.0, mean: 465.82, eliminated enemies: 28, success score: 200, lr: 6.355220523798967e-07\n",
      "11: 567.0, mean: 474.25, eliminated enemies: 27, success score: 200, lr: 6.355220523798967e-07\n",
      "12: 399.0, mean: 468.46, eliminated enemies: 19, success score: 200, lr: 6.355220523798967e-07\n",
      "13: 567.0, mean: 475.5, eliminated enemies: 27, success score: 200, lr: 6.355220523798967e-07\n",
      "14: 399.0, mean: 470.4, eliminated enemies: 19, success score: 200, lr: 6.355220523798967e-07\n",
      "15: 609.0, mean: 479.06, eliminated enemies: 29, success score: 200, lr: 6.355220523798967e-07\n",
      "16: 567.0, mean: 484.24, eliminated enemies: 27, success score: 200, lr: 6.355220523798967e-07\n",
      "17: 399.0, mean: 479.5, eliminated enemies: 19, success score: 200, lr: 6.355220523798967e-07\n",
      "18: 504.0, mean: 480.79, eliminated enemies: 24, success score: 200, lr: 6.355220523798967e-07\n",
      "19: 630.0, mean: 488.25, eliminated enemies: 30, success score: 200, lr: 6.355220523798967e-07\n",
      "20: 399.0, mean: 484.0, eliminated enemies: 19, success score: 200, lr: 6.323444421179971e-07\n",
      "21: 378.0, mean: 479.18, eliminated enemies: 18, success score: 200, lr: 6.323444421179971e-07\n",
      "22: 462.0, mean: 478.43, eliminated enemies: 22, success score: 200, lr: 6.323444421179971e-07\n",
      "23: 483.0, mean: 478.62, eliminated enemies: 23, success score: 200, lr: 6.323444421179971e-07\n",
      "24: 357.0, mean: 473.76, eliminated enemies: 17, success score: 200, lr: 6.323444421179971e-07\n",
      "25: 294.0, mean: 466.85, eliminated enemies: 14, success score: 200, lr: 6.323444421179971e-07\n",
      "26: 315.0, mean: 461.22, eliminated enemies: 15, success score: 200, lr: 6.323444421179971e-07\n",
      "27: 399.0, mean: 459.0, eliminated enemies: 19, success score: 200, lr: 6.323444421179971e-07\n",
      "28: 567.0, mean: 462.72, eliminated enemies: 27, success score: 200, lr: 6.323444421179971e-07\n",
      "29: 189.0, mean: 453.6, eliminated enemies: 9, success score: 200, lr: 6.323444421179971e-07\n",
      "30: 483.0, mean: 454.55, eliminated enemies: 23, success score: 200, lr: 6.323444421179971e-07\n",
      "31: 294.0, mean: 449.53, eliminated enemies: 14, success score: 200, lr: 6.291827199074072e-07\n",
      "32: 378.0, mean: 447.36, eliminated enemies: 18, success score: 200, lr: 6.291827199074072e-07\n",
      "33: 315.0, mean: 443.47, eliminated enemies: 15, success score: 200, lr: 6.291827199074072e-07\n",
      "34: 357.0, mean: 441.0, eliminated enemies: 17, success score: 200, lr: 6.291827199074072e-07\n",
      "35: 504.0, mean: 442.75, eliminated enemies: 24, success score: 200, lr: 6.291827199074072e-07\n",
      "36: 357.0, mean: 440.43, eliminated enemies: 17, success score: 200, lr: 6.291827199074072e-07\n",
      "37: 483.0, mean: 441.55, eliminated enemies: 23, success score: 200, lr: 6.291827199074072e-07\n",
      "38: 420.0, mean: 441.0, eliminated enemies: 20, success score: 200, lr: 6.291827199074072e-07\n",
      "39: 588.0, mean: 444.68, eliminated enemies: 28, success score: 200, lr: 6.291827199074072e-07\n",
      "40: 567.0, mean: 447.66, eliminated enemies: 27, success score: 200, lr: 6.291827199074072e-07\n",
      "41: 357.0, mean: 445.5, eliminated enemies: 17, success score: 200, lr: 6.260368063078701e-07\n",
      "42: 399.0, mean: 444.42, eliminated enemies: 19, success score: 200, lr: 6.260368063078701e-07\n",
      "43: 609.0, mean: 448.16, eliminated enemies: 29, success score: 200, lr: 6.260368063078701e-07\n",
      "44: 525.0, mean: 449.87, eliminated enemies: 25, success score: 200, lr: 6.260368063078701e-07\n",
      "45: 483.0, mean: 450.59, eliminated enemies: 23, success score: 200, lr: 6.260368063078701e-07\n",
      "46: 420.0, mean: 449.94, eliminated enemies: 20, success score: 200, lr: 6.260368063078701e-07\n",
      "47: 567.0, mean: 452.38, eliminated enemies: 27, success score: 200, lr: 6.260368063078701e-07\n",
      "48: 378.0, mean: 450.86, eliminated enemies: 18, success score: 200, lr: 6.260368063078701e-07\n",
      "49: 546.0, mean: 452.76, eliminated enemies: 26, success score: 200, lr: 6.260368063078701e-07\n",
      "50: 567.0, mean: 455.0, eliminated enemies: 27, success score: 200, lr: 6.260368063078701e-07\n",
      "51: 357.0, mean: 453.12, eliminated enemies: 17, success score: 200, lr: 6.229066222763308e-07\n",
      "52: 525.0, mean: 454.47, eliminated enemies: 25, success score: 200, lr: 6.229066222763308e-07\n",
      "53: 588.0, mean: 456.94, eliminated enemies: 28, success score: 200, lr: 6.229066222763308e-07\n",
      "54: 210.0, mean: 452.45, eliminated enemies: 10, success score: 200, lr: 6.229066222763308e-07\n",
      "55: 483.0, mean: 453.0, eliminated enemies: 23, success score: 200, lr: 6.229066222763308e-07\n",
      "56: 525.0, mean: 454.26, eliminated enemies: 25, success score: 200, lr: 6.229066222763308e-07\n",
      "57: 420.0, mean: 453.67, eliminated enemies: 20, success score: 200, lr: 6.229066222763308e-07\n",
      "58: 399.0, mean: 452.75, eliminated enemies: 19, success score: 200, lr: 6.229066222763308e-07\n",
      "59: 378.0, mean: 451.5, eliminated enemies: 18, success score: 200, lr: 6.229066222763308e-07\n",
      "60: 378.0, mean: 450.3, eliminated enemies: 18, success score: 200, lr: 6.229066222763308e-07\n",
      "61: 378.0, mean: 449.13, eliminated enemies: 18, success score: 200, lr: 6.197920891649492e-07\n",
      "62: 651.0, mean: 452.33, eliminated enemies: 31, success score: 200, lr: 6.197920891649492e-07\n",
      "63: 399.0, mean: 451.5, eliminated enemies: 19, success score: 200, lr: 6.197920891649492e-07\n",
      "64: 651.0, mean: 454.57, eliminated enemies: 31, success score: 200, lr: 6.197920891649492e-07\n",
      "65: 273.0, mean: 451.82, eliminated enemies: 13, success score: 200, lr: 6.197920891649492e-07\n",
      "66: 588.0, mean: 453.85, eliminated enemies: 28, success score: 200, lr: 6.197920891649492e-07\n",
      "67: 399.0, mean: 453.04, eliminated enemies: 19, success score: 200, lr: 6.197920891649492e-07\n",
      "68: 651.0, mean: 455.91, eliminated enemies: 31, success score: 200, lr: 6.197920891649492e-07\n",
      "69: 630.0, mean: 458.4, eliminated enemies: 30, success score: 200, lr: 6.197920891649492e-07\n",
      "70: 378.0, mean: 457.27, eliminated enemies: 18, success score: 200, lr: 6.197920891649492e-07\n",
      "71: 378.0, mean: 456.17, eliminated enemies: 18, success score: 200, lr: 6.166931287191244e-07\n",
      "72: 672.0, mean: 459.12, eliminated enemies: 32, success score: 200, lr: 6.166931287191244e-07\n",
      "73: 399.0, mean: 458.31, eliminated enemies: 19, success score: 200, lr: 6.166931287191244e-07\n",
      "74: 567.0, mean: 459.76, eliminated enemies: 27, success score: 200, lr: 6.166931287191244e-07\n",
      "75: 399.0, mean: 458.96, eliminated enemies: 19, success score: 200, lr: 6.166931287191244e-07\n",
      "76: 399.0, mean: 458.18, eliminated enemies: 19, success score: 200, lr: 6.166931287191244e-07\n",
      "77: 399.0, mean: 457.42, eliminated enemies: 19, success score: 200, lr: 6.166931287191244e-07\n",
      "78: 399.0, mean: 456.68, eliminated enemies: 19, success score: 200, lr: 6.166931287191244e-07\n",
      "79: 399.0, mean: 455.96, eliminated enemies: 19, success score: 200, lr: 6.166931287191244e-07\n",
      "80: 189.0, mean: 452.67, eliminated enemies: 9, success score: 200, lr: 6.166931287191244e-07\n",
      "81: 588.0, mean: 454.32, eliminated enemies: 28, success score: 200, lr: 6.166931287191244e-07\n",
      "82: 399.0, mean: 453.65, eliminated enemies: 19, success score: 200, lr: 6.136096630755288e-07\n",
      "83: 378.0, mean: 452.75, eliminated enemies: 18, success score: 200, lr: 6.136096630755288e-07\n",
      "84: 567.0, mean: 454.09, eliminated enemies: 27, success score: 200, lr: 6.136096630755288e-07\n",
      "85: 399.0, mean: 453.45, eliminated enemies: 19, success score: 200, lr: 6.136096630755288e-07\n",
      "86: 588.0, mean: 455.0, eliminated enemies: 28, success score: 200, lr: 6.136096630755288e-07\n",
      "87: 231.0, mean: 452.45, eliminated enemies: 11, success score: 200, lr: 6.136096630755288e-07\n",
      "88: 399.0, mean: 451.85, eliminated enemies: 19, success score: 200, lr: 6.136096630755288e-07\n",
      "89: 399.0, mean: 451.27, eliminated enemies: 19, success score: 200, lr: 6.136096630755288e-07\n",
      "90: 399.0, mean: 450.69, eliminated enemies: 19, success score: 200, lr: 6.136096630755288e-07\n",
      "91: 399.0, mean: 450.13, eliminated enemies: 19, success score: 200, lr: 6.136096630755288e-07\n",
      "92: 609.0, mean: 451.84, eliminated enemies: 29, success score: 200, lr: 6.105416147601512e-07\n",
      "93: 399.0, mean: 451.28, eliminated enemies: 19, success score: 200, lr: 6.105416147601512e-07\n",
      "94: 189.0, mean: 448.52, eliminated enemies: 9, success score: 200, lr: 6.105416147601512e-07\n",
      "95: 294.0, mean: 446.91, eliminated enemies: 14, success score: 200, lr: 6.105416147601512e-07\n",
      "96: 399.0, mean: 446.41, eliminated enemies: 19, success score: 200, lr: 6.105416147601512e-07\n",
      "97: 336.0, mean: 445.29, eliminated enemies: 16, success score: 200, lr: 6.105416147601512e-07\n",
      "98: 399.0, mean: 444.82, eliminated enemies: 19, success score: 200, lr: 6.105416147601512e-07\n",
      "99: 525.0, mean: 445.62, eliminated enemies: 25, success score: 200, lr: 6.105416147601512e-07\n",
      "100: 399.0, mean: 445.16, eliminated enemies: 19, success score: 200, lr: 6.105416147601512e-07\n",
      "101: 588.0, mean: 446.56, eliminated enemies: 28, success score: 200, lr: 6.105416147601512e-07\n",
      "102: 315.0, mean: 445.28, eliminated enemies: 15, success score: 200, lr: 6.105416147601512e-07\n",
      "103: 231.0, mean: 443.22, eliminated enemies: 11, success score: 200, lr: 6.074889066863504e-07\n",
      "104: 567.0, mean: 444.4, eliminated enemies: 27, success score: 200, lr: 6.074889066863504e-07\n",
      "105: 399.0, mean: 443.97, eliminated enemies: 19, success score: 200, lr: 6.074889066863504e-07\n",
      "106: 609.0, mean: 445.51, eliminated enemies: 29, success score: 200, lr: 6.074889066863504e-07\n",
      "107: 273.0, mean: 443.92, eliminated enemies: 13, success score: 200, lr: 6.074889066863504e-07\n",
      "108: 504.0, mean: 444.47, eliminated enemies: 24, success score: 200, lr: 6.074889066863504e-07\n",
      "109: 399.0, mean: 444.05, eliminated enemies: 19, success score: 200, lr: 6.074889066863504e-07\n",
      "110: 483.0, mean: 444.41, eliminated enemies: 23, success score: 200, lr: 6.074889066863504e-07\n",
      "111: 399.0, mean: 444.0, eliminated enemies: 19, success score: 200, lr: 6.074889066863504e-07\n",
      "112: 189.0, mean: 441.74, eliminated enemies: 9, success score: 200, lr: 6.074889066863504e-07\n",
      "113: 336.0, mean: 440.82, eliminated enemies: 16, success score: 200, lr: 6.074889066863504e-07\n",
      "114: 273.0, mean: 439.36, eliminated enemies: 13, success score: 200, lr: 6.044514621529187e-07\n",
      "115: 378.0, mean: 438.83, eliminated enemies: 18, success score: 200, lr: 6.044514621529187e-07\n",
      "116: 588.0, mean: 440.1, eliminated enemies: 28, success score: 200, lr: 6.044514621529187e-07\n",
      "117: 357.0, mean: 439.4, eliminated enemies: 17, success score: 200, lr: 6.044514621529187e-07\n",
      "118: 420.0, mean: 439.24, eliminated enemies: 20, success score: 200, lr: 6.044514621529187e-07\n",
      "119: 399.0, mean: 438.9, eliminated enemies: 19, success score: 200, lr: 6.044514621529187e-07\n",
      "120: 483.0, mean: 439.26, eliminated enemies: 23, success score: 200, lr: 6.044514621529187e-07\n",
      "121: 462.0, mean: 439.45, eliminated enemies: 22, success score: 200, lr: 6.044514621529187e-07\n",
      "122: 294.0, mean: 438.27, eliminated enemies: 14, success score: 200, lr: 6.044514621529187e-07\n",
      "123: 294.0, mean: 437.1, eliminated enemies: 14, success score: 200, lr: 6.044514621529187e-07\n",
      "124: 609.0, mean: 438.48, eliminated enemies: 29, success score: 200, lr: 6.014292048421541e-07\n",
      "125: 399.0, mean: 438.17, eliminated enemies: 19, success score: 200, lr: 6.014292048421541e-07\n",
      "126: 399.0, mean: 437.86, eliminated enemies: 19, success score: 200, lr: 6.014292048421541e-07\n",
      "127: 651.0, mean: 439.52, eliminated enemies: 31, success score: 200, lr: 6.014292048421541e-07\n",
      "128: 399.0, mean: 439.21, eliminated enemies: 19, success score: 200, lr: 6.014292048421541e-07\n",
      "129: 294.0, mean: 438.09, eliminated enemies: 14, success score: 200, lr: 6.014292048421541e-07\n",
      "130: 294.0, mean: 436.99, eliminated enemies: 14, success score: 200, lr: 6.014292048421541e-07\n",
      "131: 420.0, mean: 436.86, eliminated enemies: 20, success score: 200, lr: 6.014292048421541e-07\n",
      "132: 441.0, mean: 436.89, eliminated enemies: 21, success score: 200, lr: 6.014292048421541e-07\n",
      "133: 399.0, mean: 436.61, eliminated enemies: 19, success score: 200, lr: 6.014292048421541e-07\n",
      "134: 525.0, mean: 437.27, eliminated enemies: 25, success score: 200, lr: 5.984220588179433e-07\n",
      "135: 504.0, mean: 437.76, eliminated enemies: 24, success score: 200, lr: 5.984220588179433e-07\n",
      "136: 546.0, mean: 438.55, eliminated enemies: 26, success score: 200, lr: 5.984220588179433e-07\n",
      "137: 546.0, mean: 439.33, eliminated enemies: 26, success score: 200, lr: 5.984220588179433e-07\n",
      "138: 399.0, mean: 439.04, eliminated enemies: 19, success score: 200, lr: 5.984220588179433e-07\n",
      "139: 189.0, mean: 437.25, eliminated enemies: 9, success score: 200, lr: 5.984220588179433e-07\n",
      "140: 357.0, mean: 436.68, eliminated enemies: 17, success score: 200, lr: 5.984220588179433e-07\n",
      "141: 462.0, mean: 436.86, eliminated enemies: 22, success score: 200, lr: 5.984220588179433e-07\n",
      "142: 420.0, mean: 436.74, eliminated enemies: 20, success score: 200, lr: 5.984220588179433e-07\n",
      "143: 378.0, mean: 436.33, eliminated enemies: 18, success score: 200, lr: 5.984220588179433e-07\n",
      "144: 315.0, mean: 435.5, eliminated enemies: 15, success score: 200, lr: 5.984220588179433e-07\n",
      "145: 294.0, mean: 434.53, eliminated enemies: 14, success score: 200, lr: 5.954299485238536e-07\n",
      "146: 378.0, mean: 434.14, eliminated enemies: 18, success score: 200, lr: 5.954299485238536e-07\n",
      "147: 609.0, mean: 435.32, eliminated enemies: 29, success score: 200, lr: 5.954299485238536e-07\n",
      "148: 399.0, mean: 435.08, eliminated enemies: 19, success score: 200, lr: 5.954299485238536e-07\n",
      "149: 378.0, mean: 434.7, eliminated enemies: 18, success score: 200, lr: 5.954299485238536e-07\n",
      "150: 399.0, mean: 434.46, eliminated enemies: 19, success score: 200, lr: 5.954299485238536e-07\n",
      "151: 336.0, mean: 433.82, eliminated enemies: 16, success score: 200, lr: 5.954299485238536e-07\n",
      "152: 525.0, mean: 434.41, eliminated enemies: 25, success score: 200, lr: 5.954299485238536e-07\n",
      "153: 273.0, mean: 433.36, eliminated enemies: 13, success score: 200, lr: 5.954299485238536e-07\n",
      "154: 231.0, mean: 432.06, eliminated enemies: 11, success score: 200, lr: 5.954299485238536e-07\n",
      "155: 441.0, mean: 432.12, eliminated enemies: 21, success score: 200, lr: 5.924527987812344e-07\n",
      "156: 546.0, mean: 432.84, eliminated enemies: 26, success score: 200, lr: 5.924527987812344e-07\n",
      "157: 588.0, mean: 433.82, eliminated enemies: 28, success score: 200, lr: 5.924527987812344e-07\n",
      "158: 525.0, mean: 434.4, eliminated enemies: 25, success score: 200, lr: 5.924527987812344e-07\n",
      "159: 399.0, mean: 434.18, eliminated enemies: 19, success score: 200, lr: 5.924527987812344e-07\n",
      "160: 525.0, mean: 434.74, eliminated enemies: 25, success score: 200, lr: 5.924527987812344e-07\n",
      "161: 483.0, mean: 435.04, eliminated enemies: 23, success score: 200, lr: 5.924527987812344e-07\n",
      "162: 357.0, mean: 434.56, eliminated enemies: 17, success score: 200, lr: 5.924527987812344e-07\n",
      "163: 399.0, mean: 434.34, eliminated enemies: 19, success score: 200, lr: 5.924527987812344e-07\n",
      "164: 483.0, mean: 434.64, eliminated enemies: 23, success score: 200, lr: 5.924527987812344e-07\n",
      "165: 441.0, mean: 434.67, eliminated enemies: 21, success score: 200, lr: 5.894905347873282e-07\n",
      "166: 315.0, mean: 433.96, eliminated enemies: 15, success score: 200, lr: 5.894905347873282e-07\n",
      "167: 546.0, mean: 434.62, eliminated enemies: 26, success score: 200, lr: 5.894905347873282e-07\n",
      "168: 588.0, mean: 435.53, eliminated enemies: 28, success score: 200, lr: 5.894905347873282e-07\n",
      "169: 588.0, mean: 436.43, eliminated enemies: 28, success score: 200, lr: 5.894905347873282e-07\n",
      "170: 399.0, mean: 436.21, eliminated enemies: 19, success score: 200, lr: 5.894905347873282e-07\n",
      "171: 399.0, mean: 435.99, eliminated enemies: 19, success score: 200, lr: 5.894905347873282e-07\n",
      "172: 504.0, mean: 436.39, eliminated enemies: 24, success score: 200, lr: 5.894905347873282e-07\n",
      "173: 567.0, mean: 437.14, eliminated enemies: 27, success score: 200, lr: 5.894905347873282e-07\n",
      "174: 567.0, mean: 437.88, eliminated enemies: 27, success score: 200, lr: 5.894905347873282e-07\n",
      "175: 294.0, mean: 437.06, eliminated enemies: 14, success score: 200, lr: 5.865430821133916e-07\n",
      "176: 378.0, mean: 436.73, eliminated enemies: 18, success score: 200, lr: 5.865430821133916e-07\n",
      "177: 399.0, mean: 436.52, eliminated enemies: 19, success score: 200, lr: 5.865430821133916e-07\n",
      "178: 252.0, mean: 435.49, eliminated enemies: 12, success score: 200, lr: 5.865430821133916e-07\n",
      "179: 336.0, mean: 434.93, eliminated enemies: 16, success score: 200, lr: 5.865430821133916e-07\n",
      "180: 336.0, mean: 434.39, eliminated enemies: 16, success score: 200, lr: 5.865430821133916e-07\n",
      "181: 483.0, mean: 434.65, eliminated enemies: 23, success score: 200, lr: 5.865430821133916e-07\n",
      "182: 357.0, mean: 434.23, eliminated enemies: 17, success score: 200, lr: 5.865430821133916e-07\n",
      "183: 399.0, mean: 434.04, eliminated enemies: 19, success score: 200, lr: 5.865430821133916e-07\n",
      "184: 399.0, mean: 433.85, eliminated enemies: 19, success score: 200, lr: 5.865430821133916e-07\n",
      "185: 399.0, mean: 433.66, eliminated enemies: 19, success score: 200, lr: 5.836103667028247e-07\n",
      "186: 546.0, mean: 434.26, eliminated enemies: 26, success score: 200, lr: 5.836103667028247e-07\n",
      "187: 588.0, mean: 435.08, eliminated enemies: 28, success score: 200, lr: 5.836103667028247e-07\n",
      "188: 294.0, mean: 434.33, eliminated enemies: 14, success score: 200, lr: 5.836103667028247e-07\n",
      "189: 294.0, mean: 433.59, eliminated enemies: 14, success score: 200, lr: 5.836103667028247e-07\n",
      "190: 609.0, mean: 434.51, eliminated enemies: 29, success score: 200, lr: 5.836103667028247e-07\n",
      "191: 546.0, mean: 435.09, eliminated enemies: 26, success score: 200, lr: 5.836103667028247e-07\n",
      "192: 483.0, mean: 435.34, eliminated enemies: 23, success score: 200, lr: 5.836103667028247e-07\n",
      "193: 504.0, mean: 435.7, eliminated enemies: 24, success score: 200, lr: 5.836103667028247e-07\n",
      "194: 588.0, mean: 436.48, eliminated enemies: 28, success score: 200, lr: 5.836103667028247e-07\n",
      "195: 525.0, mean: 436.93, eliminated enemies: 25, success score: 200, lr: 5.806923148693105e-07\n",
      "196: 588.0, mean: 437.7, eliminated enemies: 28, success score: 200, lr: 5.806923148693105e-07\n",
      "197: 567.0, mean: 438.35, eliminated enemies: 27, success score: 200, lr: 5.806923148693105e-07\n",
      "198: 504.0, mean: 438.68, eliminated enemies: 24, success score: 200, lr: 5.806923148693105e-07\n",
      "199: 399.0, mean: 438.48, eliminated enemies: 19, success score: 200, lr: 5.806923148693105e-07\n",
      "200: 588.0, mean: 439.22, eliminated enemies: 28, success score: 200, lr: 5.806923148693105e-07\n",
      "201: 399.0, mean: 439.02, eliminated enemies: 19, success score: 200, lr: 5.806923148693105e-07\n",
      "202: 588.0, mean: 439.76, eliminated enemies: 28, success score: 200, lr: 5.806923148693105e-07\n",
      "203: 588.0, mean: 440.49, eliminated enemies: 28, success score: 200, lr: 5.806923148693105e-07\n",
      "204: 315.0, mean: 439.87, eliminated enemies: 15, success score: 200, lr: 5.806923148693105e-07\n",
      "205: 609.0, mean: 440.69, eliminated enemies: 29, success score: 200, lr: 5.77788853294964e-07\n",
      "206: 294.0, mean: 439.99, eliminated enemies: 14, success score: 200, lr: 5.77788853294964e-07\n",
      "207: 399.0, mean: 439.79, eliminated enemies: 19, success score: 200, lr: 5.77788853294964e-07\n",
      "208: 567.0, mean: 440.4, eliminated enemies: 27, success score: 200, lr: 5.77788853294964e-07\n",
      "209: 567.0, mean: 441.0, eliminated enemies: 27, success score: 200, lr: 5.77788853294964e-07\n",
      "210: 588.0, mean: 441.7, eliminated enemies: 28, success score: 200, lr: 5.77788853294964e-07\n",
      "211: 462.0, mean: 441.79, eliminated enemies: 22, success score: 200, lr: 5.77788853294964e-07\n",
      "212: 378.0, mean: 441.49, eliminated enemies: 18, success score: 200, lr: 5.77788853294964e-07\n",
      "213: 483.0, mean: 441.69, eliminated enemies: 23, success score: 200, lr: 5.77788853294964e-07\n",
      "214: 588.0, mean: 442.37, eliminated enemies: 28, success score: 200, lr: 5.77788853294964e-07\n",
      "215: 651.0, mean: 443.33, eliminated enemies: 31, success score: 200, lr: 5.748999090284892e-07\n",
      "216: 588.0, mean: 444.0, eliminated enemies: 28, success score: 200, lr: 5.748999090284892e-07\n",
      "217: 399.0, mean: 443.79, eliminated enemies: 19, success score: 200, lr: 5.748999090284892e-07\n",
      "218: 504.0, mean: 444.07, eliminated enemies: 24, success score: 200, lr: 5.748999090284892e-07\n",
      "219: 315.0, mean: 443.48, eliminated enemies: 15, success score: 200, lr: 5.748999090284892e-07\n",
      "220: 420.0, mean: 443.38, eliminated enemies: 20, success score: 200, lr: 5.748999090284892e-07\n",
      "221: 336.0, mean: 442.89, eliminated enemies: 16, success score: 200, lr: 5.748999090284892e-07\n",
      "222: 567.0, mean: 443.45, eliminated enemies: 27, success score: 200, lr: 5.748999090284892e-07\n",
      "223: 399.0, mean: 443.25, eliminated enemies: 19, success score: 200, lr: 5.748999090284892e-07\n",
      "224: 546.0, mean: 443.71, eliminated enemies: 26, success score: 200, lr: 5.748999090284892e-07\n",
      "225: 462.0, mean: 443.79, eliminated enemies: 22, success score: 200, lr: 5.720254094833468e-07\n",
      "226: 294.0, mean: 443.13, eliminated enemies: 14, success score: 200, lr: 5.720254094833468e-07\n",
      "227: 609.0, mean: 443.86, eliminated enemies: 29, success score: 200, lr: 5.720254094833468e-07\n",
      "228: 357.0, mean: 443.48, eliminated enemies: 17, success score: 200, lr: 5.720254094833468e-07\n",
      "229: 378.0, mean: 443.19, eliminated enemies: 18, success score: 200, lr: 5.720254094833468e-07\n",
      "230: 567.0, mean: 443.73, eliminated enemies: 27, success score: 200, lr: 5.720254094833468e-07\n",
      "231: 315.0, mean: 443.17, eliminated enemies: 15, success score: 200, lr: 5.720254094833468e-07\n",
      "232: 399.0, mean: 442.98, eliminated enemies: 19, success score: 200, lr: 5.720254094833468e-07\n",
      "233: 567.0, mean: 443.51, eliminated enemies: 27, success score: 200, lr: 5.720254094833468e-07\n",
      "234: 336.0, mean: 443.06, eliminated enemies: 16, success score: 200, lr: 5.720254094833468e-07\n",
      "235: 525.0, mean: 443.4, eliminated enemies: 25, success score: 200, lr: 5.691652824359301e-07\n",
      "236: 189.0, mean: 442.33, eliminated enemies: 9, success score: 200, lr: 5.691652824359301e-07\n",
      "237: 588.0, mean: 442.94, eliminated enemies: 28, success score: 200, lr: 5.691652824359301e-07\n",
      "238: 462.0, mean: 443.02, eliminated enemies: 22, success score: 200, lr: 5.691652824359301e-07\n",
      "239: 609.0, mean: 443.71, eliminated enemies: 29, success score: 200, lr: 5.691652824359301e-07\n",
      "240: 378.0, mean: 443.44, eliminated enemies: 18, success score: 200, lr: 5.691652824359301e-07\n",
      "241: 399.0, mean: 443.26, eliminated enemies: 19, success score: 200, lr: 5.691652824359301e-07\n",
      "242: 210.0, mean: 442.3, eliminated enemies: 10, success score: 200, lr: 5.691652824359301e-07\n",
      "243: 399.0, mean: 442.12, eliminated enemies: 19, success score: 200, lr: 5.691652824359301e-07\n",
      "244: 399.0, mean: 441.94, eliminated enemies: 19, success score: 200, lr: 5.691652824359301e-07\n",
      "245: 609.0, mean: 442.62, eliminated enemies: 29, success score: 200, lr: 5.691652824359301e-07\n",
      "246: 273.0, mean: 441.94, eliminated enemies: 13, success score: 200, lr: 5.663194560237504e-07\n",
      "247: 273.0, mean: 441.25, eliminated enemies: 13, success score: 200, lr: 5.663194560237504e-07\n",
      "248: 420.0, mean: 441.17, eliminated enemies: 20, success score: 200, lr: 5.663194560237504e-07\n",
      "249: 399.0, mean: 441.0, eliminated enemies: 19, success score: 200, lr: 5.663194560237504e-07\n",
      "250: 504.0, mean: 441.25, eliminated enemies: 24, success score: 200, lr: 5.663194560237504e-07\n",
      "251: 609.0, mean: 441.92, eliminated enemies: 29, success score: 200, lr: 5.663194560237504e-07\n",
      "252: 546.0, mean: 442.33, eliminated enemies: 26, success score: 200, lr: 5.663194560237504e-07\n",
      "253: 525.0, mean: 442.65, eliminated enemies: 25, success score: 200, lr: 5.663194560237504e-07\n",
      "254: 420.0, mean: 442.56, eliminated enemies: 20, success score: 200, lr: 5.663194560237504e-07\n",
      "255: 567.0, mean: 443.05, eliminated enemies: 27, success score: 200, lr: 5.663194560237504e-07\n",
      "256: 399.0, mean: 442.88, eliminated enemies: 19, success score: 200, lr: 5.634878587436317e-07\n",
      "257: 189.0, mean: 441.9, eliminated enemies: 9, success score: 200, lr: 5.634878587436317e-07\n",
      "258: 567.0, mean: 442.38, eliminated enemies: 27, success score: 200, lr: 5.634878587436317e-07\n",
      "259: 399.0, mean: 442.21, eliminated enemies: 19, success score: 200, lr: 5.634878587436317e-07\n",
      "260: 357.0, mean: 441.89, eliminated enemies: 17, success score: 200, lr: 5.634878587436317e-07\n",
      "261: 378.0, mean: 441.64, eliminated enemies: 18, success score: 200, lr: 5.634878587436317e-07\n",
      "262: 609.0, mean: 442.28, eliminated enemies: 29, success score: 200, lr: 5.634878587436317e-07\n",
      "263: 399.0, mean: 442.11, eliminated enemies: 19, success score: 200, lr: 5.634878587436317e-07\n",
      "264: 399.0, mean: 441.95, eliminated enemies: 19, success score: 200, lr: 5.634878587436317e-07\n",
      "265: 399.0, mean: 441.79, eliminated enemies: 19, success score: 200, lr: 5.634878587436317e-07\n",
      "266: 168.0, mean: 440.76, eliminated enemies: 8, success score: 200, lr: 5.634878587436317e-07\n",
      "267: 588.0, mean: 441.31, eliminated enemies: 28, success score: 200, lr: 5.634878587436317e-07\n",
      "268: 567.0, mean: 441.78, eliminated enemies: 27, success score: 200, lr: 5.606704194499136e-07\n",
      "269: 252.0, mean: 441.08, eliminated enemies: 12, success score: 200, lr: 5.606704194499136e-07\n",
      "270: 483.0, mean: 441.23, eliminated enemies: 23, success score: 200, lr: 5.606704194499136e-07\n",
      "271: 399.0, mean: 441.08, eliminated enemies: 19, success score: 200, lr: 5.606704194499136e-07\n",
      "272: 504.0, mean: 441.31, eliminated enemies: 24, success score: 200, lr: 5.606704194499136e-07\n",
      "273: 399.0, mean: 441.15, eliminated enemies: 19, success score: 200, lr: 5.606704194499136e-07\n",
      "274: 546.0, mean: 441.53, eliminated enemies: 26, success score: 200, lr: 5.606704194499136e-07\n",
      "275: 546.0, mean: 441.91, eliminated enemies: 26, success score: 200, lr: 5.606704194499136e-07\n",
      "276: 252.0, mean: 441.23, eliminated enemies: 12, success score: 200, lr: 5.606704194499136e-07\n",
      "277: 609.0, mean: 441.83, eliminated enemies: 29, success score: 200, lr: 5.606704194499136e-07\n",
      "278: 588.0, mean: 442.35, eliminated enemies: 28, success score: 200, lr: 5.57867067352664e-07\n",
      "279: 357.0, mean: 442.05, eliminated enemies: 17, success score: 200, lr: 5.57867067352664e-07\n",
      "280: 189.0, mean: 441.15, eliminated enemies: 9, success score: 200, lr: 5.57867067352664e-07\n",
      "281: 378.0, mean: 440.93, eliminated enemies: 18, success score: 200, lr: 5.57867067352664e-07\n"
     ]
    },
    {
     "ename": "KeyboardInterrupt",
     "evalue": "",
     "output_type": "error",
     "traceback": [
      "\u001b[1;31m---------------------------------------------------------------------------\u001b[0m",
      "\u001b[1;31mKeyboardInterrupt\u001b[0m                         Traceback (most recent call last)",
      "Cell \u001b[1;32mIn[269], line 1\u001b[0m\n\u001b[1;32m----> 1\u001b[0m rewards\u001b[38;5;241m.\u001b[39mextend(\u001b[43mactor_critic\u001b[49m\u001b[43m(\u001b[49m\u001b[43menv\u001b[49m\u001b[43m,\u001b[49m\u001b[43m \u001b[49m\u001b[43mestimator\u001b[49m\u001b[43m,\u001b[49m\u001b[43m \u001b[49m\u001b[43mn_episodes\u001b[49m\u001b[43m,\u001b[49m\u001b[43m \u001b[49m\u001b[43mgamma\u001b[49m\u001b[43m)\u001b[49m)\n",
      "Cell \u001b[1;32mIn[248], line 15\u001b[0m, in \u001b[0;36mactor_critic\u001b[1;34m(env, estimator, n_episode, gamma)\u001b[0m\n\u001b[0;32m     10\u001b[0m state \u001b[38;5;241m=\u001b[39m env\u001b[38;5;241m.\u001b[39mreset(seed\u001b[38;5;241m=\u001b[39m\u001b[38;5;241m0\u001b[39m)[\u001b[38;5;241m0\u001b[39m]\n\u001b[0;32m     11\u001b[0m \u001b[38;5;28;01mwhile\u001b[39;00m \u001b[38;5;28;01mTrue\u001b[39;00m:\n\u001b[0;32m     12\u001b[0m     \u001b[38;5;66;03m#one_hot_state = [0] * 48\u001b[39;00m\n\u001b[0;32m     13\u001b[0m     \u001b[38;5;66;03m#one_hot_state[state] = 1\u001b[39;00m\n\u001b[0;32m     14\u001b[0m     \u001b[38;5;66;03m# print(state)\u001b[39;00m\n\u001b[1;32m---> 15\u001b[0m     action, log_prob, state_value \u001b[38;5;241m=\u001b[39m \u001b[43mestimator\u001b[49m\u001b[38;5;241;43m.\u001b[39;49m\u001b[43mget_action\u001b[49m\u001b[43m(\u001b[49m\u001b[43mstate\u001b[49m\u001b[43m)\u001b[49m\n\u001b[0;32m     16\u001b[0m     next_state, reward, is_done, is_truncated, _ \u001b[38;5;241m=\u001b[39m env\u001b[38;5;241m.\u001b[39mstep(action)\n\u001b[0;32m     17\u001b[0m     total_reward_episode[episode] \u001b[38;5;241m+\u001b[39m\u001b[38;5;241m=\u001b[39m reward\n",
      "Cell \u001b[1;32mIn[247], line 26\u001b[0m, in \u001b[0;36mPolicyNetwork.get_action\u001b[1;34m(self, s)\u001b[0m\n\u001b[0;32m     25\u001b[0m \u001b[38;5;28;01mdef\u001b[39;00m \u001b[38;5;21mget_action\u001b[39m(\u001b[38;5;28mself\u001b[39m, s) \u001b[38;5;241m-\u001b[39m\u001b[38;5;241m>\u001b[39m \u001b[38;5;28mtuple\u001b[39m:\n\u001b[1;32m---> 26\u001b[0m     action_probs, state_value \u001b[38;5;241m=\u001b[39m \u001b[38;5;28;43mself\u001b[39;49m\u001b[38;5;241;43m.\u001b[39;49m\u001b[43mpredict\u001b[49m\u001b[43m(\u001b[49m\u001b[43ms\u001b[49m\u001b[43m)\u001b[49m\n\u001b[0;32m     27\u001b[0m     state_value \u001b[38;5;241m=\u001b[39m state_value\u001b[38;5;241m.\u001b[39mto(\u001b[38;5;28mself\u001b[39m\u001b[38;5;241m.\u001b[39mdevice)\n\u001b[0;32m     28\u001b[0m     action \u001b[38;5;241m=\u001b[39m torch\u001b[38;5;241m.\u001b[39mmultinomial(action_probs, \u001b[38;5;241m1\u001b[39m)\u001b[38;5;241m.\u001b[39mitem()\n",
      "Cell \u001b[1;32mIn[247], line 9\u001b[0m, in \u001b[0;36mPolicyNetwork.predict\u001b[1;34m(self, s)\u001b[0m\n\u001b[0;32m      8\u001b[0m \u001b[38;5;28;01mdef\u001b[39;00m \u001b[38;5;21mpredict\u001b[39m(\u001b[38;5;28mself\u001b[39m, s: Any) \u001b[38;5;241m-\u001b[39m\u001b[38;5;241m>\u001b[39m Any:\n\u001b[1;32m----> 9\u001b[0m     \u001b[38;5;28;01mreturn\u001b[39;00m \u001b[38;5;28mself\u001b[39m\u001b[38;5;241m.\u001b[39mmodel(\u001b[43mtorch\u001b[49m\u001b[38;5;241;43m.\u001b[39;49m\u001b[43mtensor\u001b[49m\u001b[43m(\u001b[49m\u001b[43ms\u001b[49m\u001b[43m,\u001b[49m\u001b[43m \u001b[49m\u001b[43mdtype\u001b[49m\u001b[38;5;241;43m=\u001b[39;49m\u001b[43mtorch\u001b[49m\u001b[38;5;241;43m.\u001b[39;49m\u001b[43mfloat\u001b[49m\u001b[43m,\u001b[49m\u001b[43m \u001b[49m\u001b[43mdevice\u001b[49m\u001b[38;5;241;43m=\u001b[39;49m\u001b[38;5;28;43mself\u001b[39;49m\u001b[38;5;241;43m.\u001b[39;49m\u001b[43mdevice\u001b[49m\u001b[43m)\u001b[49m)\n",
      "\u001b[1;31mKeyboardInterrupt\u001b[0m: "
     ]
    }
   ],
   "source": [
    "rewards.extend(actor_critic(env, estimator, n_episodes, gamma))"
   ]
  },
  {
   "cell_type": "code",
   "execution_count": 270,
   "metadata": {},
   "outputs": [
    {
     "data": {
      "text/plain": [
       "[<matplotlib.lines.Line2D at 0x1f731165590>]"
      ]
     },
     "execution_count": 270,
     "metadata": {},
     "output_type": "execute_result"
    },
    {
     "data": {
      "image/png": "[encoded data removed]",
      "text/plain": [
       "<Figure size 640x480 with 1 Axes>"
      ]
     },
     "metadata": {},
     "output_type": "display_data"
    }
   ],
   "source": [
    "plt.plot(rewards, \".\")"
   ]
  },
  {
   "cell_type": "code",
   "execution_count": 272,
   "metadata": {},
   "outputs": [
    {
     "ename": "KeyboardInterrupt",
     "evalue": "",
     "output_type": "error",
     "traceback": [
      "\u001b[1;31m---------------------------------------------------------------------------\u001b[0m",
      "\u001b[1;31mKeyboardInterrupt\u001b[0m                         Traceback (most recent call last)",
      "Cell \u001b[1;32mIn[272], line 10\u001b[0m\n\u001b[0;32m      7\u001b[0m \u001b[38;5;28;01mwhile\u001b[39;00m \u001b[38;5;28;01mTrue\u001b[39;00m:\n\u001b[0;32m      8\u001b[0m     \u001b[38;5;66;03m# print(state)\u001b[39;00m\n\u001b[0;32m      9\u001b[0m     action, _, _ \u001b[38;5;241m=\u001b[39m estimator\u001b[38;5;241m.\u001b[39mget_action(state)\n\u001b[1;32m---> 10\u001b[0m     next_state, reward, is_done, is_truncated, _ \u001b[38;5;241m=\u001b[39m \u001b[43menv\u001b[49m\u001b[38;5;241;43m.\u001b[39;49m\u001b[43mstep\u001b[49m\u001b[43m(\u001b[49m\u001b[43maction\u001b[49m\u001b[43m)\u001b[49m\n\u001b[0;32m     11\u001b[0m     score_history\u001b[38;5;241m.\u001b[39mappend(score_history[\u001b[38;5;241m-\u001b[39m\u001b[38;5;241m1\u001b[39m] \u001b[38;5;241m+\u001b[39m reward)\n\u001b[0;32m     13\u001b[0m     \u001b[38;5;28;01mif\u001b[39;00m is_truncated \u001b[38;5;129;01mor\u001b[39;00m is_done:\n",
      "File \u001b[1;32md:\\Storage\\Projects\\2024_1\\machine_learning\\Lib\\site-packages\\gymnasium\\wrappers\\order_enforcing.py:56\u001b[0m, in \u001b[0;36mOrderEnforcing.step\u001b[1;34m(self, action)\u001b[0m\n\u001b[0;32m     54\u001b[0m \u001b[38;5;28;01mif\u001b[39;00m \u001b[38;5;129;01mnot\u001b[39;00m \u001b[38;5;28mself\u001b[39m\u001b[38;5;241m.\u001b[39m_has_reset:\n\u001b[0;32m     55\u001b[0m     \u001b[38;5;28;01mraise\u001b[39;00m ResetNeeded(\u001b[38;5;124m\"\u001b[39m\u001b[38;5;124mCannot call env.step() before calling env.reset()\u001b[39m\u001b[38;5;124m\"\u001b[39m)\n\u001b[1;32m---> 56\u001b[0m \u001b[38;5;28;01mreturn\u001b[39;00m \u001b[38;5;28;43mself\u001b[39;49m\u001b[38;5;241;43m.\u001b[39;49m\u001b[43menv\u001b[49m\u001b[38;5;241;43m.\u001b[39;49m\u001b[43mstep\u001b[49m\u001b[43m(\u001b[49m\u001b[43maction\u001b[49m\u001b[43m)\u001b[49m\n",
      "File \u001b[1;32md:\\Storage\\Projects\\2024_1\\machine_learning\\Lib\\site-packages\\gymnasium\\wrappers\\env_checker.py:51\u001b[0m, in \u001b[0;36mPassiveEnvChecker.step\u001b[1;34m(self, action)\u001b[0m\n\u001b[0;32m     49\u001b[0m     \u001b[38;5;28;01mreturn\u001b[39;00m env_step_passive_checker(\u001b[38;5;28mself\u001b[39m\u001b[38;5;241m.\u001b[39menv, action)\n\u001b[0;32m     50\u001b[0m \u001b[38;5;28;01melse\u001b[39;00m:\n\u001b[1;32m---> 51\u001b[0m     \u001b[38;5;28;01mreturn\u001b[39;00m \u001b[38;5;28;43mself\u001b[39;49m\u001b[38;5;241;43m.\u001b[39;49m\u001b[43menv\u001b[49m\u001b[38;5;241;43m.\u001b[39;49m\u001b[43mstep\u001b[49m\u001b[43m(\u001b[49m\u001b[43maction\u001b[49m\u001b[43m)\u001b[49m\n",
      "File \u001b[1;32md:\\Storage\\Projects\\2024_1\\machine_learning\\Lib\\site-packages\\shimmy\\atari_env.py:294\u001b[0m, in \u001b[0;36mAtariEnv.step\u001b[1;34m(self, action_ind)\u001b[0m\n\u001b[0;32m    292\u001b[0m reward \u001b[38;5;241m=\u001b[39m \u001b[38;5;241m0.0\u001b[39m\n\u001b[0;32m    293\u001b[0m \u001b[38;5;28;01mfor\u001b[39;00m _ \u001b[38;5;129;01min\u001b[39;00m \u001b[38;5;28mrange\u001b[39m(frameskip):\n\u001b[1;32m--> 294\u001b[0m     reward \u001b[38;5;241m+\u001b[39m\u001b[38;5;241m=\u001b[39m \u001b[38;5;28mself\u001b[39m\u001b[38;5;241m.\u001b[39male\u001b[38;5;241m.\u001b[39mact(action)\n\u001b[0;32m    295\u001b[0m is_terminal \u001b[38;5;241m=\u001b[39m \u001b[38;5;28mself\u001b[39m\u001b[38;5;241m.\u001b[39male\u001b[38;5;241m.\u001b[39mgame_over(with_truncation\u001b[38;5;241m=\u001b[39m\u001b[38;5;28;01mFalse\u001b[39;00m)\n\u001b[0;32m    296\u001b[0m is_truncated \u001b[38;5;241m=\u001b[39m \u001b[38;5;28mself\u001b[39m\u001b[38;5;241m.\u001b[39male\u001b[38;5;241m.\u001b[39mgame_truncated()\n",
      "\u001b[1;31mKeyboardInterrupt\u001b[0m: "
     ]
    }
   ],
   "source": [
    "env = gym.make(\"ALE/Assault-ram-v5\", render_mode=\"human\")\n",
    "env.metadata[\"render_fps\"] = 30\n",
    "\n",
    "score_history: list[float] = [0]\n",
    "state = env.reset()[0]\n",
    "\n",
    "while True:\n",
    "    # print(state)\n",
    "    action, _, _ = estimator.get_action(state)\n",
    "    next_state, reward, is_done, is_truncated, _ = env.step(action)\n",
    "    score_history.append(score_history[-1] + reward)\n",
    "\n",
    "    if is_truncated or is_done:\n",
    "        break\n",
    "\n",
    "    state = next_state\n",
    "    env.render()\n",
    "\n",
    "# plt.plot(score_history, \".\")\n",
    "env.close()"
   ]
  },
  {
   "cell_type": "code",
   "execution_count": null,
   "metadata": {},
   "outputs": [],
   "source": [
    "# estimator.save(\"actor.pt\")"
   ]
  }
 ],
 "metadata": {
  "kernelspec": {
   "display_name": "machine_learning",
   "language": "python",
   "name": "python3"
  },
  "language_info": {
   "codemirror_mode": {
    "name": "ipython",
    "version": 3
   },
   "file_extension": ".py",
   "mimetype": "text/x-python",
   "name": "python",
   "nbconvert_exporter": "python",
   "pygments_lexer": "ipython3",
   "version": "3.11.9"
  }
 },
 "nbformat": 4,
 "nbformat_minor": 2
}
