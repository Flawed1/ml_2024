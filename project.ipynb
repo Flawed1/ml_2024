{
 "cells": [
  {
   "cell_type": "markdown",
   "metadata": {},
   "source": [
    "# Знакомство со средой"
   ]
  },
  {
   "cell_type": "code",
   "execution_count": 1,
   "metadata": {},
   "outputs": [],
   "source": [
    "from typing import *\n",
    "import gymnasium as gym\n",
    "import torch\n",
    "import matplotlib.pyplot as plt\n",
    "import numpy as np\n",
    "from numpy.typing import NDArray"
   ]
  },
  {
   "cell_type": "code",
   "execution_count": 2,
   "metadata": {},
   "outputs": [
    {
     "name": "stderr",
     "output_type": "stream",
     "text": [
      "A.L.E: Arcade Learning Environment (version 0.8.1+53f58b7)\n",
      "[Powered by Stella]\n"
     ]
    }
   ],
   "source": [
    "env = gym.make(\"ALE/Assault-ram-v5\", render_mode=\"rgb_array\")"
   ]
  },
  {
   "cell_type": "code",
   "execution_count": 3,
   "metadata": {},
   "outputs": [
    {
     "data": {
      "text/plain": [
       "Discrete(7)"
      ]
     },
     "execution_count": 3,
     "metadata": {},
     "output_type": "execute_result"
    }
   ],
   "source": [
    "env.action_space"
   ]
  },
  {
   "cell_type": "code",
   "execution_count": 4,
   "metadata": {},
   "outputs": [
    {
     "data": {
      "text/plain": [
       "Box(0, 255, (128,), uint8)"
      ]
     },
     "execution_count": 4,
     "metadata": {},
     "output_type": "execute_result"
    }
   ],
   "source": [
    "env.observation_space"
   ]
  },
  {
   "cell_type": "code",
   "execution_count": 5,
   "metadata": {},
   "outputs": [
    {
     "data": {
      "text/plain": [
       "(array([  0,   0,   0,   0,   0,   0,   0,   0,   0,   0,   0,  96, 254,\n",
       "          0,   0,   0,   6, 100, 100, 100,   0,   0,   0,   0,  88, 254,\n",
       "          0,   0, 192,   0, 136, 252,   2,   2,   2,   2, 130, 130, 130,\n",
       "          6, 188, 255,   0,  25,   0, 253,   0, 253, 128,  64, 128, 128,\n",
       "         64, 128,   0,   0,   0,   0,   0,   0,   0,   0,  16,  16,   0,\n",
       "        253,   0, 127, 115, 100,  64,  19,  24,   0, 253,   0,   0,   0,\n",
       "          0,   0,   2, 130,   0, 254,   0, 254,   0, 254,   0, 254,   0,\n",
       "        254, 144,  60,   0,   0,   0,   0,   0,  80, 254,   4, 207,  68,\n",
       "          0,  10,   0,   4,   0,   0, 255, 248,   0,   0,  64,   0, 172,\n",
       "          0,   0,   0,  15, 252, 157, 251,  64, 251, 112, 243], dtype=uint8),\n",
       " {'lives': 4, 'episode_frame_number': 0, 'frame_number': 0})"
      ]
     },
     "execution_count": 5,
     "metadata": {},
     "output_type": "execute_result"
    }
   ],
   "source": [
    "env.reset()"
   ]
  },
  {
   "cell_type": "code",
   "execution_count": 6,
   "metadata": {},
   "outputs": [
    {
     "data": {
      "text/plain": [
       "(array([  0,   0,   0,   0,   0,   0,   0,   0,   0,   0,   0,  96, 254,\n",
       "          0,   0,   0,   6, 100, 100, 100,   0, 198,   0,   0,   0, 253,\n",
       "          0,   0, 192,   0, 136, 252,   2,  66, 194,  66, 194,  51, 194,\n",
       "          6, 188, 255,   0,  25,   0, 253,   0, 253, 128,  64, 128, 128,\n",
       "         64, 128,   0,   0,   0,   0,   0,   0,  28,  28,  17,  17,   0,\n",
       "        253,   0, 127,  51,  36,  64,  19,  24,   0, 253,   0,   0,   0,\n",
       "          0,   0,  66, 194,   0, 254,   0, 254,   0, 254,   0, 254,   0,\n",
       "        254, 144,  60,   0,   0,   0,   0,   0,  80, 254,   4,  50,  72,\n",
       "          0,  10,   0,   8,   0,   0, 255, 248,   0,   0,  64,   0, 154,\n",
       "          0,   0,   0, 248, 251,  15, 252,  64, 251,   0, 245], dtype=uint8),\n",
       " 0.0,\n",
       " False,\n",
       " False,\n",
       " {'lives': 4, 'episode_frame_number': 4, 'frame_number': 4})"
      ]
     },
     "execution_count": 6,
     "metadata": {},
     "output_type": "execute_result"
    }
   ],
   "source": [
    "env.step(env.action_space.sample())"
   ]
  },
  {
   "cell_type": "code",
   "execution_count": 7,
   "metadata": {},
   "outputs": [
    {
     "name": "stderr",
     "output_type": "stream",
     "text": [
      "/home/andrew/Projects/2024_1/machine_learning/lib/python3.11/site-packages/gymnasium/utils/passive_env_checker.py:335: UserWarning: \u001b[33mWARN: No render fps was declared in the environment (env.metadata['render_fps'] is None or not defined), rendering may occur at inconsistent fps.\u001b[0m\n",
      "  logger.warn(\n"
     ]
    },
    {
     "data": {
      "text/plain": [
       "<matplotlib.image.AxesImage at 0x7f88389d61d0>"
      ]
     },
     "execution_count": 7,
     "metadata": {},
     "output_type": "execute_result"
    },
    {
     "data": {
      "image/png": "[encoded data removed]",
      "text/plain": [
       "<Figure size 640x480 with 1 Axes>"
      ]
     },
     "metadata": {},
     "output_type": "display_data"
    }
   ],
   "source": [
    "plt.imshow(env.render())"
   ]
  },
  {
   "cell_type": "code",
   "execution_count": 8,
   "metadata": {},
   "outputs": [],
   "source": [
    "env.close()"
   ]
  },
  {
   "cell_type": "code",
   "execution_count": 9,
   "metadata": {},
   "outputs": [],
   "source": [
    "env = gym.make(\"ALE/Assault-ram-v5\")"
   ]
  },
  {
   "cell_type": "code",
   "execution_count": 10,
   "metadata": {},
   "outputs": [],
   "source": [
    "def eps_greedy_policy(n_action: int, eps: float, Q: Any) -> float:\n",
    "    probabilities = torch.ones(n_action) * eps / n_action\n",
    "    best_action = torch.argmax(Q).item()\n",
    "    probabilities[best_action] += 1 - eps\n",
    "    return torch.multinomial(torch.ones(len(probabilities)), 1).item()"
   ]
  },
  {
   "cell_type": "code",
   "execution_count": 11,
   "metadata": {},
   "outputs": [
    {
     "data": {
      "text/plain": [
       "(array([  0,   0,   0,   0,   0,   0,   0,   0,   0,   0,   0,  96, 254,\n",
       "          0,   0,   0,   6, 100, 100, 100,   0,   0,   0,   0,  88, 254,\n",
       "          0,   0, 192,   0, 136, 252,   2,   2,   2,   2, 130, 130, 130,\n",
       "          6, 188, 255,   0,  25,   0, 253,   0, 253, 128,  64, 128, 128,\n",
       "         64, 128,   0,   0,   0,   0,   0,   0,   0,   0,  16,  16,   0,\n",
       "        253,   0, 127, 115, 100,  64,  19,  24,   0, 253,   0,   0,   0,\n",
       "          0,   0,   2, 130,   0, 254,   0, 254,   0, 254,   0, 254,   0,\n",
       "        254, 144,  60,   0,   0,   0,   0,   0,  80, 254,   4, 207,  68,\n",
       "          0,  10,   0,   4,   0,   0, 255, 248,   0,   0,  64,   0, 172,\n",
       "          0,   0,   0,  15, 252, 157, 251,  64, 251, 112, 243], dtype=uint8),\n",
       " {'lives': 4, 'episode_frame_number': 0, 'frame_number': 0})"
      ]
     },
     "execution_count": 11,
     "metadata": {},
     "output_type": "execute_result"
    }
   ],
   "source": [
    "env.reset()"
   ]
  },
  {
   "cell_type": "code",
   "execution_count": 12,
   "metadata": {},
   "outputs": [],
   "source": [
    "def step_print(string: str, iteration: int, step: int) -> None:\n",
    "    if iteration % step == 0:\n",
    "        print(string)"
   ]
  },
  {
   "cell_type": "code",
   "execution_count": 13,
   "metadata": {},
   "outputs": [
    {
     "name": "stdout",
     "output_type": "stream",
     "text": [
      "0\n",
      "10\n",
      "20\n",
      "30\n",
      "40\n",
      "50\n",
      "60\n",
      "70\n",
      "80\n",
      "90\n"
     ]
    }
   ],
   "source": [
    "n_episodes = 100\n",
    "n_action = 7\n",
    "\n",
    "action_count = [0 for _ in range(n_action)]\n",
    "action_total_reward = [0 for _ in range(n_action)]\n",
    "action_avg_reward: list[list[float | None]] = [[] for _ in range(n_action)]\n",
    "\n",
    "path: list[list[tuple[NDArray[np.uint8], int]]] = list() # state, action\n",
    "rewards: list[float] = list()\n",
    "\n",
    "eps: Final[float] = 0.2\n",
    "Q = torch.zeros(n_action)\n",
    "\n",
    "for episode in range(n_episodes):\n",
    "    path.append([])\n",
    "    env.reset()\n",
    "    total_reward = 0.\n",
    "    while True:\n",
    "        action = eps_greedy_policy(n_action, eps, Q)\n",
    "        state, reward, is_terminated, is_truncated, _ = env.step(action)\n",
    "\n",
    "        action_count[action] += 1\n",
    "        action_total_reward[action] += reward\n",
    "        total_reward += reward\n",
    "\n",
    "        Q[action] = action_total_reward[action] / action_count[action]\n",
    "        for i in range(n_action):\n",
    "            if action_count[i] != 0:\n",
    "                action_avg_reward[i].append(action_total_reward[i] / action_count[i])\n",
    "            else:\n",
    "                action_avg_reward[i].append(None)\n",
    "        path[-1].append([state, action])\n",
    "        if is_terminated or is_truncated:\n",
    "            break\n",
    "    step_print(episode, episode, 10)\n",
    "    rewards.append(total_reward)"
   ]
  },
  {
   "cell_type": "code",
   "execution_count": 14,
   "metadata": {},
   "outputs": [
    {
     "data": {
      "text/plain": [
       "tensor([0.4707, 0.4310, 0.3700, 0.4219, 0.3938, 0.4076, 0.4343])"
      ]
     },
     "execution_count": 14,
     "metadata": {},
     "output_type": "execute_result"
    }
   ],
   "source": [
    "Q"
   ]
  },
  {
   "cell_type": "code",
   "execution_count": 15,
   "metadata": {},
   "outputs": [
    {
     "data": {
      "text/plain": [
       "([8165, 8234, 8117, 8064, 8212, 8295, 8027],\n",
       " [3843.0, 3549.0, 3003.0, 3402.0, 3234.0, 3381.0, 3486.0])"
      ]
     },
     "execution_count": 15,
     "metadata": {},
     "output_type": "execute_result"
    }
   ],
   "source": [
    "action_count, action_total_reward"
   ]
  },
  {
   "cell_type": "code",
   "execution_count": null,
   "metadata": {},
   "outputs": [],
   "source": [
    "path"
   ]
  },
  {
   "cell_type": "code",
   "execution_count": 17,
   "metadata": {},
   "outputs": [
    {
     "data": {
      "text/plain": [
       "[315.0,\n",
       " 210.0,\n",
       " 231.0,\n",
       " 378.0,\n",
       " 189.0,\n",
       " 294.0,\n",
       " 315.0,\n",
       " 189.0,\n",
       " 273.0,\n",
       " 126.0,\n",
       " 189.0,\n",
       " 189.0,\n",
       " 189.0,\n",
       " 231.0,\n",
       " 231.0,\n",
       " 189.0,\n",
       " 231.0,\n",
       " 168.0,\n",
       " 210.0,\n",
       " 126.0,\n",
       " 378.0,\n",
       " 231.0,\n",
       " 105.0,\n",
       " 189.0,\n",
       " 168.0,\n",
       " 273.0,\n",
       " 399.0,\n",
       " 189.0,\n",
       " 189.0,\n",
       " 294.0,\n",
       " 315.0,\n",
       " 315.0,\n",
       " 189.0,\n",
       " 315.0,\n",
       " 231.0,\n",
       " 294.0,\n",
       " 189.0,\n",
       " 189.0,\n",
       " 189.0,\n",
       " 336.0,\n",
       " 315.0,\n",
       " 336.0,\n",
       " 336.0,\n",
       " 147.0,\n",
       " 231.0,\n",
       " 336.0,\n",
       " 189.0,\n",
       " 189.0,\n",
       " 189.0,\n",
       " 210.0,\n",
       " 147.0,\n",
       " 189.0,\n",
       " 231.0,\n",
       " 294.0,\n",
       " 273.0,\n",
       " 294.0,\n",
       " 231.0,\n",
       " 336.0,\n",
       " 105.0,\n",
       " 357.0,\n",
       " 168.0,\n",
       " 189.0,\n",
       " 147.0,\n",
       " 189.0,\n",
       " 231.0,\n",
       " 231.0,\n",
       " 189.0,\n",
       " 273.0,\n",
       " 315.0,\n",
       " 168.0,\n",
       " 189.0,\n",
       " 189.0,\n",
       " 189.0,\n",
       " 273.0,\n",
       " 294.0,\n",
       " 189.0,\n",
       " 189.0,\n",
       " 378.0,\n",
       " 168.0,\n",
       " 294.0,\n",
       " 147.0,\n",
       " 252.0,\n",
       " 189.0,\n",
       " 252.0,\n",
       " 168.0,\n",
       " 399.0,\n",
       " 399.0,\n",
       " 231.0,\n",
       " 210.0,\n",
       " 315.0,\n",
       " 252.0,\n",
       " 189.0,\n",
       " 273.0,\n",
       " 273.0,\n",
       " 357.0,\n",
       " 168.0,\n",
       " 189.0,\n",
       " 189.0,\n",
       " 336.0,\n",
       " 273.0]"
      ]
     },
     "execution_count": 17,
     "metadata": {},
     "output_type": "execute_result"
    }
   ],
   "source": [
    "rewards"
   ]
  },
  {
   "cell_type": "code",
   "execution_count": 18,
   "metadata": {},
   "outputs": [
    {
     "data": {
      "text/plain": [
       "'Точечная оценка: 238.98'"
      ]
     },
     "execution_count": 18,
     "metadata": {},
     "output_type": "execute_result"
    }
   ],
   "source": [
    "rewards_mean = np.mean(rewards)\n",
    "f\"Точечная оценка: {rewards_mean}\""
   ]
  },
  {
   "cell_type": "code",
   "execution_count": 19,
   "metadata": {},
   "outputs": [
    {
     "data": {
      "text/plain": [
       "71.31010383592853"
      ]
     },
     "execution_count": 19,
     "metadata": {},
     "output_type": "execute_result"
    }
   ],
   "source": [
    "unbiased_variance = np.sqrt(sum(np.power(np.array(rewards) - np.mean(rewards), 2)) / (len(rewards) - 1))\n",
    "unbiased_variance"
   ]
  },
  {
   "cell_type": "code",
   "execution_count": 20,
   "metadata": {},
   "outputs": [],
   "source": [
    "t = 0.99\n",
    "t_y = 2.627\n",
    "delta = t_y * unbiased_variance / np.sqrt(len(rewards))"
   ]
  },
  {
   "cell_type": "code",
   "execution_count": 21,
   "metadata": {},
   "outputs": [
    {
     "data": {
      "text/plain": [
       "'Интервальная оценка: (220.24683572230157, 257.7131642776984)'"
      ]
     },
     "execution_count": 21,
     "metadata": {},
     "output_type": "execute_result"
    }
   ],
   "source": [
    "f\"Интервальная оценка: ({rewards_mean - delta}, {rewards_mean + delta})\""
   ]
  },
  {
   "cell_type": "markdown",
   "metadata": {},
   "source": [
    "# Модель 1"
   ]
  },
  {
   "cell_type": "code",
   "execution_count": 471,
   "metadata": {},
   "outputs": [],
   "source": [
    "import torch.nn as nn\n",
    "import torch.nn.functional as F"
   ]
  },
  {
   "cell_type": "code",
   "execution_count": 472,
   "metadata": {},
   "outputs": [],
   "source": [
    "class ActorCriticModel(nn.Module):\n",
    "    def __init__(self, n_input: int, n_output: int, n_hidden: List[int]) -> None:\n",
    "        super(ActorCriticModel, self).__init__()\n",
    "        self.fc1 = nn.Linear(n_input, n_hidden[0])\n",
    "        self.fc2 = nn.Linear(n_hidden[0], n_hidden[1])\n",
    "        self.action = nn.Linear(n_hidden[1], n_output)\n",
    "        self.value = nn.Linear(n_hidden[1], 1)\n",
    "    \n",
    "    def forward(self, x: int) -> tuple[torch.Tensor, torch.Tensor]:\n",
    "        x = torch.Tensor(x)\n",
    "        x = F.relu(self.fc1(x))\n",
    "        x = F.relu(self.fc2(x))\n",
    "        action_probs = F.softmax(self.action(x), dim=-1)\n",
    "        state_value = self.value(x)\n",
    "        return action_probs, state_value"
   ]
  },
  {
   "cell_type": "code",
   "execution_count": 473,
   "metadata": {},
   "outputs": [],
   "source": [
    "class PolicyNetwork:\n",
    "    def __init__(self, n_state: int, n_actions: int, n_hidden: int, lr: float = 0.001) -> None:\n",
    "        self.model = ActorCriticModel(n_state, n_action, n_hidden)\n",
    "        self.optimizer = torch.optim.Adam(self.model.parameters(), lr)\n",
    "        self.scheduler = torch.optim.lr_scheduler.StepLR(self.optimizer, step_size=10, gamma=0.5)\n",
    "    \n",
    "    def predict(self, s: Any) -> Any:\n",
    "        return self.model(torch.tensor(s, dtype=torch.float))\n",
    "    \n",
    "    def update(self, returns, log_probs, state_values) -> None:\n",
    "        loss = 0\n",
    "        for log_prob, value, Gt in zip(log_probs, state_values, returns):\n",
    "            advantage = Gt - value.item()\n",
    "            policy_loss = -log_prob * advantage\n",
    "            value_loss = F.smooth_l1_loss(value, Gt)\n",
    "            loss += policy_loss + value_loss\n",
    "        self.optimizer.zero_grad()\n",
    "        loss.backward()\n",
    "        self.optimizer.step()\n",
    "    \n",
    "    def get_action(self, s) -> tuple:\n",
    "        action_probs, state_value = self.predict(s)\n",
    "        action = torch.multinomial(action_probs, 1).item()\n",
    "        log_prob = torch.log(action_probs[action])\n",
    "        return action, log_prob, state_value\n",
    "\n",
    "    def save(self, filename: str) -> None:\n",
    "        torch.save(self, filename)\n",
    "    \n",
    "    @classmethod\n",
    "    def load(cls, filename: str) -> Self:\n",
    "        return torch.load(filename)"
   ]
  },
  {
   "cell_type": "code",
   "execution_count": 474,
   "metadata": {},
   "outputs": [],
   "source": [
    "def actor_critic(env: gym.Env, estimator: PolicyNetwork, n_episode: int, gamma: float = 1.0) -> list[float]:\n",
    "    total_reward_episode = list()\n",
    "    success_score = 300\n",
    "    step = 0\n",
    "    for episode in range(n_episode):\n",
    "        total_reward_episode.append(0)\n",
    "        log_probs = []\n",
    "        rewards = []\n",
    "        state_values = []\n",
    "\n",
    "        state = env.reset(seed=0)[0]\n",
    "        while True:\n",
    "            #one_hot_state = [0] * 48\n",
    "            #one_hot_state[state] = 1\n",
    "            # print(state)\n",
    "            action, log_prob, state_value = estimator.get_action(state)\n",
    "            next_state, reward, is_done, is_truncated, _ = env.step(action)\n",
    "            total_reward_episode[episode] += reward\n",
    "            log_probs.append(log_prob)\n",
    "            state_values.append(state_value)\n",
    "            rewards.append(reward)\n",
    "\n",
    "            if is_truncated or is_done:\n",
    "                returns = []\n",
    "                Gt = 0\n",
    "                pw = 0\n",
    "                for reward in rewards[::-1]:\n",
    "                    Gt += gamma ** pw * reward\n",
    "                    returns.append(Gt)\n",
    "                    pw += 1\n",
    "                returns = returns[::-1]\n",
    "                returns_amount = len(returns)\n",
    "                returns = torch.tensor(returns)\n",
    "                returns = (returns - returns.mean()) / (returns.std() + 1e-9)\n",
    "                returns.resize_(returns_amount, 1)\n",
    "                estimator.update(returns, log_probs, state_values)\n",
    "                if total_reward_episode[episode] >= success_score:\n",
    "                    estimator.scheduler.step()\n",
    "                    step += 1\n",
    "                    if step == 10:\n",
    "                        success_score += 100\n",
    "                        step = 0\n",
    "                break\n",
    "\n",
    "            state = next_state\n",
    "        step_print(f\"{episode}: {total_reward_episode[episode]}, mean: {round(np.mean(total_reward_episode), 2)}, eliminated enemies: {int(total_reward_episode[episode] // 21)}, success score: {success_score}, lr: {estimator.optimizer.param_groups[0]['lr']}\", episode, 1)\n",
    "    return total_reward_episode"
   ]
  },
  {
   "cell_type": "code",
   "execution_count": 475,
   "metadata": {},
   "outputs": [],
   "source": [
    "estimator = PolicyNetwork(env.observation_space.shape[0], env.action_space.n, [128, 64], 0.0001)"
   ]
  },
  {
   "cell_type": "code",
   "execution_count": 476,
   "metadata": {},
   "outputs": [],
   "source": [
    "n_episodes = 2000\n",
    "gamma = .9"
   ]
  },
  {
   "cell_type": "code",
   "execution_count": 477,
   "metadata": {},
   "outputs": [],
   "source": [
    "rewards: list[float] = list()"
   ]
  },
  {
   "cell_type": "code",
   "execution_count": 478,
   "metadata": {},
   "outputs": [
    {
     "name": "stdout",
     "output_type": "stream",
     "text": [
      "0: 21.0, mean: 21.0, eliminated enemies: 1, success score: 300, lr: 0.0001\n",
      "1: 21.0, mean: 21.0, eliminated enemies: 1, success score: 300, lr: 0.0001\n",
      "2: 21.0, mean: 21.0, eliminated enemies: 1, success score: 300, lr: 0.0001\n",
      "3: 21.0, mean: 21.0, eliminated enemies: 1, success score: 300, lr: 0.0001\n",
      "4: 21.0, mean: 21.0, eliminated enemies: 1, success score: 300, lr: 0.0001\n",
      "5: 21.0, mean: 21.0, eliminated enemies: 1, success score: 300, lr: 0.0001\n",
      "6: 0.0, mean: 18.0, eliminated enemies: 0, success score: 300, lr: 0.0001\n",
      "7: 21.0, mean: 18.38, eliminated enemies: 1, success score: 300, lr: 0.0001\n",
      "8: 21.0, mean: 18.67, eliminated enemies: 1, success score: 300, lr: 0.0001\n",
      "9: 0.0, mean: 16.8, eliminated enemies: 0, success score: 300, lr: 0.0001\n",
      "10: 21.0, mean: 17.18, eliminated enemies: 1, success score: 300, lr: 0.0001\n",
      "11: 21.0, mean: 17.5, eliminated enemies: 1, success score: 300, lr: 0.0001\n",
      "12: 0.0, mean: 16.15, eliminated enemies: 0, success score: 300, lr: 0.0001\n",
      "13: 21.0, mean: 16.5, eliminated enemies: 1, success score: 300, lr: 0.0001\n",
      "14: 42.0, mean: 18.2, eliminated enemies: 2, success score: 300, lr: 0.0001\n",
      "15: 0.0, mean: 17.06, eliminated enemies: 0, success score: 300, lr: 0.0001\n",
      "16: 42.0, mean: 18.53, eliminated enemies: 2, success score: 300, lr: 0.0001\n",
      "17: 21.0, mean: 18.67, eliminated enemies: 1, success score: 300, lr: 0.0001\n",
      "18: 21.0, mean: 18.79, eliminated enemies: 1, success score: 300, lr: 0.0001\n",
      "19: 21.0, mean: 18.9, eliminated enemies: 1, success score: 300, lr: 0.0001\n",
      "20: 21.0, mean: 19.0, eliminated enemies: 1, success score: 300, lr: 0.0001\n",
      "21: 21.0, mean: 19.09, eliminated enemies: 1, success score: 300, lr: 0.0001\n",
      "22: 21.0, mean: 19.17, eliminated enemies: 1, success score: 300, lr: 0.0001\n",
      "23: 42.0, mean: 20.12, eliminated enemies: 2, success score: 300, lr: 0.0001\n",
      "24: 0.0, mean: 19.32, eliminated enemies: 0, success score: 300, lr: 0.0001\n",
      "25: 21.0, mean: 19.38, eliminated enemies: 1, success score: 300, lr: 0.0001\n",
      "26: 21.0, mean: 19.44, eliminated enemies: 1, success score: 300, lr: 0.0001\n",
      "27: 21.0, mean: 19.5, eliminated enemies: 1, success score: 300, lr: 0.0001\n",
      "28: 21.0, mean: 19.55, eliminated enemies: 1, success score: 300, lr: 0.0001\n",
      "29: 21.0, mean: 19.6, eliminated enemies: 1, success score: 300, lr: 0.0001\n",
      "30: 21.0, mean: 19.65, eliminated enemies: 1, success score: 300, lr: 0.0001\n",
      "31: 21.0, mean: 19.69, eliminated enemies: 1, success score: 300, lr: 0.0001\n",
      "32: 21.0, mean: 19.73, eliminated enemies: 1, success score: 300, lr: 0.0001\n",
      "33: 21.0, mean: 19.76, eliminated enemies: 1, success score: 300, lr: 0.0001\n",
      "34: 21.0, mean: 19.8, eliminated enemies: 1, success score: 300, lr: 0.0001\n",
      "35: 21.0, mean: 19.83, eliminated enemies: 1, success score: 300, lr: 0.0001\n",
      "36: 21.0, mean: 19.86, eliminated enemies: 1, success score: 300, lr: 0.0001\n",
      "37: 0.0, mean: 19.34, eliminated enemies: 0, success score: 300, lr: 0.0001\n",
      "38: 42.0, mean: 19.92, eliminated enemies: 2, success score: 300, lr: 0.0001\n",
      "39: 21.0, mean: 19.95, eliminated enemies: 1, success score: 300, lr: 0.0001\n",
      "40: 42.0, mean: 20.49, eliminated enemies: 2, success score: 300, lr: 0.0001\n",
      "41: 21.0, mean: 20.5, eliminated enemies: 1, success score: 300, lr: 0.0001\n",
      "42: 21.0, mean: 20.51, eliminated enemies: 1, success score: 300, lr: 0.0001\n",
      "43: 21.0, mean: 20.52, eliminated enemies: 1, success score: 300, lr: 0.0001\n",
      "44: 21.0, mean: 20.53, eliminated enemies: 1, success score: 300, lr: 0.0001\n",
      "45: 0.0, mean: 20.09, eliminated enemies: 0, success score: 300, lr: 0.0001\n",
      "46: 42.0, mean: 20.55, eliminated enemies: 2, success score: 300, lr: 0.0001\n",
      "47: 0.0, mean: 20.12, eliminated enemies: 0, success score: 300, lr: 0.0001\n",
      "48: 63.0, mean: 21.0, eliminated enemies: 3, success score: 300, lr: 0.0001\n",
      "49: 42.0, mean: 21.42, eliminated enemies: 2, success score: 300, lr: 0.0001\n",
      "50: 21.0, mean: 21.41, eliminated enemies: 1, success score: 300, lr: 0.0001\n",
      "51: 21.0, mean: 21.4, eliminated enemies: 1, success score: 300, lr: 0.0001\n",
      "52: 42.0, mean: 21.79, eliminated enemies: 2, success score: 300, lr: 0.0001\n",
      "53: 21.0, mean: 21.78, eliminated enemies: 1, success score: 300, lr: 0.0001\n",
      "54: 63.0, mean: 22.53, eliminated enemies: 3, success score: 300, lr: 0.0001\n",
      "55: 42.0, mean: 22.88, eliminated enemies: 2, success score: 300, lr: 0.0001\n",
      "56: 21.0, mean: 22.84, eliminated enemies: 1, success score: 300, lr: 0.0001\n",
      "57: 21.0, mean: 22.81, eliminated enemies: 1, success score: 300, lr: 0.0001\n",
      "58: 21.0, mean: 22.78, eliminated enemies: 1, success score: 300, lr: 0.0001\n",
      "59: 84.0, mean: 23.8, eliminated enemies: 4, success score: 300, lr: 0.0001\n",
      "60: 21.0, mean: 23.75, eliminated enemies: 1, success score: 300, lr: 0.0001\n",
      "61: 42.0, mean: 24.05, eliminated enemies: 2, success score: 300, lr: 0.0001\n",
      "62: 42.0, mean: 24.33, eliminated enemies: 2, success score: 300, lr: 0.0001\n",
      "63: 84.0, mean: 25.27, eliminated enemies: 4, success score: 300, lr: 0.0001\n",
      "64: 21.0, mean: 25.2, eliminated enemies: 1, success score: 300, lr: 0.0001\n",
      "65: 21.0, mean: 25.14, eliminated enemies: 1, success score: 300, lr: 0.0001\n",
      "66: 21.0, mean: 25.07, eliminated enemies: 1, success score: 300, lr: 0.0001\n",
      "67: 42.0, mean: 25.32, eliminated enemies: 2, success score: 300, lr: 0.0001\n",
      "68: 42.0, mean: 25.57, eliminated enemies: 2, success score: 300, lr: 0.0001\n",
      "69: 105.0, mean: 26.7, eliminated enemies: 5, success score: 300, lr: 0.0001\n",
      "70: 21.0, mean: 26.62, eliminated enemies: 1, success score: 300, lr: 0.0001\n",
      "71: 42.0, mean: 26.83, eliminated enemies: 2, success score: 300, lr: 0.0001\n",
      "72: 42.0, mean: 27.04, eliminated enemies: 2, success score: 300, lr: 0.0001\n",
      "73: 42.0, mean: 27.24, eliminated enemies: 2, success score: 300, lr: 0.0001\n",
      "74: 126.0, mean: 28.56, eliminated enemies: 6, success score: 300, lr: 0.0001\n",
      "75: 63.0, mean: 29.01, eliminated enemies: 3, success score: 300, lr: 0.0001\n",
      "76: 147.0, mean: 30.55, eliminated enemies: 7, success score: 300, lr: 0.0001\n",
      "77: 189.0, mean: 32.58, eliminated enemies: 9, success score: 300, lr: 0.0001\n",
      "78: 147.0, mean: 34.03, eliminated enemies: 7, success score: 300, lr: 0.0001\n",
      "79: 42.0, mean: 34.12, eliminated enemies: 2, success score: 300, lr: 0.0001\n",
      "80: 84.0, mean: 34.74, eliminated enemies: 4, success score: 300, lr: 0.0001\n",
      "81: 21.0, mean: 34.57, eliminated enemies: 1, success score: 300, lr: 0.0001\n",
      "82: 42.0, mean: 34.66, eliminated enemies: 2, success score: 300, lr: 0.0001\n",
      "83: 42.0, mean: 34.75, eliminated enemies: 2, success score: 300, lr: 0.0001\n",
      "84: 63.0, mean: 35.08, eliminated enemies: 3, success score: 300, lr: 0.0001\n",
      "85: 84.0, mean: 35.65, eliminated enemies: 4, success score: 300, lr: 0.0001\n",
      "86: 84.0, mean: 36.21, eliminated enemies: 4, success score: 300, lr: 0.0001\n",
      "87: 21.0, mean: 36.03, eliminated enemies: 1, success score: 300, lr: 0.0001\n",
      "88: 63.0, mean: 36.34, eliminated enemies: 3, success score: 300, lr: 0.0001\n",
      "89: 63.0, mean: 36.63, eliminated enemies: 3, success score: 300, lr: 0.0001\n",
      "90: 105.0, mean: 37.38, eliminated enemies: 5, success score: 300, lr: 0.0001\n",
      "91: 147.0, mean: 38.58, eliminated enemies: 7, success score: 300, lr: 0.0001\n",
      "92: 126.0, mean: 39.52, eliminated enemies: 6, success score: 300, lr: 0.0001\n",
      "93: 126.0, mean: 40.44, eliminated enemies: 6, success score: 300, lr: 0.0001\n",
      "94: 105.0, mean: 41.12, eliminated enemies: 5, success score: 300, lr: 0.0001\n",
      "95: 105.0, mean: 41.78, eliminated enemies: 5, success score: 300, lr: 0.0001\n",
      "96: 84.0, mean: 42.22, eliminated enemies: 4, success score: 300, lr: 0.0001\n",
      "97: 105.0, mean: 42.86, eliminated enemies: 5, success score: 300, lr: 0.0001\n",
      "98: 84.0, mean: 43.27, eliminated enemies: 4, success score: 300, lr: 0.0001\n",
      "99: 42.0, mean: 43.26, eliminated enemies: 2, success score: 300, lr: 0.0001\n",
      "100: 42.0, mean: 43.25, eliminated enemies: 2, success score: 300, lr: 0.0001\n",
      "101: 63.0, mean: 43.44, eliminated enemies: 3, success score: 300, lr: 0.0001\n",
      "102: 42.0, mean: 43.43, eliminated enemies: 2, success score: 300, lr: 0.0001\n",
      "103: 147.0, mean: 44.42, eliminated enemies: 7, success score: 300, lr: 0.0001\n",
      "104: 231.0, mean: 46.2, eliminated enemies: 11, success score: 300, lr: 0.0001\n",
      "105: 147.0, mean: 47.15, eliminated enemies: 7, success score: 300, lr: 0.0001\n",
      "106: 105.0, mean: 47.69, eliminated enemies: 5, success score: 300, lr: 0.0001\n",
      "107: 21.0, mean: 47.44, eliminated enemies: 1, success score: 300, lr: 0.0001\n",
      "108: 210.0, mean: 48.94, eliminated enemies: 10, success score: 300, lr: 0.0001\n",
      "109: 147.0, mean: 49.83, eliminated enemies: 7, success score: 300, lr: 0.0001\n",
      "110: 63.0, mean: 49.95, eliminated enemies: 3, success score: 300, lr: 0.0001\n",
      "111: 189.0, mean: 51.19, eliminated enemies: 9, success score: 300, lr: 0.0001\n",
      "112: 126.0, mean: 51.85, eliminated enemies: 6, success score: 300, lr: 0.0001\n",
      "113: 84.0, mean: 52.13, eliminated enemies: 4, success score: 300, lr: 0.0001\n",
      "114: 126.0, mean: 52.77, eliminated enemies: 6, success score: 300, lr: 0.0001\n",
      "115: 21.0, mean: 52.5, eliminated enemies: 1, success score: 300, lr: 0.0001\n",
      "116: 147.0, mean: 53.31, eliminated enemies: 7, success score: 300, lr: 0.0001\n",
      "117: 126.0, mean: 53.92, eliminated enemies: 6, success score: 300, lr: 0.0001\n",
      "118: 105.0, mean: 54.35, eliminated enemies: 5, success score: 300, lr: 0.0001\n",
      "119: 84.0, mean: 54.6, eliminated enemies: 4, success score: 300, lr: 0.0001\n",
      "120: 126.0, mean: 55.19, eliminated enemies: 6, success score: 300, lr: 0.0001\n",
      "121: 84.0, mean: 55.43, eliminated enemies: 4, success score: 300, lr: 0.0001\n",
      "122: 126.0, mean: 56.0, eliminated enemies: 6, success score: 300, lr: 0.0001\n",
      "123: 84.0, mean: 56.23, eliminated enemies: 4, success score: 300, lr: 0.0001\n",
      "124: 105.0, mean: 56.62, eliminated enemies: 5, success score: 300, lr: 0.0001\n",
      "125: 84.0, mean: 56.83, eliminated enemies: 4, success score: 300, lr: 0.0001\n",
      "126: 84.0, mean: 57.05, eliminated enemies: 4, success score: 300, lr: 0.0001\n",
      "127: 84.0, mean: 57.26, eliminated enemies: 4, success score: 300, lr: 0.0001\n",
      "128: 147.0, mean: 57.95, eliminated enemies: 7, success score: 300, lr: 0.0001\n",
      "129: 126.0, mean: 58.48, eliminated enemies: 6, success score: 300, lr: 0.0001\n",
      "130: 84.0, mean: 58.67, eliminated enemies: 4, success score: 300, lr: 0.0001\n",
      "131: 63.0, mean: 58.7, eliminated enemies: 3, success score: 300, lr: 0.0001\n",
      "132: 84.0, mean: 58.89, eliminated enemies: 4, success score: 300, lr: 0.0001\n",
      "133: 105.0, mean: 59.24, eliminated enemies: 5, success score: 300, lr: 0.0001\n",
      "134: 126.0, mean: 59.73, eliminated enemies: 6, success score: 300, lr: 0.0001\n",
      "135: 105.0, mean: 60.07, eliminated enemies: 5, success score: 300, lr: 0.0001\n",
      "136: 105.0, mean: 60.39, eliminated enemies: 5, success score: 300, lr: 0.0001\n",
      "137: 63.0, mean: 60.41, eliminated enemies: 3, success score: 300, lr: 0.0001\n",
      "138: 189.0, mean: 61.34, eliminated enemies: 9, success score: 300, lr: 0.0001\n",
      "139: 63.0, mean: 61.35, eliminated enemies: 3, success score: 300, lr: 0.0001\n",
      "140: 126.0, mean: 61.81, eliminated enemies: 6, success score: 300, lr: 0.0001\n",
      "141: 189.0, mean: 62.7, eliminated enemies: 9, success score: 300, lr: 0.0001\n",
      "142: 105.0, mean: 63.0, eliminated enemies: 5, success score: 300, lr: 0.0001\n",
      "143: 105.0, mean: 63.29, eliminated enemies: 5, success score: 300, lr: 0.0001\n",
      "144: 105.0, mean: 63.58, eliminated enemies: 5, success score: 300, lr: 0.0001\n",
      "145: 147.0, mean: 64.15, eliminated enemies: 7, success score: 300, lr: 0.0001\n",
      "146: 105.0, mean: 64.43, eliminated enemies: 5, success score: 300, lr: 0.0001\n",
      "147: 105.0, mean: 64.7, eliminated enemies: 5, success score: 300, lr: 0.0001\n",
      "148: 105.0, mean: 64.97, eliminated enemies: 5, success score: 300, lr: 0.0001\n",
      "149: 105.0, mean: 65.24, eliminated enemies: 5, success score: 300, lr: 0.0001\n",
      "150: 42.0, mean: 65.09, eliminated enemies: 2, success score: 300, lr: 0.0001\n",
      "151: 105.0, mean: 65.35, eliminated enemies: 5, success score: 300, lr: 0.0001\n",
      "152: 189.0, mean: 66.16, eliminated enemies: 9, success score: 300, lr: 0.0001\n",
      "153: 189.0, mean: 66.95, eliminated enemies: 9, success score: 300, lr: 0.0001\n",
      "154: 189.0, mean: 67.74, eliminated enemies: 9, success score: 300, lr: 0.0001\n",
      "155: 126.0, mean: 68.12, eliminated enemies: 6, success score: 300, lr: 0.0001\n",
      "156: 84.0, mean: 68.22, eliminated enemies: 4, success score: 300, lr: 0.0001\n",
      "157: 147.0, mean: 68.72, eliminated enemies: 7, success score: 300, lr: 0.0001\n",
      "158: 168.0, mean: 69.34, eliminated enemies: 8, success score: 300, lr: 0.0001\n",
      "159: 105.0, mean: 69.56, eliminated enemies: 5, success score: 300, lr: 0.0001\n",
      "160: 126.0, mean: 69.91, eliminated enemies: 6, success score: 300, lr: 0.0001\n",
      "161: 189.0, mean: 70.65, eliminated enemies: 9, success score: 300, lr: 0.0001\n",
      "162: 147.0, mean: 71.12, eliminated enemies: 7, success score: 300, lr: 0.0001\n",
      "163: 84.0, mean: 71.2, eliminated enemies: 4, success score: 300, lr: 0.0001\n",
      "164: 168.0, mean: 71.78, eliminated enemies: 8, success score: 300, lr: 0.0001\n",
      "165: 126.0, mean: 72.11, eliminated enemies: 6, success score: 300, lr: 0.0001\n",
      "166: 210.0, mean: 72.93, eliminated enemies: 10, success score: 300, lr: 0.0001\n",
      "167: 126.0, mean: 73.25, eliminated enemies: 6, success score: 300, lr: 0.0001\n",
      "168: 210.0, mean: 74.06, eliminated enemies: 10, success score: 300, lr: 0.0001\n",
      "169: 105.0, mean: 74.24, eliminated enemies: 5, success score: 300, lr: 0.0001\n",
      "170: 231.0, mean: 75.16, eliminated enemies: 11, success score: 300, lr: 0.0001\n",
      "171: 105.0, mean: 75.33, eliminated enemies: 5, success score: 300, lr: 0.0001\n",
      "172: 210.0, mean: 76.11, eliminated enemies: 10, success score: 300, lr: 0.0001\n",
      "173: 210.0, mean: 76.88, eliminated enemies: 10, success score: 300, lr: 0.0001\n",
      "174: 168.0, mean: 77.4, eliminated enemies: 8, success score: 300, lr: 0.0001\n",
      "175: 210.0, mean: 78.15, eliminated enemies: 10, success score: 300, lr: 0.0001\n",
      "176: 105.0, mean: 78.31, eliminated enemies: 5, success score: 300, lr: 0.0001\n",
      "177: 189.0, mean: 78.93, eliminated enemies: 9, success score: 300, lr: 0.0001\n",
      "178: 105.0, mean: 79.07, eliminated enemies: 5, success score: 300, lr: 0.0001\n",
      "179: 210.0, mean: 79.8, eliminated enemies: 10, success score: 300, lr: 0.0001\n",
      "180: 210.0, mean: 80.52, eliminated enemies: 10, success score: 300, lr: 0.0001\n",
      "181: 273.0, mean: 81.58, eliminated enemies: 13, success score: 300, lr: 0.0001\n",
      "182: 210.0, mean: 82.28, eliminated enemies: 10, success score: 300, lr: 0.0001\n",
      "183: 210.0, mean: 82.97, eliminated enemies: 10, success score: 300, lr: 0.0001\n",
      "184: 147.0, mean: 83.32, eliminated enemies: 7, success score: 300, lr: 0.0001\n",
      "185: 147.0, mean: 83.66, eliminated enemies: 7, success score: 300, lr: 0.0001\n",
      "186: 147.0, mean: 84.0, eliminated enemies: 7, success score: 300, lr: 0.0001\n",
      "187: 168.0, mean: 84.45, eliminated enemies: 8, success score: 300, lr: 0.0001\n",
      "188: 84.0, mean: 84.44, eliminated enemies: 4, success score: 300, lr: 0.0001\n",
      "189: 147.0, mean: 84.77, eliminated enemies: 7, success score: 300, lr: 0.0001\n",
      "190: 189.0, mean: 85.32, eliminated enemies: 9, success score: 300, lr: 0.0001\n",
      "191: 189.0, mean: 85.86, eliminated enemies: 9, success score: 300, lr: 0.0001\n",
      "192: 231.0, mean: 86.61, eliminated enemies: 11, success score: 300, lr: 0.0001\n",
      "193: 105.0, mean: 86.71, eliminated enemies: 5, success score: 300, lr: 0.0001\n",
      "194: 147.0, mean: 87.02, eliminated enemies: 7, success score: 300, lr: 0.0001\n",
      "195: 126.0, mean: 87.21, eliminated enemies: 6, success score: 300, lr: 0.0001\n",
      "196: 252.0, mean: 88.05, eliminated enemies: 12, success score: 300, lr: 0.0001\n",
      "197: 210.0, mean: 88.67, eliminated enemies: 10, success score: 300, lr: 0.0001\n",
      "198: 273.0, mean: 89.59, eliminated enemies: 13, success score: 300, lr: 0.0001\n",
      "199: 210.0, mean: 90.2, eliminated enemies: 10, success score: 300, lr: 0.0001\n",
      "200: 210.0, mean: 90.79, eliminated enemies: 10, success score: 300, lr: 0.0001\n",
      "201: 252.0, mean: 91.59, eliminated enemies: 12, success score: 300, lr: 0.0001\n",
      "202: 420.0, mean: 93.21, eliminated enemies: 20, success score: 300, lr: 0.0001\n",
      "203: 231.0, mean: 93.88, eliminated enemies: 11, success score: 300, lr: 0.0001\n",
      "204: 294.0, mean: 94.86, eliminated enemies: 14, success score: 300, lr: 0.0001\n",
      "205: 294.0, mean: 95.83, eliminated enemies: 14, success score: 300, lr: 0.0001\n",
      "206: 378.0, mean: 97.19, eliminated enemies: 18, success score: 300, lr: 0.0001\n",
      "207: 147.0, mean: 97.43, eliminated enemies: 7, success score: 300, lr: 0.0001\n",
      "208: 273.0, mean: 98.27, eliminated enemies: 13, success score: 300, lr: 0.0001\n",
      "209: 336.0, mean: 99.4, eliminated enemies: 16, success score: 300, lr: 0.0001\n",
      "210: 252.0, mean: 100.12, eliminated enemies: 12, success score: 300, lr: 0.0001\n",
      "211: 336.0, mean: 101.24, eliminated enemies: 16, success score: 300, lr: 0.0001\n",
      "212: 252.0, mean: 101.94, eliminated enemies: 12, success score: 300, lr: 0.0001\n",
      "213: 315.0, mean: 102.94, eliminated enemies: 15, success score: 300, lr: 0.0001\n",
      "214: 252.0, mean: 103.63, eliminated enemies: 12, success score: 300, lr: 0.0001\n",
      "215: 168.0, mean: 103.93, eliminated enemies: 8, success score: 300, lr: 0.0001\n",
      "216: 231.0, mean: 104.52, eliminated enemies: 11, success score: 300, lr: 0.0001\n",
      "217: 378.0, mean: 105.77, eliminated enemies: 18, success score: 300, lr: 0.0001\n",
      "218: 294.0, mean: 106.63, eliminated enemies: 14, success score: 300, lr: 0.0001\n",
      "219: 189.0, mean: 107.0, eliminated enemies: 9, success score: 300, lr: 0.0001\n",
      "220: 252.0, mean: 107.66, eliminated enemies: 12, success score: 300, lr: 0.0001\n",
      "221: 315.0, mean: 108.59, eliminated enemies: 15, success score: 300, lr: 0.0001\n",
      "222: 483.0, mean: 110.27, eliminated enemies: 23, success score: 300, lr: 0.0001\n",
      "223: 126.0, mean: 110.34, eliminated enemies: 6, success score: 300, lr: 0.0001\n",
      "224: 210.0, mean: 110.79, eliminated enemies: 10, success score: 300, lr: 0.0001\n",
      "225: 231.0, mean: 111.32, eliminated enemies: 11, success score: 300, lr: 0.0001\n",
      "226: 189.0, mean: 111.66, eliminated enemies: 9, success score: 300, lr: 0.0001\n",
      "227: 315.0, mean: 112.55, eliminated enemies: 15, success score: 300, lr: 0.0001\n",
      "228: 147.0, mean: 112.7, eliminated enemies: 7, success score: 300, lr: 0.0001\n",
      "229: 210.0, mean: 113.13, eliminated enemies: 10, success score: 300, lr: 0.0001\n",
      "230: 189.0, mean: 113.45, eliminated enemies: 9, success score: 300, lr: 0.0001\n",
      "231: 189.0, mean: 113.78, eliminated enemies: 9, success score: 300, lr: 0.0001\n",
      "232: 357.0, mean: 114.82, eliminated enemies: 17, success score: 400, lr: 5e-05\n",
      "233: 252.0, mean: 115.41, eliminated enemies: 12, success score: 400, lr: 5e-05\n",
      "234: 273.0, mean: 116.08, eliminated enemies: 13, success score: 400, lr: 5e-05\n",
      "235: 273.0, mean: 116.75, eliminated enemies: 13, success score: 400, lr: 5e-05\n",
      "236: 357.0, mean: 117.76, eliminated enemies: 17, success score: 400, lr: 5e-05\n",
      "237: 252.0, mean: 118.32, eliminated enemies: 12, success score: 400, lr: 5e-05\n",
      "238: 189.0, mean: 118.62, eliminated enemies: 9, success score: 400, lr: 5e-05\n",
      "239: 420.0, mean: 119.88, eliminated enemies: 20, success score: 400, lr: 5e-05\n",
      "240: 336.0, mean: 120.77, eliminated enemies: 16, success score: 400, lr: 5e-05\n",
      "241: 210.0, mean: 121.14, eliminated enemies: 10, success score: 400, lr: 5e-05\n",
      "242: 210.0, mean: 121.51, eliminated enemies: 10, success score: 400, lr: 5e-05\n",
      "243: 294.0, mean: 122.21, eliminated enemies: 14, success score: 400, lr: 5e-05\n",
      "244: 315.0, mean: 123.0, eliminated enemies: 15, success score: 400, lr: 5e-05\n",
      "245: 252.0, mean: 123.52, eliminated enemies: 12, success score: 400, lr: 5e-05\n",
      "246: 252.0, mean: 124.04, eliminated enemies: 12, success score: 400, lr: 5e-05\n",
      "247: 252.0, mean: 124.56, eliminated enemies: 12, success score: 400, lr: 5e-05\n",
      "248: 189.0, mean: 124.82, eliminated enemies: 9, success score: 400, lr: 5e-05\n",
      "249: 252.0, mean: 125.33, eliminated enemies: 12, success score: 400, lr: 5e-05\n",
      "250: 189.0, mean: 125.58, eliminated enemies: 9, success score: 400, lr: 5e-05\n",
      "251: 273.0, mean: 126.17, eliminated enemies: 13, success score: 400, lr: 5e-05\n",
      "252: 210.0, mean: 126.5, eliminated enemies: 10, success score: 400, lr: 5e-05\n",
      "253: 336.0, mean: 127.32, eliminated enemies: 16, success score: 400, lr: 5e-05\n",
      "254: 336.0, mean: 128.14, eliminated enemies: 16, success score: 400, lr: 5e-05\n",
      "255: 336.0, mean: 128.95, eliminated enemies: 16, success score: 400, lr: 5e-05\n",
      "256: 210.0, mean: 129.27, eliminated enemies: 10, success score: 400, lr: 5e-05\n",
      "257: 231.0, mean: 129.66, eliminated enemies: 11, success score: 400, lr: 5e-05\n",
      "258: 231.0, mean: 130.05, eliminated enemies: 11, success score: 400, lr: 5e-05\n",
      "259: 231.0, mean: 130.44, eliminated enemies: 11, success score: 400, lr: 5e-05\n",
      "260: 168.0, mean: 130.59, eliminated enemies: 8, success score: 400, lr: 5e-05\n",
      "261: 273.0, mean: 131.13, eliminated enemies: 13, success score: 400, lr: 5e-05\n",
      "262: 231.0, mean: 131.51, eliminated enemies: 11, success score: 400, lr: 5e-05\n",
      "263: 231.0, mean: 131.89, eliminated enemies: 11, success score: 400, lr: 5e-05\n",
      "264: 210.0, mean: 132.18, eliminated enemies: 10, success score: 400, lr: 5e-05\n",
      "265: 315.0, mean: 132.87, eliminated enemies: 15, success score: 400, lr: 5e-05\n",
      "266: 420.0, mean: 133.94, eliminated enemies: 20, success score: 400, lr: 5e-05\n",
      "267: 273.0, mean: 134.46, eliminated enemies: 13, success score: 400, lr: 5e-05\n",
      "268: 168.0, mean: 134.59, eliminated enemies: 8, success score: 400, lr: 5e-05\n",
      "269: 252.0, mean: 135.02, eliminated enemies: 12, success score: 400, lr: 5e-05\n",
      "270: 231.0, mean: 135.38, eliminated enemies: 11, success score: 400, lr: 5e-05\n",
      "271: 357.0, mean: 136.19, eliminated enemies: 17, success score: 400, lr: 5e-05\n",
      "272: 189.0, mean: 136.38, eliminated enemies: 9, success score: 400, lr: 5e-05\n",
      "273: 294.0, mean: 136.96, eliminated enemies: 14, success score: 400, lr: 5e-05\n",
      "274: 252.0, mean: 137.38, eliminated enemies: 12, success score: 400, lr: 5e-05\n",
      "275: 336.0, mean: 138.1, eliminated enemies: 16, success score: 400, lr: 5e-05\n",
      "276: 189.0, mean: 138.28, eliminated enemies: 9, success score: 400, lr: 5e-05\n",
      "277: 441.0, mean: 139.37, eliminated enemies: 21, success score: 400, lr: 5e-05\n",
      "278: 273.0, mean: 139.85, eliminated enemies: 13, success score: 400, lr: 5e-05\n",
      "279: 315.0, mean: 140.48, eliminated enemies: 15, success score: 400, lr: 5e-05\n",
      "280: 84.0, mean: 140.27, eliminated enemies: 4, success score: 400, lr: 5e-05\n",
      "281: 357.0, mean: 141.04, eliminated enemies: 17, success score: 400, lr: 5e-05\n",
      "282: 315.0, mean: 141.66, eliminated enemies: 15, success score: 400, lr: 5e-05\n",
      "283: 231.0, mean: 141.97, eliminated enemies: 11, success score: 400, lr: 5e-05\n",
      "284: 357.0, mean: 142.73, eliminated enemies: 17, success score: 400, lr: 5e-05\n",
      "285: 336.0, mean: 143.4, eliminated enemies: 16, success score: 400, lr: 5e-05\n",
      "286: 252.0, mean: 143.78, eliminated enemies: 12, success score: 400, lr: 5e-05\n",
      "287: 357.0, mean: 144.52, eliminated enemies: 17, success score: 400, lr: 5e-05\n",
      "288: 336.0, mean: 145.18, eliminated enemies: 16, success score: 400, lr: 5e-05\n",
      "289: 315.0, mean: 145.77, eliminated enemies: 15, success score: 400, lr: 5e-05\n",
      "290: 420.0, mean: 146.71, eliminated enemies: 20, success score: 400, lr: 5e-05\n",
      "291: 336.0, mean: 147.36, eliminated enemies: 16, success score: 400, lr: 5e-05\n",
      "292: 399.0, mean: 148.22, eliminated enemies: 19, success score: 400, lr: 5e-05\n",
      "293: 336.0, mean: 148.86, eliminated enemies: 16, success score: 400, lr: 5e-05\n",
      "294: 378.0, mean: 149.63, eliminated enemies: 18, success score: 400, lr: 5e-05\n",
      "295: 378.0, mean: 150.41, eliminated enemies: 18, success score: 400, lr: 5e-05\n",
      "296: 357.0, mean: 151.1, eliminated enemies: 17, success score: 400, lr: 5e-05\n",
      "297: 336.0, mean: 151.72, eliminated enemies: 16, success score: 400, lr: 5e-05\n",
      "298: 399.0, mean: 152.55, eliminated enemies: 19, success score: 400, lr: 5e-05\n",
      "299: 483.0, mean: 153.65, eliminated enemies: 23, success score: 400, lr: 5e-05\n",
      "300: 231.0, mean: 153.91, eliminated enemies: 11, success score: 400, lr: 5e-05\n",
      "301: 420.0, mean: 154.79, eliminated enemies: 20, success score: 400, lr: 5e-05\n",
      "302: 273.0, mean: 155.18, eliminated enemies: 13, success score: 400, lr: 5e-05\n",
      "303: 273.0, mean: 155.57, eliminated enemies: 13, success score: 400, lr: 5e-05\n",
      "304: 399.0, mean: 156.36, eliminated enemies: 19, success score: 400, lr: 5e-05\n",
      "305: 336.0, mean: 156.95, eliminated enemies: 16, success score: 400, lr: 5e-05\n",
      "306: 294.0, mean: 157.4, eliminated enemies: 14, success score: 400, lr: 5e-05\n",
      "307: 420.0, mean: 158.25, eliminated enemies: 20, success score: 400, lr: 5e-05\n",
      "308: 315.0, mean: 158.76, eliminated enemies: 15, success score: 400, lr: 5e-05\n",
      "309: 441.0, mean: 159.67, eliminated enemies: 21, success score: 400, lr: 5e-05\n",
      "310: 420.0, mean: 160.5, eliminated enemies: 20, success score: 400, lr: 5e-05\n",
      "311: 294.0, mean: 160.93, eliminated enemies: 14, success score: 400, lr: 5e-05\n",
      "312: 273.0, mean: 161.29, eliminated enemies: 13, success score: 400, lr: 5e-05\n",
      "313: 273.0, mean: 161.65, eliminated enemies: 13, success score: 400, lr: 5e-05\n",
      "314: 252.0, mean: 161.93, eliminated enemies: 12, success score: 400, lr: 5e-05\n",
      "315: 336.0, mean: 162.48, eliminated enemies: 16, success score: 400, lr: 5e-05\n",
      "316: 273.0, mean: 162.83, eliminated enemies: 13, success score: 400, lr: 5e-05\n",
      "317: 273.0, mean: 163.18, eliminated enemies: 13, success score: 400, lr: 5e-05\n",
      "318: 357.0, mean: 163.79, eliminated enemies: 17, success score: 400, lr: 5e-05\n",
      "319: 357.0, mean: 164.39, eliminated enemies: 17, success score: 400, lr: 5e-05\n",
      "320: 357.0, mean: 164.99, eliminated enemies: 17, success score: 400, lr: 5e-05\n",
      "321: 399.0, mean: 165.72, eliminated enemies: 19, success score: 400, lr: 5e-05\n",
      "322: 336.0, mean: 166.24, eliminated enemies: 16, success score: 400, lr: 5e-05\n",
      "323: 294.0, mean: 166.64, eliminated enemies: 14, success score: 400, lr: 5e-05\n",
      "324: 252.0, mean: 166.9, eliminated enemies: 12, success score: 400, lr: 5e-05\n",
      "325: 420.0, mean: 167.68, eliminated enemies: 20, success score: 400, lr: 2.5e-05\n",
      "326: 378.0, mean: 168.32, eliminated enemies: 18, success score: 400, lr: 2.5e-05\n",
      "327: 252.0, mean: 168.58, eliminated enemies: 12, success score: 400, lr: 2.5e-05\n",
      "328: 315.0, mean: 169.02, eliminated enemies: 15, success score: 400, lr: 2.5e-05\n",
      "329: 378.0, mean: 169.65, eliminated enemies: 18, success score: 400, lr: 2.5e-05\n",
      "330: 294.0, mean: 170.03, eliminated enemies: 14, success score: 400, lr: 2.5e-05\n",
      "331: 336.0, mean: 170.53, eliminated enemies: 16, success score: 400, lr: 2.5e-05\n",
      "332: 231.0, mean: 170.71, eliminated enemies: 11, success score: 400, lr: 2.5e-05\n",
      "333: 546.0, mean: 171.84, eliminated enemies: 26, success score: 400, lr: 2.5e-05\n",
      "334: 273.0, mean: 172.14, eliminated enemies: 13, success score: 400, lr: 2.5e-05\n",
      "335: 315.0, mean: 172.56, eliminated enemies: 15, success score: 400, lr: 2.5e-05\n",
      "336: 336.0, mean: 173.05, eliminated enemies: 16, success score: 400, lr: 2.5e-05\n",
      "337: 357.0, mean: 173.59, eliminated enemies: 17, success score: 400, lr: 2.5e-05\n",
      "338: 378.0, mean: 174.19, eliminated enemies: 18, success score: 400, lr: 2.5e-05\n",
      "339: 273.0, mean: 174.49, eliminated enemies: 13, success score: 400, lr: 2.5e-05\n",
      "340: 336.0, mean: 174.96, eliminated enemies: 16, success score: 400, lr: 2.5e-05\n",
      "341: 252.0, mean: 175.18, eliminated enemies: 12, success score: 400, lr: 2.5e-05\n",
      "342: 210.0, mean: 175.29, eliminated enemies: 10, success score: 400, lr: 2.5e-05\n",
      "343: 483.0, mean: 176.18, eliminated enemies: 23, success score: 400, lr: 2.5e-05\n",
      "344: 483.0, mean: 177.07, eliminated enemies: 23, success score: 400, lr: 2.5e-05\n",
      "345: 336.0, mean: 177.53, eliminated enemies: 16, success score: 400, lr: 2.5e-05\n",
      "346: 378.0, mean: 178.11, eliminated enemies: 18, success score: 400, lr: 2.5e-05\n",
      "347: 315.0, mean: 178.5, eliminated enemies: 15, success score: 400, lr: 2.5e-05\n",
      "348: 273.0, mean: 178.77, eliminated enemies: 13, success score: 400, lr: 2.5e-05\n",
      "349: 399.0, mean: 179.4, eliminated enemies: 19, success score: 400, lr: 2.5e-05\n",
      "350: 357.0, mean: 179.91, eliminated enemies: 17, success score: 400, lr: 2.5e-05\n",
      "351: 189.0, mean: 179.93, eliminated enemies: 9, success score: 400, lr: 2.5e-05\n",
      "352: 273.0, mean: 180.2, eliminated enemies: 13, success score: 400, lr: 2.5e-05\n",
      "353: 294.0, mean: 180.52, eliminated enemies: 14, success score: 400, lr: 2.5e-05\n",
      "354: 315.0, mean: 180.9, eliminated enemies: 15, success score: 400, lr: 2.5e-05\n",
      "355: 147.0, mean: 180.8, eliminated enemies: 7, success score: 400, lr: 2.5e-05\n",
      "356: 273.0, mean: 181.06, eliminated enemies: 13, success score: 400, lr: 2.5e-05\n",
      "357: 210.0, mean: 181.14, eliminated enemies: 10, success score: 400, lr: 2.5e-05\n",
      "358: 315.0, mean: 181.51, eliminated enemies: 15, success score: 400, lr: 2.5e-05\n",
      "359: 210.0, mean: 181.59, eliminated enemies: 10, success score: 400, lr: 2.5e-05\n",
      "360: 378.0, mean: 182.14, eliminated enemies: 18, success score: 400, lr: 2.5e-05\n",
      "361: 210.0, mean: 182.21, eliminated enemies: 10, success score: 400, lr: 2.5e-05\n",
      "362: 399.0, mean: 182.81, eliminated enemies: 19, success score: 400, lr: 2.5e-05\n",
      "363: 294.0, mean: 183.12, eliminated enemies: 14, success score: 400, lr: 2.5e-05\n",
      "364: 336.0, mean: 183.53, eliminated enemies: 16, success score: 400, lr: 2.5e-05\n",
      "365: 210.0, mean: 183.61, eliminated enemies: 10, success score: 400, lr: 2.5e-05\n",
      "366: 252.0, mean: 183.79, eliminated enemies: 12, success score: 400, lr: 2.5e-05\n",
      "367: 315.0, mean: 184.15, eliminated enemies: 15, success score: 400, lr: 2.5e-05\n",
      "368: 378.0, mean: 184.67, eliminated enemies: 18, success score: 400, lr: 2.5e-05\n",
      "369: 189.0, mean: 184.69, eliminated enemies: 9, success score: 400, lr: 2.5e-05\n",
      "370: 210.0, mean: 184.75, eliminated enemies: 10, success score: 400, lr: 2.5e-05\n",
      "371: 483.0, mean: 185.56, eliminated enemies: 23, success score: 400, lr: 2.5e-05\n",
      "372: 273.0, mean: 185.79, eliminated enemies: 13, success score: 400, lr: 2.5e-05\n",
      "373: 315.0, mean: 186.14, eliminated enemies: 15, success score: 400, lr: 2.5e-05\n",
      "374: 462.0, mean: 186.87, eliminated enemies: 22, success score: 400, lr: 2.5e-05\n",
      "375: 336.0, mean: 187.27, eliminated enemies: 16, success score: 400, lr: 2.5e-05\n",
      "376: 189.0, mean: 187.27, eliminated enemies: 9, success score: 400, lr: 2.5e-05\n",
      "377: 336.0, mean: 187.67, eliminated enemies: 16, success score: 400, lr: 2.5e-05\n",
      "378: 399.0, mean: 188.22, eliminated enemies: 19, success score: 400, lr: 2.5e-05\n",
      "379: 420.0, mean: 188.83, eliminated enemies: 20, success score: 400, lr: 2.5e-05\n",
      "380: 420.0, mean: 189.44, eliminated enemies: 20, success score: 400, lr: 2.5e-05\n",
      "381: 399.0, mean: 189.99, eliminated enemies: 19, success score: 400, lr: 2.5e-05\n",
      "382: 336.0, mean: 190.37, eliminated enemies: 16, success score: 400, lr: 2.5e-05\n",
      "383: 252.0, mean: 190.53, eliminated enemies: 12, success score: 400, lr: 2.5e-05\n",
      "384: 399.0, mean: 191.07, eliminated enemies: 19, success score: 400, lr: 2.5e-05\n",
      "385: 315.0, mean: 191.39, eliminated enemies: 15, success score: 400, lr: 2.5e-05\n",
      "386: 210.0, mean: 191.44, eliminated enemies: 10, success score: 400, lr: 2.5e-05\n",
      "387: 336.0, mean: 191.81, eliminated enemies: 16, success score: 400, lr: 2.5e-05\n",
      "388: 399.0, mean: 192.35, eliminated enemies: 19, success score: 400, lr: 2.5e-05\n",
      "389: 315.0, mean: 192.66, eliminated enemies: 15, success score: 400, lr: 2.5e-05\n",
      "390: 441.0, mean: 193.3, eliminated enemies: 21, success score: 400, lr: 2.5e-05\n",
      "391: 399.0, mean: 193.82, eliminated enemies: 19, success score: 400, lr: 2.5e-05\n",
      "392: 294.0, mean: 194.08, eliminated enemies: 14, success score: 400, lr: 2.5e-05\n",
      "393: 420.0, mean: 194.65, eliminated enemies: 20, success score: 400, lr: 2.5e-05\n",
      "394: 315.0, mean: 194.95, eliminated enemies: 15, success score: 400, lr: 2.5e-05\n",
      "395: 378.0, mean: 195.42, eliminated enemies: 18, success score: 400, lr: 2.5e-05\n",
      "396: 462.0, mean: 196.09, eliminated enemies: 22, success score: 400, lr: 1.25e-05\n",
      "397: 231.0, mean: 196.18, eliminated enemies: 11, success score: 400, lr: 1.25e-05\n",
      "398: 357.0, mean: 196.58, eliminated enemies: 17, success score: 400, lr: 1.25e-05\n",
      "399: 378.0, mean: 197.03, eliminated enemies: 18, success score: 400, lr: 1.25e-05\n",
      "400: 357.0, mean: 197.43, eliminated enemies: 17, success score: 400, lr: 1.25e-05\n",
      "401: 399.0, mean: 197.93, eliminated enemies: 19, success score: 400, lr: 1.25e-05\n",
      "402: 483.0, mean: 198.64, eliminated enemies: 23, success score: 400, lr: 1.25e-05\n",
      "403: 462.0, mean: 199.29, eliminated enemies: 22, success score: 400, lr: 1.25e-05\n",
      "404: 315.0, mean: 199.58, eliminated enemies: 15, success score: 400, lr: 1.25e-05\n",
      "405: 315.0, mean: 199.86, eliminated enemies: 15, success score: 400, lr: 1.25e-05\n",
      "406: 441.0, mean: 200.45, eliminated enemies: 21, success score: 400, lr: 1.25e-05\n",
      "407: 399.0, mean: 200.94, eliminated enemies: 19, success score: 400, lr: 1.25e-05\n",
      "408: 399.0, mean: 201.43, eliminated enemies: 19, success score: 400, lr: 1.25e-05\n",
      "409: 420.0, mean: 201.96, eliminated enemies: 20, success score: 400, lr: 1.25e-05\n",
      "410: 420.0, mean: 202.49, eliminated enemies: 20, success score: 400, lr: 1.25e-05\n",
      "411: 378.0, mean: 202.92, eliminated enemies: 18, success score: 400, lr: 1.25e-05\n",
      "412: 336.0, mean: 203.24, eliminated enemies: 16, success score: 400, lr: 1.25e-05\n",
      "413: 420.0, mean: 203.76, eliminated enemies: 20, success score: 400, lr: 1.25e-05\n",
      "414: 315.0, mean: 204.03, eliminated enemies: 15, success score: 400, lr: 1.25e-05\n",
      "415: 378.0, mean: 204.45, eliminated enemies: 18, success score: 400, lr: 1.25e-05\n",
      "416: 357.0, mean: 204.81, eliminated enemies: 17, success score: 400, lr: 1.25e-05\n",
      "417: 378.0, mean: 205.23, eliminated enemies: 18, success score: 400, lr: 1.25e-05\n",
      "418: 315.0, mean: 205.49, eliminated enemies: 15, success score: 400, lr: 1.25e-05\n",
      "419: 315.0, mean: 205.75, eliminated enemies: 15, success score: 400, lr: 1.25e-05\n",
      "420: 336.0, mean: 206.06, eliminated enemies: 16, success score: 400, lr: 1.25e-05\n",
      "421: 294.0, mean: 206.27, eliminated enemies: 14, success score: 400, lr: 1.25e-05\n",
      "422: 210.0, mean: 206.28, eliminated enemies: 10, success score: 400, lr: 1.25e-05\n",
      "423: 252.0, mean: 206.38, eliminated enemies: 12, success score: 400, lr: 1.25e-05\n",
      "424: 378.0, mean: 206.79, eliminated enemies: 18, success score: 400, lr: 1.25e-05\n",
      "425: 399.0, mean: 207.24, eliminated enemies: 19, success score: 400, lr: 1.25e-05\n",
      "426: 336.0, mean: 207.54, eliminated enemies: 16, success score: 400, lr: 1.25e-05\n",
      "427: 315.0, mean: 207.79, eliminated enemies: 15, success score: 400, lr: 1.25e-05\n",
      "428: 378.0, mean: 208.19, eliminated enemies: 18, success score: 400, lr: 1.25e-05\n",
      "429: 462.0, mean: 208.78, eliminated enemies: 22, success score: 400, lr: 1.25e-05\n",
      "430: 315.0, mean: 209.03, eliminated enemies: 15, success score: 400, lr: 1.25e-05\n",
      "431: 420.0, mean: 209.51, eliminated enemies: 20, success score: 400, lr: 1.25e-05\n",
      "432: 420.0, mean: 210.0, eliminated enemies: 20, success score: 400, lr: 1.25e-05\n",
      "433: 378.0, mean: 210.39, eliminated enemies: 18, success score: 400, lr: 1.25e-05\n",
      "434: 189.0, mean: 210.34, eliminated enemies: 9, success score: 400, lr: 1.25e-05\n",
      "435: 357.0, mean: 210.67, eliminated enemies: 17, success score: 400, lr: 1.25e-05\n",
      "436: 273.0, mean: 210.82, eliminated enemies: 13, success score: 400, lr: 1.25e-05\n",
      "437: 546.0, mean: 211.58, eliminated enemies: 26, success score: 400, lr: 6.25e-06\n",
      "438: 504.0, mean: 212.25, eliminated enemies: 24, success score: 400, lr: 6.25e-06\n",
      "439: 336.0, mean: 212.53, eliminated enemies: 16, success score: 400, lr: 6.25e-06\n",
      "440: 294.0, mean: 212.71, eliminated enemies: 14, success score: 400, lr: 6.25e-06\n",
      "441: 441.0, mean: 213.23, eliminated enemies: 21, success score: 400, lr: 6.25e-06\n",
      "442: 399.0, mean: 213.65, eliminated enemies: 19, success score: 400, lr: 6.25e-06\n",
      "443: 420.0, mean: 214.11, eliminated enemies: 20, success score: 400, lr: 6.25e-06\n",
      "444: 273.0, mean: 214.25, eliminated enemies: 13, success score: 400, lr: 6.25e-06\n",
      "445: 252.0, mean: 214.33, eliminated enemies: 12, success score: 400, lr: 6.25e-06\n",
      "446: 315.0, mean: 214.56, eliminated enemies: 15, success score: 400, lr: 6.25e-06\n",
      "447: 483.0, mean: 215.16, eliminated enemies: 23, success score: 400, lr: 6.25e-06\n",
      "448: 357.0, mean: 215.47, eliminated enemies: 17, success score: 400, lr: 6.25e-06\n",
      "449: 252.0, mean: 215.55, eliminated enemies: 12, success score: 400, lr: 6.25e-06\n",
      "450: 189.0, mean: 215.49, eliminated enemies: 9, success score: 400, lr: 6.25e-06\n",
      "451: 189.0, mean: 215.44, eliminated enemies: 9, success score: 400, lr: 6.25e-06\n",
      "452: 294.0, mean: 215.61, eliminated enemies: 14, success score: 400, lr: 6.25e-06\n",
      "453: 399.0, mean: 216.01, eliminated enemies: 19, success score: 400, lr: 6.25e-06\n",
      "454: 315.0, mean: 216.23, eliminated enemies: 15, success score: 400, lr: 6.25e-06\n",
      "455: 273.0, mean: 216.36, eliminated enemies: 13, success score: 400, lr: 6.25e-06\n",
      "456: 210.0, mean: 216.34, eliminated enemies: 10, success score: 400, lr: 6.25e-06\n",
      "457: 252.0, mean: 216.42, eliminated enemies: 12, success score: 400, lr: 6.25e-06\n"
     ]
    },
    {
     "ename": "KeyboardInterrupt",
     "evalue": "",
     "output_type": "error",
     "traceback": [
      "\u001b[0;31m---------------------------------------------------------------------------\u001b[0m",
      "\u001b[0;31mKeyboardInterrupt\u001b[0m                         Traceback (most recent call last)",
      "Cell \u001b[0;32mIn[478], line 1\u001b[0m\n\u001b[0;32m----> 1\u001b[0m rewards\u001b[38;5;241m.\u001b[39mextend(\u001b[43mactor_critic\u001b[49m\u001b[43m(\u001b[49m\u001b[43menv\u001b[49m\u001b[43m,\u001b[49m\u001b[43m \u001b[49m\u001b[43mestimator\u001b[49m\u001b[43m,\u001b[49m\u001b[43m \u001b[49m\u001b[43mn_episodes\u001b[49m\u001b[43m,\u001b[49m\u001b[43m \u001b[49m\u001b[43mgamma\u001b[49m\u001b[43m)\u001b[49m)\n",
      "Cell \u001b[0;32mIn[474], line 17\u001b[0m, in \u001b[0;36mactor_critic\u001b[0;34m(env, estimator, n_episode, gamma)\u001b[0m\n\u001b[1;32m     12\u001b[0m \u001b[38;5;28;01mwhile\u001b[39;00m \u001b[38;5;28;01mTrue\u001b[39;00m:\n\u001b[1;32m     13\u001b[0m     \u001b[38;5;66;03m#one_hot_state = [0] * 48\u001b[39;00m\n\u001b[1;32m     14\u001b[0m     \u001b[38;5;66;03m#one_hot_state[state] = 1\u001b[39;00m\n\u001b[1;32m     15\u001b[0m     \u001b[38;5;66;03m# print(state)\u001b[39;00m\n\u001b[1;32m     16\u001b[0m     action, log_prob, state_value \u001b[38;5;241m=\u001b[39m estimator\u001b[38;5;241m.\u001b[39mget_action(state)\n\u001b[0;32m---> 17\u001b[0m     next_state, reward, is_done, is_truncated, _ \u001b[38;5;241m=\u001b[39m \u001b[43menv\u001b[49m\u001b[38;5;241;43m.\u001b[39;49m\u001b[43mstep\u001b[49m\u001b[43m(\u001b[49m\u001b[43maction\u001b[49m\u001b[43m)\u001b[49m\n\u001b[1;32m     18\u001b[0m     total_reward_episode[episode] \u001b[38;5;241m+\u001b[39m\u001b[38;5;241m=\u001b[39m reward\n\u001b[1;32m     19\u001b[0m     log_probs\u001b[38;5;241m.\u001b[39mappend(log_prob)\n",
      "File \u001b[0;32m~/Projects/2024_1/machine_learning/lib/python3.11/site-packages/gymnasium/wrappers/order_enforcing.py:56\u001b[0m, in \u001b[0;36mOrderEnforcing.step\u001b[0;34m(self, action)\u001b[0m\n\u001b[1;32m     54\u001b[0m \u001b[38;5;28;01mif\u001b[39;00m \u001b[38;5;129;01mnot\u001b[39;00m \u001b[38;5;28mself\u001b[39m\u001b[38;5;241m.\u001b[39m_has_reset:\n\u001b[1;32m     55\u001b[0m     \u001b[38;5;28;01mraise\u001b[39;00m ResetNeeded(\u001b[38;5;124m\"\u001b[39m\u001b[38;5;124mCannot call env.step() before calling env.reset()\u001b[39m\u001b[38;5;124m\"\u001b[39m)\n\u001b[0;32m---> 56\u001b[0m \u001b[38;5;28;01mreturn\u001b[39;00m \u001b[38;5;28;43mself\u001b[39;49m\u001b[38;5;241;43m.\u001b[39;49m\u001b[43menv\u001b[49m\u001b[38;5;241;43m.\u001b[39;49m\u001b[43mstep\u001b[49m\u001b[43m(\u001b[49m\u001b[43maction\u001b[49m\u001b[43m)\u001b[49m\n",
      "File \u001b[0;32m~/Projects/2024_1/machine_learning/lib/python3.11/site-packages/gymnasium/wrappers/env_checker.py:51\u001b[0m, in \u001b[0;36mPassiveEnvChecker.step\u001b[0;34m(self, action)\u001b[0m\n\u001b[1;32m     49\u001b[0m     \u001b[38;5;28;01mreturn\u001b[39;00m env_step_passive_checker(\u001b[38;5;28mself\u001b[39m\u001b[38;5;241m.\u001b[39menv, action)\n\u001b[1;32m     50\u001b[0m \u001b[38;5;28;01melse\u001b[39;00m:\n\u001b[0;32m---> 51\u001b[0m     \u001b[38;5;28;01mreturn\u001b[39;00m \u001b[38;5;28;43mself\u001b[39;49m\u001b[38;5;241;43m.\u001b[39;49m\u001b[43menv\u001b[49m\u001b[38;5;241;43m.\u001b[39;49m\u001b[43mstep\u001b[49m\u001b[43m(\u001b[49m\u001b[43maction\u001b[49m\u001b[43m)\u001b[49m\n",
      "File \u001b[0;32m~/Projects/2024_1/machine_learning/lib/python3.11/site-packages/shimmy/atari_env.py:294\u001b[0m, in \u001b[0;36mAtariEnv.step\u001b[0;34m(self, action_ind)\u001b[0m\n\u001b[1;32m    292\u001b[0m reward \u001b[38;5;241m=\u001b[39m \u001b[38;5;241m0.0\u001b[39m\n\u001b[1;32m    293\u001b[0m \u001b[38;5;28;01mfor\u001b[39;00m _ \u001b[38;5;129;01min\u001b[39;00m \u001b[38;5;28mrange\u001b[39m(frameskip):\n\u001b[0;32m--> 294\u001b[0m     reward \u001b[38;5;241m+\u001b[39m\u001b[38;5;241m=\u001b[39m \u001b[38;5;28;43mself\u001b[39;49m\u001b[38;5;241;43m.\u001b[39;49m\u001b[43male\u001b[49m\u001b[38;5;241;43m.\u001b[39;49m\u001b[43mact\u001b[49m\u001b[43m(\u001b[49m\u001b[43maction\u001b[49m\u001b[43m)\u001b[49m\n\u001b[1;32m    295\u001b[0m is_terminal \u001b[38;5;241m=\u001b[39m \u001b[38;5;28mself\u001b[39m\u001b[38;5;241m.\u001b[39male\u001b[38;5;241m.\u001b[39mgame_over(with_truncation\u001b[38;5;241m=\u001b[39m\u001b[38;5;28;01mFalse\u001b[39;00m)\n\u001b[1;32m    296\u001b[0m is_truncated \u001b[38;5;241m=\u001b[39m \u001b[38;5;28mself\u001b[39m\u001b[38;5;241m.\u001b[39male\u001b[38;5;241m.\u001b[39mgame_truncated()\n",
      "\u001b[0;31mKeyboardInterrupt\u001b[0m: "
     ]
    }
   ],
   "source": [
    "rewards.extend(actor_critic(env, estimator, n_episodes, gamma))"
   ]
  },
  {
   "cell_type": "code",
   "execution_count": null,
   "metadata": {},
   "outputs": [
    {
     "data": {
      "text/plain": [
       "[<matplotlib.lines.Line2D at 0x7f876d0b4b10>]"
      ]
     },
     "execution_count": 468,
     "metadata": {},
     "output_type": "execute_result"
    },
    {
     "data": {
      "image/png": "[encoded data removed]",
      "text/plain": [
       "<Figure size 640x480 with 1 Axes>"
      ]
     },
     "metadata": {},
     "output_type": "display_data"
    }
   ],
   "source": [
    "plt.plot(rewards, \".\")"
   ]
  },
  {
   "cell_type": "code",
   "execution_count": null,
   "metadata": {},
   "outputs": [
    {
     "data": {
      "text/plain": [
       "[<matplotlib.lines.Line2D at 0x7f876d03a110>]"
      ]
     },
     "execution_count": 469,
     "metadata": {},
     "output_type": "execute_result"
    },
    {
     "data": {
      "image/png": "[encoded data removed]",
      "text/plain": [
       "<Figure size 640x480 with 1 Axes>"
      ]
     },
     "metadata": {},
     "output_type": "display_data"
    }
   ],
   "source": [
    "score_history: list[float] = [0]\n",
    "state = env.reset()[0]\n",
    "\n",
    "while True:\n",
    "    # print(state)\n",
    "    action, _, _ = estimator.get_action(state)\n",
    "    next_state, reward, is_done, is_truncated, _ = env.step(action)\n",
    "    score_history.append(score_history[-1] + reward)\n",
    "\n",
    "    if is_truncated or is_done:\n",
    "        break\n",
    "\n",
    "    state = next_state\n",
    "\n",
    "plt.plot(score_history, \".\")"
   ]
  },
  {
   "cell_type": "code",
   "execution_count": null,
   "metadata": {},
   "outputs": [],
   "source": [
    "estimator.save(\"actor.pt\")"
   ]
  }
 ],
 "metadata": {
  "kernelspec": {
   "display_name": "machine_learning",
   "language": "python",
   "name": "python3"
  },
  "language_info": {
   "codemirror_mode": {
    "name": "ipython",
    "version": 3
   },
   "file_extension": ".py",
   "mimetype": "text/x-python",
   "name": "python",
   "nbconvert_exporter": "python",
   "pygments_lexer": "ipython3",
   "version": "3.11.7"
  }
 },
 "nbformat": 4,
 "nbformat_minor": 2
}
