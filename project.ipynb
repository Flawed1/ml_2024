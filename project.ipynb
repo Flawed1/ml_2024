{
 "cells": [
  {
   "cell_type": "markdown",
   "metadata": {},
   "source": [
    "# Знакомство со средой"
   ]
  },
  {
   "cell_type": "code",
   "execution_count": 1,
   "metadata": {},
   "outputs": [],
   "source": [
    "from typing import *\n",
    "import gymnasium as gym\n",
    "import torch\n",
    "import matplotlib.pyplot as plt\n",
    "import numpy as np\n",
    "from numpy.typing import NDArray"
   ]
  },
  {
   "cell_type": "code",
   "execution_count": 2,
   "metadata": {},
   "outputs": [
    {
     "name": "stderr",
     "output_type": "stream",
     "text": [
      "A.L.E: Arcade Learning Environment (version 0.8.1+53f58b7)\n",
      "[Powered by Stella]\n"
     ]
    }
   ],
   "source": [
    "env = gym.make(\"ALE/Assault-ram-v5\", render_mode=\"rgb_array\")"
   ]
  },
  {
   "cell_type": "code",
   "execution_count": 3,
   "metadata": {},
   "outputs": [
    {
     "data": {
      "text/plain": [
       "Discrete(7)"
      ]
     },
     "execution_count": 3,
     "metadata": {},
     "output_type": "execute_result"
    }
   ],
   "source": [
    "env.action_space"
   ]
  },
  {
   "cell_type": "code",
   "execution_count": 4,
   "metadata": {},
   "outputs": [
    {
     "data": {
      "text/plain": [
       "Box(0, 255, (128,), uint8)"
      ]
     },
     "execution_count": 4,
     "metadata": {},
     "output_type": "execute_result"
    }
   ],
   "source": [
    "env.observation_space"
   ]
  },
  {
   "cell_type": "code",
   "execution_count": 5,
   "metadata": {},
   "outputs": [
    {
     "data": {
      "text/plain": [
       "(array([  0,   0,   0,   0,   0,   0,   0,   0,   0,   0,   0,  96, 254,\n",
       "          0,   0,   0,   6, 100, 100, 100,   0,   0,   0,   0,  88, 254,\n",
       "          0,   0, 192,   0, 136, 252,   2,   2,   2,   2, 130, 130, 130,\n",
       "          6, 188, 255,   0,  25,   0, 253,   0, 253, 128,  64, 128, 128,\n",
       "         64, 128,   0,   0,   0,   0,   0,   0,   0,   0,  16,  16,   0,\n",
       "        253,   0, 127, 115, 100,  64,  19,  24,   0, 253,   0,   0,   0,\n",
       "          0,   0,   2, 130,   0, 254,   0, 254,   0, 254,   0, 254,   0,\n",
       "        254, 144,  60,   0,   0,   0,   0,   0,  80, 254,   4, 207,  68,\n",
       "          0,  10,   0,   4,   0,   0, 255, 248,   0,   0,  64,   0, 172,\n",
       "          0,   0,   0,  15, 252, 157, 251,  64, 251, 112, 243], dtype=uint8),\n",
       " {'lives': 4, 'episode_frame_number': 0, 'frame_number': 0})"
      ]
     },
     "execution_count": 5,
     "metadata": {},
     "output_type": "execute_result"
    }
   ],
   "source": [
    "env.reset()"
   ]
  },
  {
   "cell_type": "code",
   "execution_count": 6,
   "metadata": {},
   "outputs": [
    {
     "data": {
      "text/plain": [
       "(array([  0,   0,   0,   0,   0,   0,   0,   0,   0,   0,   0,  96, 254,\n",
       "          0,   0,   0,   6, 100, 100, 100,   0, 198,   0,   0,   0, 253,\n",
       "          0,   0, 192,   0, 136, 252,   2,  66, 194,  66, 194,  51, 194,\n",
       "          6, 188, 255,   0,  25,   0, 253,   0, 253, 128,  64, 128, 128,\n",
       "         64, 128,   0,   0,   0,   0,   0,   0,  28,  28,  17,  17,   0,\n",
       "        253,   0, 127,  51,  36,  64,  19,  24,   0, 253,   0,   0,   0,\n",
       "          0,   0,  66, 194,   0, 254,   0, 254,   0, 254,   0, 254,   0,\n",
       "        254, 144,  60,   0,   0,   0,   0,   0,  80, 254,   4,  50,  72,\n",
       "          0,  10,   0,   8,   0,   0, 255, 248,   0,   0,  64,   0, 154,\n",
       "          0,   0,   0, 248, 251,  15, 252,  64, 251,   0, 245], dtype=uint8),\n",
       " 0.0,\n",
       " False,\n",
       " False,\n",
       " {'lives': 4, 'episode_frame_number': 4, 'frame_number': 4})"
      ]
     },
     "execution_count": 6,
     "metadata": {},
     "output_type": "execute_result"
    }
   ],
   "source": [
    "env.step(env.action_space.sample())"
   ]
  },
  {
   "cell_type": "code",
   "execution_count": 7,
   "metadata": {},
   "outputs": [
    {
     "name": "stderr",
     "output_type": "stream",
     "text": [
      "/home/andrew/Projects/2024_1/machine_learning/lib/python3.11/site-packages/gymnasium/utils/passive_env_checker.py:335: UserWarning: \u001b[33mWARN: No render fps was declared in the environment (env.metadata['render_fps'] is None or not defined), rendering may occur at inconsistent fps.\u001b[0m\n",
      "  logger.warn(\n"
     ]
    },
    {
     "data": {
      "text/plain": [
       "<matplotlib.image.AxesImage at 0x7f88389d61d0>"
      ]
     },
     "execution_count": 7,
     "metadata": {},
     "output_type": "execute_result"
    },
    {
     "data": {
      "image/png": "[encoded data removed]",
      "text/plain": [
       "<Figure size 640x480 with 1 Axes>"
      ]
     },
     "metadata": {},
     "output_type": "display_data"
    }
   ],
   "source": [
    "plt.imshow(env.render())"
   ]
  },
  {
   "cell_type": "code",
   "execution_count": 8,
   "metadata": {},
   "outputs": [],
   "source": [
    "env.close()"
   ]
  },
  {
   "cell_type": "code",
   "execution_count": 8,
   "metadata": {},
   "outputs": [
    {
     "name": "stderr",
     "output_type": "stream",
     "text": [
      "A.L.E: Arcade Learning Environment (version 0.8.1+53f58b7)\n",
      "[Powered by Stella]\n"
     ]
    }
   ],
   "source": [
    "env = gym.make(\"ALE/Assault-ram-v5\")"
   ]
  },
  {
   "cell_type": "code",
   "execution_count": 10,
   "metadata": {},
   "outputs": [],
   "source": [
    "def eps_greedy_policy(n_action: int, eps: float, Q: Any) -> float:\n",
    "    probabilities = torch.ones(n_action) * eps / n_action\n",
    "    best_action = torch.argmax(Q).item()\n",
    "    probabilities[best_action] += 1 - eps\n",
    "    return torch.multinomial(torch.ones(len(probabilities)), 1).item()"
   ]
  },
  {
   "cell_type": "code",
   "execution_count": 11,
   "metadata": {},
   "outputs": [
    {
     "data": {
      "text/plain": [
       "(array([  0,   0,   0,   0,   0,   0,   0,   0,   0,   0,   0,  96, 254,\n",
       "          0,   0,   0,   6, 100, 100, 100,   0,   0,   0,   0,  88, 254,\n",
       "          0,   0, 192,   0, 136, 252,   2,   2,   2,   2, 130, 130, 130,\n",
       "          6, 188, 255,   0,  25,   0, 253,   0, 253, 128,  64, 128, 128,\n",
       "         64, 128,   0,   0,   0,   0,   0,   0,   0,   0,  16,  16,   0,\n",
       "        253,   0, 127, 115, 100,  64,  19,  24,   0, 253,   0,   0,   0,\n",
       "          0,   0,   2, 130,   0, 254,   0, 254,   0, 254,   0, 254,   0,\n",
       "        254, 144,  60,   0,   0,   0,   0,   0,  80, 254,   4, 207,  68,\n",
       "          0,  10,   0,   4,   0,   0, 255, 248,   0,   0,  64,   0, 172,\n",
       "          0,   0,   0,  15, 252, 157, 251,  64, 251, 112, 243], dtype=uint8),\n",
       " {'lives': 4, 'episode_frame_number': 0, 'frame_number': 0})"
      ]
     },
     "execution_count": 11,
     "metadata": {},
     "output_type": "execute_result"
    }
   ],
   "source": [
    "env.reset()"
   ]
  },
  {
   "cell_type": "code",
   "execution_count": 2,
   "metadata": {},
   "outputs": [],
   "source": [
    "def step_print(string: str, iteration: int, step: int) -> None:\n",
    "    if iteration % step == 0:\n",
    "        print(string)"
   ]
  },
  {
   "cell_type": "code",
   "execution_count": 13,
   "metadata": {},
   "outputs": [
    {
     "name": "stdout",
     "output_type": "stream",
     "text": [
      "0\n",
      "10\n",
      "20\n",
      "30\n",
      "40\n",
      "50\n",
      "60\n",
      "70\n",
      "80\n",
      "90\n"
     ]
    }
   ],
   "source": [
    "n_episodes = 100\n",
    "n_action = 7\n",
    "\n",
    "action_count = [0 for _ in range(n_action)]\n",
    "action_total_reward = [0 for _ in range(n_action)]\n",
    "action_avg_reward: list[list[float | None]] = [[] for _ in range(n_action)]\n",
    "\n",
    "path: list[list[tuple[NDArray[np.uint8], int]]] = list() # state, action\n",
    "rewards: list[float] = list()\n",
    "\n",
    "eps: Final[float] = 0.2\n",
    "Q = torch.zeros(n_action)\n",
    "\n",
    "for episode in range(n_episodes):\n",
    "    path.append([])\n",
    "    env.reset()\n",
    "    total_reward = 0.\n",
    "    while True:\n",
    "        action = eps_greedy_policy(n_action, eps, Q)\n",
    "        state, reward, is_terminated, is_truncated, _ = env.step(action)\n",
    "\n",
    "        action_count[action] += 1\n",
    "        action_total_reward[action] += reward\n",
    "        total_reward += reward\n",
    "\n",
    "        Q[action] = action_total_reward[action] / action_count[action]\n",
    "        for i in range(n_action):\n",
    "            if action_count[i] != 0:\n",
    "                action_avg_reward[i].append(action_total_reward[i] / action_count[i])\n",
    "            else:\n",
    "                action_avg_reward[i].append(None)\n",
    "        path[-1].append([state, action])\n",
    "        if is_terminated or is_truncated:\n",
    "            break\n",
    "    step_print(episode, episode, 10)\n",
    "    rewards.append(total_reward)"
   ]
  },
  {
   "cell_type": "code",
   "execution_count": 14,
   "metadata": {},
   "outputs": [
    {
     "data": {
      "text/plain": [
       "tensor([0.4707, 0.4310, 0.3700, 0.4219, 0.3938, 0.4076, 0.4343])"
      ]
     },
     "execution_count": 14,
     "metadata": {},
     "output_type": "execute_result"
    }
   ],
   "source": [
    "Q"
   ]
  },
  {
   "cell_type": "code",
   "execution_count": 15,
   "metadata": {},
   "outputs": [
    {
     "data": {
      "text/plain": [
       "([8165, 8234, 8117, 8064, 8212, 8295, 8027],\n",
       " [3843.0, 3549.0, 3003.0, 3402.0, 3234.0, 3381.0, 3486.0])"
      ]
     },
     "execution_count": 15,
     "metadata": {},
     "output_type": "execute_result"
    }
   ],
   "source": [
    "action_count, action_total_reward"
   ]
  },
  {
   "cell_type": "code",
   "execution_count": null,
   "metadata": {},
   "outputs": [],
   "source": [
    "path"
   ]
  },
  {
   "cell_type": "code",
   "execution_count": 17,
   "metadata": {},
   "outputs": [
    {
     "data": {
      "text/plain": [
       "[315.0,\n",
       " 210.0,\n",
       " 231.0,\n",
       " 378.0,\n",
       " 189.0,\n",
       " 294.0,\n",
       " 315.0,\n",
       " 189.0,\n",
       " 273.0,\n",
       " 126.0,\n",
       " 189.0,\n",
       " 189.0,\n",
       " 189.0,\n",
       " 231.0,\n",
       " 231.0,\n",
       " 189.0,\n",
       " 231.0,\n",
       " 168.0,\n",
       " 210.0,\n",
       " 126.0,\n",
       " 378.0,\n",
       " 231.0,\n",
       " 105.0,\n",
       " 189.0,\n",
       " 168.0,\n",
       " 273.0,\n",
       " 399.0,\n",
       " 189.0,\n",
       " 189.0,\n",
       " 294.0,\n",
       " 315.0,\n",
       " 315.0,\n",
       " 189.0,\n",
       " 315.0,\n",
       " 231.0,\n",
       " 294.0,\n",
       " 189.0,\n",
       " 189.0,\n",
       " 189.0,\n",
       " 336.0,\n",
       " 315.0,\n",
       " 336.0,\n",
       " 336.0,\n",
       " 147.0,\n",
       " 231.0,\n",
       " 336.0,\n",
       " 189.0,\n",
       " 189.0,\n",
       " 189.0,\n",
       " 210.0,\n",
       " 147.0,\n",
       " 189.0,\n",
       " 231.0,\n",
       " 294.0,\n",
       " 273.0,\n",
       " 294.0,\n",
       " 231.0,\n",
       " 336.0,\n",
       " 105.0,\n",
       " 357.0,\n",
       " 168.0,\n",
       " 189.0,\n",
       " 147.0,\n",
       " 189.0,\n",
       " 231.0,\n",
       " 231.0,\n",
       " 189.0,\n",
       " 273.0,\n",
       " 315.0,\n",
       " 168.0,\n",
       " 189.0,\n",
       " 189.0,\n",
       " 189.0,\n",
       " 273.0,\n",
       " 294.0,\n",
       " 189.0,\n",
       " 189.0,\n",
       " 378.0,\n",
       " 168.0,\n",
       " 294.0,\n",
       " 147.0,\n",
       " 252.0,\n",
       " 189.0,\n",
       " 252.0,\n",
       " 168.0,\n",
       " 399.0,\n",
       " 399.0,\n",
       " 231.0,\n",
       " 210.0,\n",
       " 315.0,\n",
       " 252.0,\n",
       " 189.0,\n",
       " 273.0,\n",
       " 273.0,\n",
       " 357.0,\n",
       " 168.0,\n",
       " 189.0,\n",
       " 189.0,\n",
       " 336.0,\n",
       " 273.0]"
      ]
     },
     "execution_count": 17,
     "metadata": {},
     "output_type": "execute_result"
    }
   ],
   "source": [
    "rewards"
   ]
  },
  {
   "cell_type": "code",
   "execution_count": 18,
   "metadata": {},
   "outputs": [
    {
     "data": {
      "text/plain": [
       "'Точечная оценка: 238.98'"
      ]
     },
     "execution_count": 18,
     "metadata": {},
     "output_type": "execute_result"
    }
   ],
   "source": [
    "rewards_mean = np.mean(rewards)\n",
    "f\"Точечная оценка: {rewards_mean}\""
   ]
  },
  {
   "cell_type": "code",
   "execution_count": 19,
   "metadata": {},
   "outputs": [
    {
     "data": {
      "text/plain": [
       "71.31010383592853"
      ]
     },
     "execution_count": 19,
     "metadata": {},
     "output_type": "execute_result"
    }
   ],
   "source": [
    "unbiased_variance = np.sqrt(sum(np.power(np.array(rewards) - np.mean(rewards), 2)) / (len(rewards) - 1))\n",
    "unbiased_variance"
   ]
  },
  {
   "cell_type": "code",
   "execution_count": 20,
   "metadata": {},
   "outputs": [],
   "source": [
    "t = 0.99\n",
    "t_y = 2.627\n",
    "delta = t_y * unbiased_variance / np.sqrt(len(rewards))"
   ]
  },
  {
   "cell_type": "code",
   "execution_count": 21,
   "metadata": {},
   "outputs": [
    {
     "data": {
      "text/plain": [
       "'Интервальная оценка: (220.24683572230157, 257.7131642776984)'"
      ]
     },
     "execution_count": 21,
     "metadata": {},
     "output_type": "execute_result"
    }
   ],
   "source": [
    "f\"Интервальная оценка: ({rewards_mean - delta}, {rewards_mean + delta})\""
   ]
  },
  {
   "cell_type": "markdown",
   "metadata": {},
   "source": [
    "# Модель 1"
   ]
  },
  {
   "cell_type": "code",
   "execution_count": 23,
   "metadata": {},
   "outputs": [],
   "source": [
    "import torch.nn as nn\n",
    "import torch.nn.functional as F"
   ]
  },
  {
   "cell_type": "code",
   "execution_count": 50,
   "metadata": {},
   "outputs": [],
   "source": [
    "env = gym.make(\"ALE/Assault-ram-v5\")"
   ]
  },
  {
   "cell_type": "code",
   "execution_count": 33,
   "metadata": {},
   "outputs": [],
   "source": [
    "class ActorCriticModel(nn.Module):\n",
    "    def __init__(self, n_input: int, n_output: int, n_hidden: List[int], device: str = \"cpu\") -> None:\n",
    "        super(ActorCriticModel, self).__init__()\n",
    "        self.layers = [\n",
    "            nn.Linear(n_input, n_hidden[0]),\n",
    "            nn.Linear(n_hidden[0], n_hidden[1]),\n",
    "            nn.Linear(n_hidden[1], n_hidden[2]),\n",
    "            nn.Linear(n_hidden[2], n_hidden[3])\n",
    "        ]\n",
    "        self.action = nn.Linear(n_hidden[-1], n_output)\n",
    "        self.value = nn.Linear(n_hidden[-1], 1)\n",
    "        self.device = device\n",
    "        self.to(self.device)\n",
    "    \n",
    "    def forward(self, x: int) -> tuple[torch.Tensor, torch.Tensor]:\n",
    "        x = torch.Tensor(x)\n",
    "        for layer in self.layers:\n",
    "            x = F.relu(layer(x))\n",
    "        action_probs = F.softmax(self.action(x), dim=-1).to(self.device)\n",
    "        state_value = self.value(x)\n",
    "        return action_probs, state_value"
   ]
  },
  {
   "cell_type": "code",
   "execution_count": 34,
   "metadata": {},
   "outputs": [],
   "source": [
    "class PolicyNetwork:\n",
    "    def __init__(self, n_state: int, n_actions: int, n_hidden: int, lr: float = 0.001) -> None:\n",
    "        self.device = \"cuda:0\" if torch.cuda.is_available() else \"cpu\"\n",
    "        self.model = ActorCriticModel(n_state, n_actions, n_hidden, self.device)\n",
    "        self.optimizer = torch.optim.Adam(self.model.parameters(), lr)\n",
    "        self.scheduler = torch.optim.lr_scheduler.StepLR(self.optimizer, step_size=30, gamma=0.99)\n",
    "    \n",
    "    def predict(self, s: Any) -> Any:\n",
    "        return self.model(torch.tensor(s, dtype=torch.float, device=self.device))\n",
    "    \n",
    "    def update(self, returns: torch.Tensor, log_probs, state_values) -> None:\n",
    "        returns = returns.to(self.device)\n",
    "        loss = 0\n",
    "        for log_prob, value, Gt in zip(log_probs, state_values, returns):\n",
    "            advantage = (Gt - value.item()).to(self.device)\n",
    "            # print((-log_prob).get_device(), advantage.get_device())\n",
    "            \n",
    "            policy_loss = -log_prob * advantage\n",
    "            value_loss = F.smooth_l1_loss(value, Gt)\n",
    "            loss += policy_loss + value_loss\n",
    "        self.optimizer.zero_grad()\n",
    "        loss.backward()\n",
    "        self.optimizer.step()\n",
    "    \n",
    "    def get_action(self, s) -> tuple:\n",
    "        action_probs, state_value = self.predict(s)\n",
    "        state_value = state_value.to(self.device)\n",
    "        action = torch.multinomial(action_probs, 1).item()\n",
    "        log_prob = torch.log(action_probs[action]).to(self.device)\n",
    "        return action, log_prob, state_value\n",
    "\n",
    "    def save(self, filename: str) -> None:\n",
    "        torch.save(self, filename)\n",
    "    \n",
    "    @classmethod\n",
    "    def load(cls, filename: str) -> Self:\n",
    "        return torch.load(filename)"
   ]
  },
  {
   "cell_type": "code",
   "execution_count": 3,
   "metadata": {},
   "outputs": [],
   "source": [
    "class PassivenessPenalty:\n",
    "    def __init__(self, penalty: float, delay: int) -> None:\n",
    "        self._delay = delay\n",
    "        self._current_delay = 0\n",
    "        self._penalty = penalty\n",
    "    \n",
    "    def increase(self) -> None:\n",
    "        if self._current_delay < self._delay:\n",
    "            self._current_delay += 1\n",
    "    \n",
    "    def decrease(self) -> None:\n",
    "        self._current_delay = self._current_delay - 5 if self._current_delay > 5 else 0\n",
    "    \n",
    "    @property\n",
    "    def penalty(self) -> float:\n",
    "        return self._penalty * (self._current_delay / self._delay)"
   ]
  },
  {
   "cell_type": "code",
   "execution_count": 39,
   "metadata": {},
   "outputs": [],
   "source": [
    "def actor_critic(env: gym.Env, estimator: PolicyNetwork, n_episode: int, gamma: float = 1.0) -> list[float]:\n",
    "    passiveness_penalty = PassivenessPenalty(.12, 40)\n",
    "    total_reward_episode = list()\n",
    "    success_score = 0\n",
    "    for episode in range(n_episode):\n",
    "        total_penalty = 0. # debug\n",
    "        eliminated = 0\n",
    "        total_reward_episode.append(0)\n",
    "        log_probs = []\n",
    "        rewards = []\n",
    "        state_values = []\n",
    "\n",
    "        state = env.reset(seed=0)[0]\n",
    "        previous_action = -1\n",
    "        while True:\n",
    "            #one_hot_state = [0] * 48\n",
    "            #one_hot_state[state] = 1\n",
    "            # print(state)\n",
    "            action, log_prob, state_value = estimator.get_action(state)\n",
    "            next_state, reward, is_done, is_truncated, _ = env.step(action)\n",
    "\n",
    "            if action in [3, 4] and action != previous_action:\n",
    "                passiveness_penalty.decrease()\n",
    "            else:\n",
    "                passiveness_penalty.increase()\n",
    "\n",
    "            total_reward_episode[episode] += reward - passiveness_penalty.penalty\n",
    "            total_penalty += passiveness_penalty.penalty\n",
    "            eliminated += int(reward // 21)\n",
    "            log_probs.append(log_prob)\n",
    "            state_values.append(state_value)\n",
    "            rewards.append(reward)\n",
    "\n",
    "            if is_truncated or is_done:\n",
    "                returns = []\n",
    "                Gt = 0\n",
    "                pw = 0\n",
    "                for reward in rewards[::-1]:\n",
    "                    Gt += gamma ** pw * reward\n",
    "                    returns.append(Gt)\n",
    "                    pw += 1\n",
    "                returns = returns[::-1]\n",
    "                returns_amount = len(returns)\n",
    "                returns = torch.tensor(returns)\n",
    "                returns = (returns - returns.mean()) / (returns.std() + 1e-9)\n",
    "                returns.resize_(returns_amount, 1)\n",
    "                estimator.update(returns, log_probs, state_values)\n",
    "                if True or total_reward_episode[episode] >= success_score:\n",
    "                    estimator.scheduler.step()\n",
    "                break\n",
    "\n",
    "            state = next_state\n",
    "            previous_action = action\n",
    "        step_print(f\"{episode}: {round(total_reward_episode[episode], 2)}, eliminated: {eliminated}, mean: {round(np.mean(total_reward_episode), 2)}, penalty: {-total_penalty}, lr: {estimator.optimizer.param_groups[0]['lr']}\", episode, 1)\n",
    "        passiveness_penalty.decrease()\n",
    "    return total_reward_episode"
   ]
  },
  {
   "cell_type": "code",
   "execution_count": 42,
   "metadata": {},
   "outputs": [],
   "source": [
    "estimator = PolicyNetwork(env.observation_space.shape[0], env.action_space.n, [128, 128, 128, 128], 0.0002)"
   ]
  },
  {
   "cell_type": "code",
   "execution_count": 43,
   "metadata": {},
   "outputs": [],
   "source": [
    "n_episodes = 100\n",
    "gamma = .9"
   ]
  },
  {
   "cell_type": "code",
   "execution_count": 44,
   "metadata": {},
   "outputs": [],
   "source": [
    "rewards: list[float] = list()"
   ]
  },
  {
   "cell_type": "code",
   "execution_count": null,
   "metadata": {},
   "outputs": [],
   "source": [
    "rewards.extend(actor_critic(env, estimator, n_episodes, gamma))"
   ]
  },
  {
   "cell_type": "code",
   "execution_count": 52,
   "metadata": {},
   "outputs": [
    {
     "data": {
      "text/plain": [
       "(-300.0, 742.3321500000067)"
      ]
     },
     "execution_count": 52,
     "metadata": {},
     "output_type": "execute_result"
    },
    {
     "data": {
      "image/png": "[encoded data removed]",
      "text/plain": [
       "<Figure size 640x480 with 1 Axes>"
      ]
     },
     "metadata": {},
     "output_type": "display_data"
    }
   ],
   "source": [
    "plt.plot(rewards, \".\")\n",
    "plt.axhline(color=\"red\")\n",
    "plt.ylim(bottom=-300)"
   ]
  },
  {
   "cell_type": "code",
   "execution_count": 54,
   "metadata": {},
   "outputs": [],
   "source": [
    "env.close()"
   ]
  },
  {
   "cell_type": "code",
   "execution_count": 53,
   "metadata": {},
   "outputs": [],
   "source": [
    "env = gym.make(\"ALE/Assault-ram-v5\", render_mode=\"human\")\n",
    "env.metadata[\"render_fps\"] = 60\n",
    "\n",
    "score_history: list[float] = [0]\n",
    "state = env.reset()[0]\n",
    "\n",
    "while True:\n",
    "    # print(state)\n",
    "    action, _, _ = estimator.get_action(state)\n",
    "    next_state, reward, is_done, is_truncated, _ = env.step(action)\n",
    "    score_history.append(score_history[-1] + reward)\n",
    "\n",
    "    if is_truncated or is_done:\n",
    "        break\n",
    "\n",
    "    state = next_state\n",
    "    env.render()\n",
    "\n",
    "# plt.plot(score_history, \".\")\n",
    "env.close()"
   ]
  },
  {
   "cell_type": "markdown",
   "metadata": {},
   "source": [
    "На данный момент эта модель стремится к *\"ленивой\"* стратегии: корабль прячется в угол, стоит на месте и постоянно стреляет."
   ]
  },
  {
   "cell_type": "code",
   "execution_count": 189,
   "metadata": {},
   "outputs": [],
   "source": [
    "# estimator.save(\"actor.pt\")"
   ]
  },
  {
   "cell_type": "markdown",
   "metadata": {},
   "source": [
    "# Модель 2"
   ]
  },
  {
   "cell_type": "code",
   "execution_count": 10,
   "metadata": {},
   "outputs": [
    {
     "name": "stderr",
     "output_type": "stream",
     "text": [
      "A.L.E: Arcade Learning Environment (version 0.8.1+53f58b7)\n",
      "[Powered by Stella]\n"
     ]
    }
   ],
   "source": [
    "env = gym.make(\"ALE/Assault-ram-v5\")"
   ]
  },
  {
   "cell_type": "code",
   "execution_count": 6,
   "metadata": {},
   "outputs": [],
   "source": [
    "import os\n",
    "import numpy as np\n",
    "import torch.nn as nn\n",
    "import torch.optim as optim\n",
    "from torch.distributions.categorical import Categorical"
   ]
  },
  {
   "cell_type": "code",
   "execution_count": 7,
   "metadata": {},
   "outputs": [],
   "source": [
    "class PPOMemory:\n",
    "    def __init__(self, batch_size):\n",
    "        self.states = []\n",
    "        self.probs = []\n",
    "        self.vals = []\n",
    "        self.actions = []\n",
    "        self.rewards = []\n",
    "        self.dones = []\n",
    "\n",
    "        self.batch_size = batch_size\n",
    "\n",
    "    def generate_batches(self):\n",
    "        n_states = len(self.states)\n",
    "        batch_start = np.arange(0, n_states, self.batch_size)\n",
    "        indices = np.arange(n_states, dtype=np.int64)\n",
    "        np.random.shuffle(indices)\n",
    "        batches = [indices[i:i+self.batch_size] for i in batch_start]\n",
    "\n",
    "        return np.array(self.states),\\\n",
    "                np.array(self.actions),\\\n",
    "                np.array(self.probs),\\\n",
    "                np.array(self.vals),\\\n",
    "                np.array(self.rewards),\\\n",
    "                np.array(self.dones),\\\n",
    "                batches\n",
    "\n",
    "    def store_memory(self, state, action, probs, vals, reward, done):\n",
    "        self.states.append(state)\n",
    "        self.actions.append(action)\n",
    "        self.probs.append(probs)\n",
    "        self.vals.append(vals)\n",
    "        self.rewards.append(reward)\n",
    "        self.dones.append(done)\n",
    "\n",
    "    def clear_memory(self):\n",
    "        self.states = []\n",
    "        self.probs = []\n",
    "        self.actions = []\n",
    "        self.rewards = []\n",
    "        self.dones = []\n",
    "        self.vals = []"
   ]
  },
  {
   "cell_type": "code",
   "execution_count": 8,
   "metadata": {},
   "outputs": [],
   "source": [
    "class ActorNetwork(nn.Module):\n",
    "    def __init__(self, n_actions: int, input_dims: int, alpha: float, hidden_dims: list[int], chkpt_dir='tmp/ppo'):\n",
    "        super(ActorNetwork, self).__init__()\n",
    "\n",
    "        self.checkpoint_file = os.path.join(chkpt_dir, 'actor_torch_ppo')\n",
    "        self.actor = nn.Sequential(\n",
    "            nn.Linear(input_dims, hidden_dims[0]),\n",
    "            nn.ReLU(),\n",
    "            nn.Linear(hidden_dims[0], hidden_dims[1]),\n",
    "            nn.ReLU(),\n",
    "            nn.Linear(hidden_dims[1], hidden_dims[2]),\n",
    "            nn.ReLU(),\n",
    "            nn.Linear(hidden_dims[2], hidden_dims[3]),\n",
    "            nn.ReLU(),\n",
    "            nn.Linear(hidden_dims[-1], n_actions),\n",
    "            nn.Softmax(dim=-1)\n",
    "        )\n",
    "\n",
    "        self.optimizer = optim.Adam(self.parameters(), lr=alpha)\n",
    "        self.device = torch.device('cuda:0' if torch.cuda.is_available() else 'cpu')\n",
    "        self.to(self.device)\n",
    "\n",
    "    def forward(self, state):\n",
    "        dist = self.actor(state)\n",
    "        dist = Categorical(logits=dist)\n",
    "\n",
    "        return dist\n",
    "\n",
    "    def save_checkpoint(self):\n",
    "        torch.save(self.state_dict(), self.checkpoint_file)\n",
    "\n",
    "    def load_checkpoint(self):\n",
    "        self.load_state_dict(torch.load(self.checkpoint_file))"
   ]
  },
  {
   "cell_type": "code",
   "execution_count": 9,
   "metadata": {},
   "outputs": [],
   "source": [
    "class CriticNetwork(nn.Module):\n",
    "    def __init__(self, input_dims, alpha, hidden_dims: list[int], chkpt_dir='tmp/ppo'):\n",
    "        super(CriticNetwork, self).__init__()\n",
    "\n",
    "        self.checkpoint_file = os.path.join(chkpt_dir, 'critic_torch_ppo')\n",
    "        self.critic = nn.Sequential(\n",
    "                nn.Linear(input_dims, hidden_dims[0]),\n",
    "                nn.ReLU(),\n",
    "                nn.Linear(hidden_dims[0], hidden_dims[1]),\n",
    "                nn.ReLU(),\n",
    "                nn.Linear(hidden_dims[1], hidden_dims[2]),\n",
    "                nn.ReLU(),\n",
    "                nn.Linear(hidden_dims[2], hidden_dims[3]),\n",
    "                nn.ReLU(),\n",
    "                nn.Linear(hidden_dims[-1], 1)\n",
    "        )\n",
    "\n",
    "        self.optimizer = optim.Adam(self.parameters(), lr=alpha)\n",
    "        self.device = torch.device('cuda:0' if torch.cuda.is_available() else 'cpu')\n",
    "        self.to(self.device)\n",
    "\n",
    "    def forward(self, state):\n",
    "        value = self.critic(state)\n",
    "\n",
    "        return value\n",
    "\n",
    "    def save_checkpoint(self):\n",
    "        torch.save(self.state_dict(), self.checkpoint_file)\n",
    "\n",
    "    def load_checkpoint(self):\n",
    "        self.load_state_dict(torch.load(self.checkpoint_file))"
   ]
  },
  {
   "cell_type": "code",
   "execution_count": 10,
   "metadata": {},
   "outputs": [],
   "source": [
    "class Agent:\n",
    "    def __init__(self, n_actions, input_dims, gamma=0.99, alpha=0.0003, gae_lambda=0.95,\n",
    "            policy_clip=0.2, batch_size=50, n_epochs=20):\n",
    "        self.gamma = gamma\n",
    "        self.policy_clip = policy_clip\n",
    "        self.n_epochs = n_epochs\n",
    "        self.gae_lambda = gae_lambda\n",
    "\n",
    "        self.actor = ActorNetwork(n_actions, input_dims, alpha, [8092, 1024, 256, 64])\n",
    "        self.critic = CriticNetwork(input_dims, alpha, [8092, 128, 256, 64])\n",
    "        self.memory = PPOMemory(batch_size)\n",
    "\n",
    "    def remember(self, state, action, probs, vals, reward, done):\n",
    "        self.memory.store_memory(state, action, probs, vals, reward, done)\n",
    "\n",
    "    def save_models(self):\n",
    "        print('... saving models ...')\n",
    "        self.actor.save_checkpoint()\n",
    "        self.critic.save_checkpoint()\n",
    "\n",
    "    def load_models(self):\n",
    "        print('... loading models ...')\n",
    "        self.actor.load_checkpoint()\n",
    "        self.critic.load_checkpoint()\n",
    "\n",
    "    def choose_action(self, observation):\n",
    "        state = torch.tensor(np.array([observation]), dtype=torch.float).to(self.actor.device)\n",
    "\n",
    "        dist = self.actor(state)\n",
    "        value = self.critic(state)\n",
    "        action = dist.sample()\n",
    "\n",
    "        probs = torch.squeeze(dist.log_prob(action)).item()\n",
    "        action = torch.squeeze(action).item()\n",
    "        value = torch.squeeze(value).item()\n",
    "\n",
    "        return action, probs, value\n",
    "\n",
    "    def learn(self):\n",
    "        for _ in range(self.n_epochs):\n",
    "            state_arr, action_arr, old_prob_arr, vals_arr,\\\n",
    "            reward_arr, dones_arr, batches = \\\n",
    "                    self.memory.generate_batches()\n",
    "\n",
    "            values = vals_arr\n",
    "            advantage = np.zeros(len(reward_arr), dtype=np.float32)\n",
    "\n",
    "            for t in range(len(reward_arr)-1):\n",
    "                discount = 1\n",
    "                a_t = 0\n",
    "                for k in range(t, len(reward_arr)-1):\n",
    "                    a_t += discount*(reward_arr[k] + self.gamma*values[k+1]*\\\n",
    "                            (1-int(dones_arr[k])) - values[k])\n",
    "                    discount *= self.gamma*self.gae_lambda\n",
    "                advantage[t] = a_t\n",
    "            advantage = torch.tensor(advantage).to(self.actor.device)\n",
    "\n",
    "            values = torch.tensor(values).to(self.actor.device)\n",
    "            for batch in batches:\n",
    "                states = torch.tensor(state_arr[batch], dtype=torch.float).to(self.actor.device)\n",
    "                old_probs = torch.tensor(old_prob_arr[batch]).to(self.actor.device)\n",
    "                actions = torch.tensor(action_arr[batch]).to(self.actor.device)\n",
    "\n",
    "                dist = self.actor(states)\n",
    "                critic_value = self.critic(states)\n",
    "\n",
    "                critic_value = torch.squeeze(critic_value)\n",
    "\n",
    "                new_probs = dist.log_prob(actions)\n",
    "                prob_ratio = new_probs.exp() / old_probs.exp()\n",
    "                #prob_ratio = (new_probs - old_probs).exp()\n",
    "                weighted_probs = advantage[batch] * prob_ratio\n",
    "                weighted_clipped_probs = torch.clamp(prob_ratio, 1-self.policy_clip,\n",
    "                        1+self.policy_clip)*advantage[batch]\n",
    "                actor_loss = -torch.min(weighted_probs, weighted_clipped_probs).mean()\n",
    "\n",
    "                returns = advantage[batch] + values[batch]\n",
    "                critic_loss = (returns-critic_value)**2\n",
    "                critic_loss = critic_loss.mean()\n",
    "\n",
    "                total_loss = actor_loss + 0.5*critic_loss\n",
    "                self.actor.optimizer.zero_grad()\n",
    "                self.critic.optimizer.zero_grad()\n",
    "                total_loss.backward()\n",
    "                self.actor.optimizer.step()\n",
    "                self.critic.optimizer.step()\n",
    "\n",
    "        self.memory.clear_memory()"
   ]
  },
  {
   "cell_type": "code",
   "execution_count": 12,
   "metadata": {},
   "outputs": [],
   "source": [
    "def ppo_learning(env: gym.Env, estimator: Agent, n_episodes: int) -> list[int]:\n",
    "    passiveness_penalty = PassivenessPenalty(.1, 40)\n",
    "    reward_history = list()\n",
    "    STEPS_TO_LEARN = 1500\n",
    "    learning_steps = 0\n",
    "    steps = 0\n",
    "    for episode in range(n_episodes):\n",
    "        eliminated = 0\n",
    "        state, previous_info = env.reset()\n",
    "        score = 0\n",
    "        previous_action = -1\n",
    "        while True:\n",
    "            action, prob, value = estimator.choose_action(state)\n",
    "            next_state, reward, is_terminated, is_truncated, info = env.step(action)\n",
    "            \n",
    "            if action in [3, 4] and action != previous_action:\n",
    "                passiveness_penalty.decrease()\n",
    "            else:\n",
    "                passiveness_penalty.increase()\n",
    "            eliminated += int(reward // 21)\n",
    "            if info.get(\"lives\") < previous_info.get(\"lives\"):\n",
    "                reward -= 50\n",
    "            \n",
    "            score += reward - passiveness_penalty.penalty\n",
    "            estimator.remember(state, action, prob, value, reward, is_terminated or is_truncated)\n",
    "            steps += 1\n",
    "            if steps % STEPS_TO_LEARN == 0:\n",
    "                estimator.learn()\n",
    "                learning_steps += 1\n",
    "            if is_terminated or is_truncated:\n",
    "                break\n",
    "            state = next_state\n",
    "            previous_action = action\n",
    "            previous_info = info\n",
    "        reward_history.append(score)\n",
    "        step_print(f\"{episode}: {round(reward_history[episode], 2)}, eliminated: {eliminated}, mean: {round(np.mean(reward_history), 2)}, learning steps: {learning_steps}\", episode, 1)\n",
    "    return reward_history"
   ]
  },
  {
   "cell_type": "code",
   "execution_count": 119,
   "metadata": {},
   "outputs": [
    {
     "data": {
      "text/plain": [
       "(128,)"
      ]
     },
     "execution_count": 119,
     "metadata": {},
     "output_type": "execute_result"
    }
   ],
   "source": [
    "env.observation_space.shape"
   ]
  },
  {
   "cell_type": "code",
   "execution_count": 15,
   "metadata": {},
   "outputs": [],
   "source": [
    "agent = Agent(env.action_space.n, env.observation_space.shape[0], alpha=0.0002)"
   ]
  },
  {
   "cell_type": "code",
   "execution_count": 16,
   "metadata": {},
   "outputs": [],
   "source": [
    "rewards: list[float] = list()"
   ]
  },
  {
   "cell_type": "code",
   "execution_count": 14,
   "metadata": {},
   "outputs": [
    {
     "name": "stderr",
     "output_type": "stream",
     "text": [
      "A.L.E: Arcade Learning Environment (version 0.8.1+53f58b7)\n",
      "[Powered by Stella]\n"
     ]
    }
   ],
   "source": [
    "env = gym.make(\"ALE/Assault-ram-v5\")"
   ]
  },
  {
   "cell_type": "code",
   "execution_count": null,
   "metadata": {},
   "outputs": [],
   "source": [
    "rewards.extend(ppo_learning(env, agent, 500))"
   ]
  },
  {
   "cell_type": "code",
   "execution_count": 147,
   "metadata": {},
   "outputs": [
    {
     "data": {
      "text/plain": [
       "(-300.0, 458.35)"
      ]
     },
     "execution_count": 147,
     "metadata": {},
     "output_type": "execute_result"
    },
    {
     "data": {
      "image/png": "[encoded data removed]",
      "text/plain": [
       "<Figure size 640x480 with 1 Axes>"
      ]
     },
     "metadata": {},
     "output_type": "display_data"
    }
   ],
   "source": [
    "plt.plot(rewards, \".\")\n",
    "plt.plot(np.poly1d(np.polyfit(range(len(rewards)), rewards, 3))(rewards))\n",
    "plt.axhline(color=\"red\")\n",
    "plt.ylim(bottom=-300)"
   ]
  },
  {
   "cell_type": "code",
   "execution_count": 19,
   "metadata": {},
   "outputs": [],
   "source": [
    "env.close()\n"
   ]
  },
  {
   "cell_type": "code",
   "execution_count": 18,
   "metadata": {},
   "outputs": [],
   "source": [
    "env = gym.make(\"ALE/Assault-ram-v5\", render_mode=\"human\")\n",
    "env.metadata[\"render_fps\"] = 60\n",
    "\n",
    "score_history: list[float] = [0]\n",
    "state = env.reset()[0]\n",
    "\n",
    "while True:\n",
    "    # print(state)\n",
    "    action, _, _ = agent.choose_action(state)\n",
    "    next_state, reward, is_done, is_truncated, _ = env.step(action)\n",
    "    score_history.append(score_history[-1] + reward)\n",
    "\n",
    "    if is_truncated or is_done:\n",
    "        break\n",
    "\n",
    "    state = next_state\n",
    "    env.render()\n",
    "\n",
    "# plt.plot(score_history, \".\")\n",
    "env.close()"
   ]
  }
 ],
 "metadata": {
  "kernelspec": {
   "display_name": "machine_learning",
   "language": "python",
   "name": "python3"
  },
  "language_info": {
   "codemirror_mode": {
    "name": "ipython",
    "version": 3
   },
   "file_extension": ".py",
   "mimetype": "text/x-python",
   "name": "python",
   "nbconvert_exporter": "python",
   "pygments_lexer": "ipython3",
   "version": "3.11.7"
  }
 },
 "nbformat": 4,
 "nbformat_minor": 2
}
