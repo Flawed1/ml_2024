{
 "cells": [
  {
   "cell_type": "markdown",
   "metadata": {},
   "source": [
    "# Знакомство со средой"
   ]
  },
  {
   "cell_type": "code",
   "execution_count": 1,
   "metadata": {},
   "outputs": [],
   "source": [
    "from typing import *\n",
    "import gymnasium as gym\n",
    "import torch\n",
    "import matplotlib.pyplot as plt\n",
    "import numpy as np\n",
    "from numpy.typing import NDArray"
   ]
  },
  {
   "cell_type": "code",
   "execution_count": 2,
   "metadata": {},
   "outputs": [
    {
     "name": "stderr",
     "output_type": "stream",
     "text": [
      "A.L.E: Arcade Learning Environment (version 0.8.1+53f58b7)\n",
      "[Powered by Stella]\n"
     ]
    }
   ],
   "source": [
    "env = gym.make(\"ALE/Assault-ram-v5\", render_mode=\"rgb_array\")"
   ]
  },
  {
   "cell_type": "code",
   "execution_count": 3,
   "metadata": {},
   "outputs": [
    {
     "data": {
      "text/plain": [
       "Discrete(7)"
      ]
     },
     "execution_count": 3,
     "metadata": {},
     "output_type": "execute_result"
    }
   ],
   "source": [
    "env.action_space"
   ]
  },
  {
   "cell_type": "code",
   "execution_count": 4,
   "metadata": {},
   "outputs": [
    {
     "data": {
      "text/plain": [
       "Box(0, 255, (128,), uint8)"
      ]
     },
     "execution_count": 4,
     "metadata": {},
     "output_type": "execute_result"
    }
   ],
   "source": [
    "env.observation_space"
   ]
  },
  {
   "cell_type": "code",
   "execution_count": 5,
   "metadata": {},
   "outputs": [
    {
     "data": {
      "text/plain": [
       "(array([  0,   0,   0,   0,   0,   0,   0,   0,   0,   0,   0,  96, 254,\n",
       "          0,   0,   0,   6, 100, 100, 100,   0,   0,   0,   0,  88, 254,\n",
       "          0,   0, 192,   0, 136, 252,   2,   2,   2,   2, 130, 130, 130,\n",
       "          6, 188, 255,   0,  25,   0, 253,   0, 253, 128,  64, 128, 128,\n",
       "         64, 128,   0,   0,   0,   0,   0,   0,   0,   0,  16,  16,   0,\n",
       "        253,   0, 127, 115, 100,  64,  19,  24,   0, 253,   0,   0,   0,\n",
       "          0,   0,   2, 130,   0, 254,   0, 254,   0, 254,   0, 254,   0,\n",
       "        254, 144,  60,   0,   0,   0,   0,   0,  80, 254,   4, 207,  68,\n",
       "          0,  10,   0,   4,   0,   0, 255, 248,   0,   0,  64,   0, 172,\n",
       "          0,   0,   0,  15, 252, 157, 251,  64, 251, 112, 243], dtype=uint8),\n",
       " {'lives': 4, 'episode_frame_number': 0, 'frame_number': 0})"
      ]
     },
     "execution_count": 5,
     "metadata": {},
     "output_type": "execute_result"
    }
   ],
   "source": [
    "env.reset()"
   ]
  },
  {
   "cell_type": "code",
   "execution_count": 6,
   "metadata": {},
   "outputs": [
    {
     "data": {
      "text/plain": [
       "(array([  0,   0,   0,   0,   0,   0,   0,   0,   0,   0,   0,  96, 254,\n",
       "          0,   0,   0,   6, 100, 100, 100,   0, 198,   0,   0,   0, 253,\n",
       "          0,   0, 192,   0, 136, 252,   2,  66, 194,  66, 194,  51, 194,\n",
       "          6, 188, 255,   0,  25,   0, 253,   0, 253, 128,  64, 128, 128,\n",
       "         64, 128,   0,   0,   0,   0,   0,   0,  28,  28,  17,  17,   0,\n",
       "        253,   0, 127,  51,  36,  64,  19,  24,   0, 253,   0,   0,   0,\n",
       "          0,   0,  66, 194,   0, 254,   0, 254,   0, 254,   0, 254,   0,\n",
       "        254, 144,  60,   0,   0,   0,   0,   0,  80, 254,   4,  50,  72,\n",
       "          0,  10,   0,   8,   0,   0, 255, 248,   0,   0,  64,   0, 154,\n",
       "          0,   0,   0, 248, 251,  15, 252,  64, 251,   0, 245], dtype=uint8),\n",
       " 0.0,\n",
       " False,\n",
       " False,\n",
       " {'lives': 4, 'episode_frame_number': 4, 'frame_number': 4})"
      ]
     },
     "execution_count": 6,
     "metadata": {},
     "output_type": "execute_result"
    }
   ],
   "source": [
    "env.step(env.action_space.sample())"
   ]
  },
  {
   "cell_type": "code",
   "execution_count": 7,
   "metadata": {},
   "outputs": [
    {
     "name": "stderr",
     "output_type": "stream",
     "text": [
      "/home/andrew/Projects/2024_1/machine_learning/lib/python3.11/site-packages/gymnasium/utils/passive_env_checker.py:335: UserWarning: \u001b[33mWARN: No render fps was declared in the environment (env.metadata['render_fps'] is None or not defined), rendering may occur at inconsistent fps.\u001b[0m\n",
      "  logger.warn(\n"
     ]
    },
    {
     "data": {
      "text/plain": [
       "<matplotlib.image.AxesImage at 0x7f88389d61d0>"
      ]
     },
     "execution_count": 7,
     "metadata": {},
     "output_type": "execute_result"
    },
    {
     "data": {
      "image/png": "[encoded data removed]",
      "text/plain": [
       "<Figure size 640x480 with 1 Axes>"
      ]
     },
     "metadata": {},
     "output_type": "display_data"
    }
   ],
   "source": [
    "plt.imshow(env.render())"
   ]
  },
  {
   "cell_type": "code",
   "execution_count": 8,
   "metadata": {},
   "outputs": [],
   "source": [
    "env.close()"
   ]
  },
  {
   "cell_type": "code",
   "execution_count": 2,
   "metadata": {},
   "outputs": [
    {
     "name": "stderr",
     "output_type": "stream",
     "text": [
      "A.L.E: Arcade Learning Environment (version 0.8.1+53f58b7)\n",
      "[Powered by Stella]\n"
     ]
    }
   ],
   "source": [
    "env = gym.make(\"ALE/Assault-ram-v5\")"
   ]
  },
  {
   "cell_type": "code",
   "execution_count": 10,
   "metadata": {},
   "outputs": [],
   "source": [
    "def eps_greedy_policy(n_action: int, eps: float, Q: Any) -> float:\n",
    "    probabilities = torch.ones(n_action) * eps / n_action\n",
    "    best_action = torch.argmax(Q).item()\n",
    "    probabilities[best_action] += 1 - eps\n",
    "    return torch.multinomial(torch.ones(len(probabilities)), 1).item()"
   ]
  },
  {
   "cell_type": "code",
   "execution_count": 11,
   "metadata": {},
   "outputs": [
    {
     "data": {
      "text/plain": [
       "(array([  0,   0,   0,   0,   0,   0,   0,   0,   0,   0,   0,  96, 254,\n",
       "          0,   0,   0,   6, 100, 100, 100,   0,   0,   0,   0,  88, 254,\n",
       "          0,   0, 192,   0, 136, 252,   2,   2,   2,   2, 130, 130, 130,\n",
       "          6, 188, 255,   0,  25,   0, 253,   0, 253, 128,  64, 128, 128,\n",
       "         64, 128,   0,   0,   0,   0,   0,   0,   0,   0,  16,  16,   0,\n",
       "        253,   0, 127, 115, 100,  64,  19,  24,   0, 253,   0,   0,   0,\n",
       "          0,   0,   2, 130,   0, 254,   0, 254,   0, 254,   0, 254,   0,\n",
       "        254, 144,  60,   0,   0,   0,   0,   0,  80, 254,   4, 207,  68,\n",
       "          0,  10,   0,   4,   0,   0, 255, 248,   0,   0,  64,   0, 172,\n",
       "          0,   0,   0,  15, 252, 157, 251,  64, 251, 112, 243], dtype=uint8),\n",
       " {'lives': 4, 'episode_frame_number': 0, 'frame_number': 0})"
      ]
     },
     "execution_count": 11,
     "metadata": {},
     "output_type": "execute_result"
    }
   ],
   "source": [
    "env.reset()"
   ]
  },
  {
   "cell_type": "code",
   "execution_count": 3,
   "metadata": {},
   "outputs": [],
   "source": [
    "def step_print(string: str, iteration: int, step: int) -> None:\n",
    "    if iteration % step == 0:\n",
    "        print(string)"
   ]
  },
  {
   "cell_type": "code",
   "execution_count": 13,
   "metadata": {},
   "outputs": [
    {
     "name": "stdout",
     "output_type": "stream",
     "text": [
      "0\n",
      "10\n",
      "20\n",
      "30\n",
      "40\n",
      "50\n",
      "60\n",
      "70\n",
      "80\n",
      "90\n"
     ]
    }
   ],
   "source": [
    "n_episodes = 100\n",
    "n_action = 7\n",
    "\n",
    "action_count = [0 for _ in range(n_action)]\n",
    "action_total_reward = [0 for _ in range(n_action)]\n",
    "action_avg_reward: list[list[float | None]] = [[] for _ in range(n_action)]\n",
    "\n",
    "path: list[list[tuple[NDArray[np.uint8], int]]] = list() # state, action\n",
    "rewards: list[float] = list()\n",
    "\n",
    "eps: Final[float] = 0.2\n",
    "Q = torch.zeros(n_action)\n",
    "\n",
    "for episode in range(n_episodes):\n",
    "    path.append([])\n",
    "    env.reset()\n",
    "    total_reward = 0.\n",
    "    while True:\n",
    "        action = eps_greedy_policy(n_action, eps, Q)\n",
    "        state, reward, is_terminated, is_truncated, _ = env.step(action)\n",
    "\n",
    "        action_count[action] += 1\n",
    "        action_total_reward[action] += reward\n",
    "        total_reward += reward\n",
    "\n",
    "        Q[action] = action_total_reward[action] / action_count[action]\n",
    "        for i in range(n_action):\n",
    "            if action_count[i] != 0:\n",
    "                action_avg_reward[i].append(action_total_reward[i] / action_count[i])\n",
    "            else:\n",
    "                action_avg_reward[i].append(None)\n",
    "        path[-1].append([state, action])\n",
    "        if is_terminated or is_truncated:\n",
    "            break\n",
    "    step_print(episode, episode, 10)\n",
    "    rewards.append(total_reward)"
   ]
  },
  {
   "cell_type": "code",
   "execution_count": 14,
   "metadata": {},
   "outputs": [
    {
     "data": {
      "text/plain": [
       "tensor([0.4707, 0.4310, 0.3700, 0.4219, 0.3938, 0.4076, 0.4343])"
      ]
     },
     "execution_count": 14,
     "metadata": {},
     "output_type": "execute_result"
    }
   ],
   "source": [
    "Q"
   ]
  },
  {
   "cell_type": "code",
   "execution_count": 15,
   "metadata": {},
   "outputs": [
    {
     "data": {
      "text/plain": [
       "([8165, 8234, 8117, 8064, 8212, 8295, 8027],\n",
       " [3843.0, 3549.0, 3003.0, 3402.0, 3234.0, 3381.0, 3486.0])"
      ]
     },
     "execution_count": 15,
     "metadata": {},
     "output_type": "execute_result"
    }
   ],
   "source": [
    "action_count, action_total_reward"
   ]
  },
  {
   "cell_type": "code",
   "execution_count": null,
   "metadata": {},
   "outputs": [],
   "source": [
    "path"
   ]
  },
  {
   "cell_type": "code",
   "execution_count": 17,
   "metadata": {},
   "outputs": [
    {
     "data": {
      "text/plain": [
       "[315.0,\n",
       " 210.0,\n",
       " 231.0,\n",
       " 378.0,\n",
       " 189.0,\n",
       " 294.0,\n",
       " 315.0,\n",
       " 189.0,\n",
       " 273.0,\n",
       " 126.0,\n",
       " 189.0,\n",
       " 189.0,\n",
       " 189.0,\n",
       " 231.0,\n",
       " 231.0,\n",
       " 189.0,\n",
       " 231.0,\n",
       " 168.0,\n",
       " 210.0,\n",
       " 126.0,\n",
       " 378.0,\n",
       " 231.0,\n",
       " 105.0,\n",
       " 189.0,\n",
       " 168.0,\n",
       " 273.0,\n",
       " 399.0,\n",
       " 189.0,\n",
       " 189.0,\n",
       " 294.0,\n",
       " 315.0,\n",
       " 315.0,\n",
       " 189.0,\n",
       " 315.0,\n",
       " 231.0,\n",
       " 294.0,\n",
       " 189.0,\n",
       " 189.0,\n",
       " 189.0,\n",
       " 336.0,\n",
       " 315.0,\n",
       " 336.0,\n",
       " 336.0,\n",
       " 147.0,\n",
       " 231.0,\n",
       " 336.0,\n",
       " 189.0,\n",
       " 189.0,\n",
       " 189.0,\n",
       " 210.0,\n",
       " 147.0,\n",
       " 189.0,\n",
       " 231.0,\n",
       " 294.0,\n",
       " 273.0,\n",
       " 294.0,\n",
       " 231.0,\n",
       " 336.0,\n",
       " 105.0,\n",
       " 357.0,\n",
       " 168.0,\n",
       " 189.0,\n",
       " 147.0,\n",
       " 189.0,\n",
       " 231.0,\n",
       " 231.0,\n",
       " 189.0,\n",
       " 273.0,\n",
       " 315.0,\n",
       " 168.0,\n",
       " 189.0,\n",
       " 189.0,\n",
       " 189.0,\n",
       " 273.0,\n",
       " 294.0,\n",
       " 189.0,\n",
       " 189.0,\n",
       " 378.0,\n",
       " 168.0,\n",
       " 294.0,\n",
       " 147.0,\n",
       " 252.0,\n",
       " 189.0,\n",
       " 252.0,\n",
       " 168.0,\n",
       " 399.0,\n",
       " 399.0,\n",
       " 231.0,\n",
       " 210.0,\n",
       " 315.0,\n",
       " 252.0,\n",
       " 189.0,\n",
       " 273.0,\n",
       " 273.0,\n",
       " 357.0,\n",
       " 168.0,\n",
       " 189.0,\n",
       " 189.0,\n",
       " 336.0,\n",
       " 273.0]"
      ]
     },
     "execution_count": 17,
     "metadata": {},
     "output_type": "execute_result"
    }
   ],
   "source": [
    "rewards"
   ]
  },
  {
   "cell_type": "code",
   "execution_count": 18,
   "metadata": {},
   "outputs": [
    {
     "data": {
      "text/plain": [
       "'Точечная оценка: 238.98'"
      ]
     },
     "execution_count": 18,
     "metadata": {},
     "output_type": "execute_result"
    }
   ],
   "source": [
    "rewards_mean = np.mean(rewards)\n",
    "f\"Точечная оценка: {rewards_mean}\""
   ]
  },
  {
   "cell_type": "code",
   "execution_count": 19,
   "metadata": {},
   "outputs": [
    {
     "data": {
      "text/plain": [
       "71.31010383592853"
      ]
     },
     "execution_count": 19,
     "metadata": {},
     "output_type": "execute_result"
    }
   ],
   "source": [
    "unbiased_variance = np.sqrt(sum(np.power(np.array(rewards) - np.mean(rewards), 2)) / (len(rewards) - 1))\n",
    "unbiased_variance"
   ]
  },
  {
   "cell_type": "code",
   "execution_count": 20,
   "metadata": {},
   "outputs": [],
   "source": [
    "t = 0.99\n",
    "t_y = 2.627\n",
    "delta = t_y * unbiased_variance / np.sqrt(len(rewards))"
   ]
  },
  {
   "cell_type": "code",
   "execution_count": 21,
   "metadata": {},
   "outputs": [
    {
     "data": {
      "text/plain": [
       "'Интервальная оценка: (220.24683572230157, 257.7131642776984)'"
      ]
     },
     "execution_count": 21,
     "metadata": {},
     "output_type": "execute_result"
    }
   ],
   "source": [
    "f\"Интервальная оценка: ({rewards_mean - delta}, {rewards_mean + delta})\""
   ]
  },
  {
   "cell_type": "markdown",
   "metadata": {},
   "source": [
    "# Модель 1"
   ]
  },
  {
   "cell_type": "code",
   "execution_count": 32,
   "metadata": {},
   "outputs": [],
   "source": [
    "import torch.nn as nn\n",
    "import torch.nn.functional as F"
   ]
  },
  {
   "cell_type": "code",
   "execution_count": 33,
   "metadata": {},
   "outputs": [],
   "source": [
    "env = gym.make(\"ALE/Assault-ram-v5\")"
   ]
  },
  {
   "cell_type": "code",
   "execution_count": 34,
   "metadata": {},
   "outputs": [],
   "source": [
    "class ActorCriticModel(nn.Module):\n",
    "    def __init__(self, n_input: int, n_output: int, n_hidden: List[int], device: str = \"cpu\") -> None:\n",
    "        super(ActorCriticModel, self).__init__()\n",
    "        self.fc1 = nn.Linear(n_input, n_hidden[0], device=device)\n",
    "        self.fc2 = nn.Linear(n_hidden[0], n_hidden[1], device=device)\n",
    "        self.action = nn.Linear(n_hidden[1], n_output, device=device)\n",
    "        self.value = nn.Linear(n_hidden[1], 1, device=device)\n",
    "        self.device = device\n",
    "    \n",
    "    def forward(self, x: int) -> tuple[torch.Tensor, torch.Tensor]:\n",
    "        x = torch.Tensor(x)\n",
    "        x = F.relu(self.fc1(x))\n",
    "        x = F.relu(self.fc2(x))\n",
    "        action_probs = F.softmax(self.action(x), dim=-1).to(self.device)\n",
    "        state_value = self.value(x)\n",
    "        return action_probs, state_value"
   ]
  },
  {
   "cell_type": "code",
   "execution_count": 35,
   "metadata": {},
   "outputs": [],
   "source": [
    "class PolicyNetwork:\n",
    "    def __init__(self, n_state: int, n_actions: int, n_hidden: int, lr: float = 0.001) -> None:\n",
    "        self.device = \"cuda:0\" if torch.cuda.is_available() else \"cpu\"\n",
    "        self.model = ActorCriticModel(n_state, n_actions, n_hidden, self.device)\n",
    "        self.optimizer = torch.optim.Adam(self.model.parameters(), lr)\n",
    "        self.scheduler = torch.optim.lr_scheduler.StepLR(self.optimizer, step_size=10, gamma=0.995)\n",
    "    \n",
    "    def predict(self, s: Any) -> Any:\n",
    "        return self.model(torch.tensor(s, dtype=torch.float, device=self.device))\n",
    "    \n",
    "    def update(self, returns: torch.Tensor, log_probs, state_values) -> None:\n",
    "        returns = returns.to(self.device)\n",
    "        loss = 0\n",
    "        for log_prob, value, Gt in zip(log_probs, state_values, returns):\n",
    "            advantage = (Gt - value.item()).to(self.device)\n",
    "            # print((-log_prob).get_device(), advantage.get_device())\n",
    "            \n",
    "            policy_loss = -log_prob * advantage\n",
    "            value_loss = F.smooth_l1_loss(value, Gt)\n",
    "            loss += policy_loss + value_loss\n",
    "        self.optimizer.zero_grad()\n",
    "        loss.backward()\n",
    "        self.optimizer.step()\n",
    "    \n",
    "    def get_action(self, s) -> tuple:\n",
    "        action_probs, state_value = self.predict(s)\n",
    "        state_value = state_value.to(self.device)\n",
    "        action = torch.multinomial(action_probs, 1).item()\n",
    "        log_prob = torch.log(action_probs[action]).to(self.device)\n",
    "        return action, log_prob, state_value\n",
    "\n",
    "    def save(self, filename: str) -> None:\n",
    "        torch.save(self, filename)\n",
    "    \n",
    "    @classmethod\n",
    "    def load(cls, filename: str) -> Self:\n",
    "        return torch.load(filename)"
   ]
  },
  {
   "cell_type": "code",
   "execution_count": 46,
   "metadata": {},
   "outputs": [],
   "source": [
    "class PassivenessPenalty:\n",
    "    def __init__(self, coeff: float, delay: int) -> None:\n",
    "        self._coeff = coeff\n",
    "        self._delay = delay\n",
    "        self._current_delay = 0\n",
    "        self._penalty: float = 0.\n",
    "    \n",
    "    def increase(self) -> None:\n",
    "        if self._current_delay < self._delay:\n",
    "            self._current_delay += 1\n",
    "            return\n",
    "        self._penalty += self._penalty * self._coeff\n",
    "    \n",
    "    def decrease(self) -> None:\n",
    "        self._penalty = 0.\n",
    "    \n",
    "    @property\n",
    "    def penalty(self) -> float:\n",
    "        return self._penalty"
   ]
  },
  {
   "cell_type": "code",
   "execution_count": 52,
   "metadata": {},
   "outputs": [],
   "source": [
    "def actor_critic(env: gym.Env, estimator: PolicyNetwork, n_episode: int, gamma: float = 1.0) -> list[float]:\n",
    "    passiveness_penalty = PassivenessPenalty(0.1, 5)\n",
    "    total_reward_episode = list()\n",
    "    success_score = 200\n",
    "    for episode in range(n_episode):\n",
    "        total_penalty = 0. # debug\n",
    "        total_reward_episode.append(0)\n",
    "        log_probs = []\n",
    "        rewards = []\n",
    "        state_values = []\n",
    "\n",
    "        state = env.reset(seed=0)[0]\n",
    "        while True:\n",
    "            #one_hot_state = [0] * 48\n",
    "            #one_hot_state[state] = 1\n",
    "            # print(state)\n",
    "            action, log_prob, state_value = estimator.get_action(state)\n",
    "            next_state, reward, is_done, is_truncated, _ = env.step(action)\n",
    "\n",
    "            if action not in [3, 4]:\n",
    "                passiveness_penalty.increase()\n",
    "            else:\n",
    "                passiveness_penalty.decrease()\n",
    "\n",
    "            total_reward_episode[episode] += reward - passiveness_penalty.penalty\n",
    "            total_penalty += passiveness_penalty.penalty\n",
    "            log_probs.append(log_prob)\n",
    "            state_values.append(state_value)\n",
    "            rewards.append(reward)\n",
    "\n",
    "            if is_truncated or is_done:\n",
    "                returns = []\n",
    "                Gt = 0\n",
    "                pw = 0\n",
    "                for reward in rewards[::-1]:\n",
    "                    Gt += gamma ** pw * reward\n",
    "                    returns.append(Gt)\n",
    "                    pw += 1\n",
    "                returns = returns[::-1]\n",
    "                returns_amount = len(returns)\n",
    "                returns = torch.tensor(returns)\n",
    "                returns = (returns - returns.mean()) / (returns.std() + 1e-9)\n",
    "                returns.resize_(returns_amount, 1)\n",
    "                estimator.update(returns, log_probs, state_values)\n",
    "                if total_reward_episode[episode] >= success_score:\n",
    "                    estimator.scheduler.step()\n",
    "                break\n",
    "\n",
    "            state = next_state\n",
    "        step_print(f\"{episode}: {total_reward_episode[episode]}, mean: {round(np.mean(total_reward_episode), 2)}, penalty: {total_penalty}, lr: {estimator.optimizer.param_groups[0]['lr']}\", episode, 1)\n",
    "    return total_reward_episode"
   ]
  },
  {
   "cell_type": "code",
   "execution_count": 66,
   "metadata": {},
   "outputs": [],
   "source": [
    "estimator = PolicyNetwork(env.observation_space.shape[0], env.action_space.n, [256, 32], 0.00004)"
   ]
  },
  {
   "cell_type": "code",
   "execution_count": 67,
   "metadata": {},
   "outputs": [],
   "source": [
    "n_episodes = 300\n",
    "gamma = .9"
   ]
  },
  {
   "cell_type": "code",
   "execution_count": 54,
   "metadata": {},
   "outputs": [],
   "source": [
    "rewards: list[float] = list()"
   ]
  },
  {
   "cell_type": "code",
   "execution_count": 68,
   "metadata": {},
   "outputs": [
    {
     "name": "stdout",
     "output_type": "stream",
     "text": [
      "0: 0.0, mean: 0.0, penalty: 0.0, success score: 200, lr: 4e-05\n",
      "1: 0.0, mean: 0.0, penalty: 0.0, success score: 200, lr: 4e-05\n",
      "2: 21.0, mean: 7.0, penalty: 0.0, success score: 200, lr: 4e-05\n",
      "3: 0.0, mean: 5.25, penalty: 0.0, success score: 200, lr: 4e-05\n",
      "4: 0.0, mean: 4.2, penalty: 0.0, success score: 200, lr: 4e-05\n",
      "5: 0.0, mean: 3.5, penalty: 0.0, success score: 200, lr: 4e-05\n",
      "6: 21.0, mean: 6.0, penalty: 0.0, success score: 200, lr: 4e-05\n",
      "7: 0.0, mean: 5.25, penalty: 0.0, success score: 200, lr: 4e-05\n",
      "8: 0.0, mean: 4.67, penalty: 0.0, success score: 200, lr: 4e-05\n",
      "9: 21.0, mean: 6.3, penalty: 0.0, success score: 200, lr: 4e-05\n",
      "10: 21.0, mean: 7.64, penalty: 0.0, success score: 200, lr: 4e-05\n",
      "11: 21.0, mean: 8.75, penalty: 0.0, success score: 200, lr: 4e-05\n",
      "12: 0.0, mean: 8.08, penalty: 0.0, success score: 200, lr: 4e-05\n",
      "13: 21.0, mean: 9.0, penalty: 0.0, success score: 200, lr: 4e-05\n",
      "14: 21.0, mean: 9.8, penalty: 0.0, success score: 200, lr: 4e-05\n",
      "15: 63.0, mean: 13.12, penalty: 0.0, success score: 200, lr: 4e-05\n",
      "16: 21.0, mean: 13.59, penalty: 0.0, success score: 200, lr: 4e-05\n",
      "17: 21.0, mean: 14.0, penalty: 0.0, success score: 200, lr: 4e-05\n",
      "18: 21.0, mean: 14.37, penalty: 0.0, success score: 200, lr: 4e-05\n",
      "19: 105.0, mean: 18.9, penalty: 0.0, success score: 200, lr: 4e-05\n",
      "20: 168.0, mean: 26.0, penalty: 0.0, success score: 200, lr: 4e-05\n",
      "21: 126.0, mean: 30.55, penalty: 0.0, success score: 200, lr: 4e-05\n",
      "22: 84.0, mean: 32.87, penalty: 0.0, success score: 200, lr: 4e-05\n"
     ]
    }
   ],
   "source": [
    "rewards.extend(actor_critic(env, estimator, n_episodes, gamma))"
   ]
  },
  {
   "cell_type": "code",
   "execution_count": 15,
   "metadata": {},
   "outputs": [
    {
     "data": {
      "text/plain": [
       "[<matplotlib.lines.Line2D at 0x7f7e2ed83f10>]"
      ]
     },
     "execution_count": 15,
     "metadata": {},
     "output_type": "execute_result"
    },
    {
     "data": {
      "image/png": "[encoded data removed]",
      "text/plain": [
       "<Figure size 640x480 with 1 Axes>"
      ]
     },
     "metadata": {},
     "output_type": "display_data"
    }
   ],
   "source": [
    "plt.plot(rewards, \".\")"
   ]
  },
  {
   "cell_type": "code",
   "execution_count": 16,
   "metadata": {},
   "outputs": [],
   "source": [
    "env = gym.make(\"ALE/Assault-ram-v5\", render_mode=\"human\")\n",
    "env.metadata[\"render_fps\"] = 30\n",
    "\n",
    "score_history: list[float] = [0]\n",
    "state = env.reset()[0]\n",
    "\n",
    "while True:\n",
    "    # print(state)\n",
    "    action, _, _ = estimator.get_action(state)\n",
    "    next_state, reward, is_done, is_truncated, _ = env.step(action)\n",
    "    score_history.append(score_history[-1] + reward)\n",
    "\n",
    "    if is_truncated or is_done:\n",
    "        break\n",
    "\n",
    "    state = next_state\n",
    "    env.render()\n",
    "\n",
    "# plt.plot(score_history, \".\")\n",
    "env.close()"
   ]
  },
  {
   "cell_type": "markdown",
   "metadata": {},
   "source": [
    "На данный момент эта модель стремится к *\"ленивой\"* стратегии: корабль прячется в угол, стоит на месте и постоянно стреляет."
   ]
  },
  {
   "cell_type": "code",
   "execution_count": 14,
   "metadata": {},
   "outputs": [],
   "source": [
    "# estimator.save(\"actor.pt\")"
   ]
  }
 ],
 "metadata": {
  "kernelspec": {
   "display_name": "machine_learning",
   "language": "python",
   "name": "python3"
  },
  "language_info": {
   "codemirror_mode": {
    "name": "ipython",
    "version": 3
   },
   "file_extension": ".py",
   "mimetype": "text/x-python",
   "name": "python",
   "nbconvert_exporter": "python",
   "pygments_lexer": "ipython3",
   "version": "3.11.7"
  }
 },
 "nbformat": 4,
 "nbformat_minor": 2
}
